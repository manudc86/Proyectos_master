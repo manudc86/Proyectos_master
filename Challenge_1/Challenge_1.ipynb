{
 "cells": [
  {
   "cell_type": "markdown",
   "id": "4208aa5c",
   "metadata": {},
   "source": [
    "# Descripción corta del challenge\n",
    "\n",
    "Se van a estudiar las predicciones que realiza un software (COMPAS) sobre si un persona que ha cometido un delito tiene riesgo de reincidencia o no. Queremos cercionarnos de que no hay un sesgo hacia ningún grupo específico de la población en las predicciones de este software. Lo haremos comparando, para un conjunto de individuos, datos sobre las predicciones del software, y datos sobre si realmente esas personas acabaron reincidiendo o no.\n",
    "\n",
    "Para ello, \n",
    "- Se realizará un análisis exploratorio de datos, se depurarán los mismos y se descubrirán patrones interesantes\n",
    "- Se definirá un clasificador para poder comparar de forma justa los datos de las predicciones con los datos reales.\n",
    "- Se analizarán las matrices de confusión desde diferentes perspectivas, para averiguar si hay sesgo en el software de predicción hacia algún subgrupo de la población"
   ]
  },
  {
   "cell_type": "markdown",
   "id": "7f9106b2",
   "metadata": {
    "tags": []
   },
   "source": [
    "# Contexto\n",
    "Cada día es más frecuente la introducción de la ciencia de datos en el ámbito del derecho y la justicia.\n",
    "\n",
    "Un ejemplo bien conocido de ello es el sistema COMPAS (Correctional offender management profiling for alternative sanctions) que se usa en varios estados de los Estados Unidos para hacer una evaluación del riesgo de reincidencia de las personas detenidas.\n",
    "\n",
    "Una breve descripción del sistema puede verse en la página https://en.wikipedia.org/wiki/COMPAS_(software).\n",
    "\n",
    "En este caso, proporciona un conjunto de datos en bruto con información de las evaluaciones (fichero compas-scores.csv) y la historia legal de unos 11 000 casos en los años 2013 y 2014 (se trata de uno de los ficheros originales utilizados en un análisis independiente del sistema COMPAS llevado a cabo por ProPublica, disponible en internet).\n",
    "\n",
    "URL del análisis de ProPublica: https://github.com/propublica/compas-analysis/"
   ]
  },
  {
   "cell_type": "markdown",
   "id": "fdcd2d84",
   "metadata": {},
   "source": [
    "Aunque el conjunto de datos contiene información adicional, para resolver las cuestiones planteadas en este caso son necesarios (aparte de algunos campos cuyo nombre es autoexplicativo) los siguientes campos:\n",
    "- “compas_screening_date”: se refiere a la fecha en la que se realizó la evaluación\n",
    "- “decile_score”: es un número, de 1 a 10 que indica el riesgo de reincidencia en general (a mayor riesgo, mayor número).\n",
    "- “v_decile_score”: es un número de 1 a 10, potencialmente distinto del anterior, que indica el riesgo de reincidencia en delitos violentos. Al hacer la evaluación de un caso en COMPAS, se generan las dos puntuaciones (entre otras cosas).\n",
    "- “is_recid”: indicación de si la persona es reincidente (en el tiempo en que se recogen datos: no hay información de si la persona es reincidente más allá de ciertas fechas, y es importante tener esto en cuenta para asegurarse de hacer comparaciones homogéneas).\n",
    "- “r_offense_date”: fecha en la que se cometió el delito por el que se considera reincidente a la persona.\n",
    "- “is_violent_recid”: indicación de si la persona es reincidente en un delito con violencia (las mismas consideraciones sobre fechas que para “is_recid” aplican aquí)\".\n",
    "- “vr_offense_date”: fecha en la que se cometió el delito violento que da lugar a la consideración de reincidente."
   ]
  },
  {
   "cell_type": "markdown",
   "id": "46f7eff0",
   "metadata": {},
   "source": [
    "# Se pide\n",
    "1. Cargar los datos y realizar un análisis exploratorio y una evaluación de la calidad de los datos necesarios para el resto del caso. Específicamente, evaluar la integridad, validez y actualidad de los datos y proponer estrategias de mitigación de los posibles problemas encontrados.\n",
    "2. ¿Son los campos “is_recid” e “is_violent_recid” en este conjunto de datos adecuados para evaluar la precisión de las estimaciones de riesgo generadas por el sistema COMPAS? Si no es así, definir y calcular una feature que sí lo sea.\n",
    "3. El umbral para establecer medidas preventivas de la reincidencia es de 7 en adelante. Dado este umbral, generar una tabla de contingencia, explicando qué caso se considera como “positivo” (y, por lo tanto, cuáles son los errores de tipo I y los errores de tipo II).\n",
    "4. El sistema asigna, de media, evaluaciones de riesgo más altas a los hombres que a las mujeres, y a las personas de raza afroamericana que a las de raza caucásica. Sin embargo, también las tasas de reincidencia son más altas para esos colectivos, aunque no está claro que la asignación de riesgo sea “justa” o no. Mostrar estas diferencias mediante representaciones gráficas y utilizarlas para analizar si la asignación de evaluaciones es justa o no.\n",
    "5. ¿Para qué tipo de riesgos, el de delitos generales o el de delitos violentos, tiene el sistema más capacidad predictiva?"
   ]
  },
  {
   "cell_type": "markdown",
   "id": "7f0b64ee",
   "metadata": {},
   "source": [
    " # RESOLUCIÓN"
   ]
  },
  {
   "cell_type": "markdown",
   "id": "89c91e91",
   "metadata": {
    "tags": []
   },
   "source": [
    "## Punto 1\n",
    "**Cargar los datos y realizar un análisis exploratorio y una evaluación de la calidad de los datos necesarios para el resto del caso. Específicamente, evaluar la integridad, validez y actualidad de los datos y proponer estrategias de mitigación de los posibles problemas encontrados.**"
   ]
  },
  {
   "cell_type": "markdown",
   "id": "12eb1600",
   "metadata": {},
   "source": [
    "### Transformaciones iniciales"
   ]
  },
  {
   "cell_type": "markdown",
   "id": "5ddcb65f",
   "metadata": {},
   "source": [
    "En primer lugar, vamos a cargar los datos y hacer varias transformaciones preliminares sobre el dataframe:"
   ]
  },
  {
   "cell_type": "code",
   "execution_count": 1,
   "id": "0980db60",
   "metadata": {},
   "outputs": [],
   "source": [
    "import pandas as pd\n",
    "import numpy as np"
   ]
  },
  {
   "cell_type": "code",
   "execution_count": 2,
   "id": "a0008a94",
   "metadata": {},
   "outputs": [],
   "source": [
    "# Cargamos el fichero\n",
    "\n",
    "historiales_raw = pd.read_csv('compas-scores.csv', sep=',')"
   ]
  },
  {
   "cell_type": "code",
   "execution_count": 3,
   "id": "dcd45d4b",
   "metadata": {},
   "outputs": [
    {
     "data": {
      "text/html": [
       "<div>\n",
       "<style scoped>\n",
       "    .dataframe tbody tr th:only-of-type {\n",
       "        vertical-align: middle;\n",
       "    }\n",
       "\n",
       "    .dataframe tbody tr th {\n",
       "        vertical-align: top;\n",
       "    }\n",
       "\n",
       "    .dataframe thead th {\n",
       "        text-align: right;\n",
       "    }\n",
       "</style>\n",
       "<table border=\"1\" class=\"dataframe\">\n",
       "  <thead>\n",
       "    <tr style=\"text-align: right;\">\n",
       "      <th></th>\n",
       "      <th>id</th>\n",
       "      <th>name</th>\n",
       "      <th>first</th>\n",
       "      <th>last</th>\n",
       "      <th>compas_screening_date</th>\n",
       "      <th>sex</th>\n",
       "      <th>dob</th>\n",
       "      <th>age</th>\n",
       "      <th>age_cat</th>\n",
       "      <th>race</th>\n",
       "      <th>...</th>\n",
       "      <th>vr_offense_date</th>\n",
       "      <th>vr_charge_desc</th>\n",
       "      <th>v_type_of_assessment</th>\n",
       "      <th>v_decile_score</th>\n",
       "      <th>v_score_text</th>\n",
       "      <th>v_screening_date</th>\n",
       "      <th>type_of_assessment</th>\n",
       "      <th>decile_score.1</th>\n",
       "      <th>score_text</th>\n",
       "      <th>screening_date</th>\n",
       "    </tr>\n",
       "  </thead>\n",
       "  <tbody>\n",
       "    <tr>\n",
       "      <th>0</th>\n",
       "      <td>1</td>\n",
       "      <td>miguel hernandez</td>\n",
       "      <td>miguel</td>\n",
       "      <td>hernandez</td>\n",
       "      <td>2013-08-14</td>\n",
       "      <td>Male</td>\n",
       "      <td>1947-04-18</td>\n",
       "      <td>69</td>\n",
       "      <td>Greater than 45</td>\n",
       "      <td>Other</td>\n",
       "      <td>...</td>\n",
       "      <td>NaN</td>\n",
       "      <td>NaN</td>\n",
       "      <td>Risk of Violence</td>\n",
       "      <td>1</td>\n",
       "      <td>Low</td>\n",
       "      <td>2013-08-14</td>\n",
       "      <td>Risk of Recidivism</td>\n",
       "      <td>1</td>\n",
       "      <td>Low</td>\n",
       "      <td>2013-08-14</td>\n",
       "    </tr>\n",
       "    <tr>\n",
       "      <th>1</th>\n",
       "      <td>2</td>\n",
       "      <td>michael ryan</td>\n",
       "      <td>michael</td>\n",
       "      <td>ryan</td>\n",
       "      <td>2014-12-31</td>\n",
       "      <td>Male</td>\n",
       "      <td>1985-02-06</td>\n",
       "      <td>31</td>\n",
       "      <td>25 - 45</td>\n",
       "      <td>Caucasian</td>\n",
       "      <td>...</td>\n",
       "      <td>NaN</td>\n",
       "      <td>NaN</td>\n",
       "      <td>Risk of Violence</td>\n",
       "      <td>2</td>\n",
       "      <td>Low</td>\n",
       "      <td>2014-12-31</td>\n",
       "      <td>Risk of Recidivism</td>\n",
       "      <td>5</td>\n",
       "      <td>Medium</td>\n",
       "      <td>2014-12-31</td>\n",
       "    </tr>\n",
       "    <tr>\n",
       "      <th>2</th>\n",
       "      <td>3</td>\n",
       "      <td>kevon dixon</td>\n",
       "      <td>kevon</td>\n",
       "      <td>dixon</td>\n",
       "      <td>2013-01-27</td>\n",
       "      <td>Male</td>\n",
       "      <td>1982-01-22</td>\n",
       "      <td>34</td>\n",
       "      <td>25 - 45</td>\n",
       "      <td>African-American</td>\n",
       "      <td>...</td>\n",
       "      <td>2013-07-05</td>\n",
       "      <td>Felony Battery (Dom Strang)</td>\n",
       "      <td>Risk of Violence</td>\n",
       "      <td>1</td>\n",
       "      <td>Low</td>\n",
       "      <td>2013-01-27</td>\n",
       "      <td>Risk of Recidivism</td>\n",
       "      <td>3</td>\n",
       "      <td>Low</td>\n",
       "      <td>2013-01-27</td>\n",
       "    </tr>\n",
       "    <tr>\n",
       "      <th>3</th>\n",
       "      <td>4</td>\n",
       "      <td>ed philo</td>\n",
       "      <td>ed</td>\n",
       "      <td>philo</td>\n",
       "      <td>2013-04-14</td>\n",
       "      <td>Male</td>\n",
       "      <td>1991-05-14</td>\n",
       "      <td>24</td>\n",
       "      <td>Less than 25</td>\n",
       "      <td>African-American</td>\n",
       "      <td>...</td>\n",
       "      <td>NaN</td>\n",
       "      <td>NaN</td>\n",
       "      <td>Risk of Violence</td>\n",
       "      <td>3</td>\n",
       "      <td>Low</td>\n",
       "      <td>2013-04-14</td>\n",
       "      <td>Risk of Recidivism</td>\n",
       "      <td>4</td>\n",
       "      <td>Low</td>\n",
       "      <td>2013-04-14</td>\n",
       "    </tr>\n",
       "    <tr>\n",
       "      <th>4</th>\n",
       "      <td>5</td>\n",
       "      <td>marcu brown</td>\n",
       "      <td>marcu</td>\n",
       "      <td>brown</td>\n",
       "      <td>2013-01-13</td>\n",
       "      <td>Male</td>\n",
       "      <td>1993-01-21</td>\n",
       "      <td>23</td>\n",
       "      <td>Less than 25</td>\n",
       "      <td>African-American</td>\n",
       "      <td>...</td>\n",
       "      <td>NaN</td>\n",
       "      <td>NaN</td>\n",
       "      <td>Risk of Violence</td>\n",
       "      <td>6</td>\n",
       "      <td>Medium</td>\n",
       "      <td>2013-01-13</td>\n",
       "      <td>Risk of Recidivism</td>\n",
       "      <td>8</td>\n",
       "      <td>High</td>\n",
       "      <td>2013-01-13</td>\n",
       "    </tr>\n",
       "  </tbody>\n",
       "</table>\n",
       "<p>5 rows × 47 columns</p>\n",
       "</div>"
      ],
      "text/plain": [
       "   id              name    first       last compas_screening_date   sex  \\\n",
       "0   1  miguel hernandez   miguel  hernandez            2013-08-14  Male   \n",
       "1   2      michael ryan  michael       ryan            2014-12-31  Male   \n",
       "2   3       kevon dixon    kevon      dixon            2013-01-27  Male   \n",
       "3   4          ed philo       ed      philo            2013-04-14  Male   \n",
       "4   5       marcu brown    marcu      brown            2013-01-13  Male   \n",
       "\n",
       "          dob  age          age_cat              race  ...  vr_offense_date  \\\n",
       "0  1947-04-18   69  Greater than 45             Other  ...              NaN   \n",
       "1  1985-02-06   31          25 - 45         Caucasian  ...              NaN   \n",
       "2  1982-01-22   34          25 - 45  African-American  ...       2013-07-05   \n",
       "3  1991-05-14   24     Less than 25  African-American  ...              NaN   \n",
       "4  1993-01-21   23     Less than 25  African-American  ...              NaN   \n",
       "\n",
       "                vr_charge_desc  v_type_of_assessment  v_decile_score  \\\n",
       "0                          NaN      Risk of Violence               1   \n",
       "1                          NaN      Risk of Violence               2   \n",
       "2  Felony Battery (Dom Strang)      Risk of Violence               1   \n",
       "3                          NaN      Risk of Violence               3   \n",
       "4                          NaN      Risk of Violence               6   \n",
       "\n",
       "   v_score_text  v_screening_date  type_of_assessment decile_score.1  \\\n",
       "0           Low        2013-08-14  Risk of Recidivism              1   \n",
       "1           Low        2014-12-31  Risk of Recidivism              5   \n",
       "2           Low        2013-01-27  Risk of Recidivism              3   \n",
       "3           Low        2013-04-14  Risk of Recidivism              4   \n",
       "4        Medium        2013-01-13  Risk of Recidivism              8   \n",
       "\n",
       "  score_text screening_date  \n",
       "0        Low     2013-08-14  \n",
       "1     Medium     2014-12-31  \n",
       "2        Low     2013-01-27  \n",
       "3        Low     2013-04-14  \n",
       "4       High     2013-01-13  \n",
       "\n",
       "[5 rows x 47 columns]"
      ]
     },
     "execution_count": 3,
     "metadata": {},
     "output_type": "execute_result"
    }
   ],
   "source": [
    "historiales_raw.head()"
   ]
  },
  {
   "cell_type": "code",
   "execution_count": 4,
   "id": "d7d6eee0",
   "metadata": {
    "tags": []
   },
   "outputs": [
    {
     "data": {
      "text/plain": [
       "array(['id', 'name', 'first', 'last', 'compas_screening_date', 'sex',\n",
       "       'dob', 'age', 'age_cat', 'race', 'juv_fel_count', 'decile_score',\n",
       "       'juv_misd_count', 'juv_other_count', 'priors_count',\n",
       "       'days_b_screening_arrest', 'c_jail_in', 'c_jail_out',\n",
       "       'c_case_number', 'c_offense_date', 'c_arrest_date',\n",
       "       'c_days_from_compas', 'c_charge_degree', 'c_charge_desc',\n",
       "       'is_recid', 'num_r_cases', 'r_case_number', 'r_charge_degree',\n",
       "       'r_days_from_arrest', 'r_offense_date', 'r_charge_desc',\n",
       "       'r_jail_in', 'r_jail_out', 'is_violent_recid', 'num_vr_cases',\n",
       "       'vr_case_number', 'vr_charge_degree', 'vr_offense_date',\n",
       "       'vr_charge_desc', 'v_type_of_assessment', 'v_decile_score',\n",
       "       'v_score_text', 'v_screening_date', 'type_of_assessment',\n",
       "       'decile_score.1', 'score_text', 'screening_date'], dtype=object)"
      ]
     },
     "execution_count": 4,
     "metadata": {},
     "output_type": "execute_result"
    }
   ],
   "source": [
    "historiales_raw.columns.values"
   ]
  },
  {
   "cell_type": "markdown",
   "id": "fd6d0412",
   "metadata": {},
   "source": [
    "Se consulta la documentación disponible sobre el estudio de ProPublica (https://github.com/propublica/compas-analysis/) para indagar más acerca del significado de cada una de las 47 variables. El conjunto de variables es muy extenso, y muchas de ellas están asociadas a conceptos propios del dominio que estamos estudiando (legal, criminalidad), se podría estar analizando horas y horas este dataset.\n",
    "\n",
    "Por razones de simplicidad, en adelante se trabajará sólo con determinadas columnas del dataframe: se han escogido las columnas que, o bien ya se nos ha indicado en el enunciado de este ejercicio que son clave, o bien pueden ayudar a detectar errores de calidad de datos, aún siendo un profano en el dominio que se estudia."
   ]
  },
  {
   "cell_type": "code",
   "execution_count": 5,
   "id": "c4edddba",
   "metadata": {
    "tags": []
   },
   "outputs": [],
   "source": [
    "# Definimos las columnas a utilizar, generamos un nuevo dataframe sólo con esas columnas\n",
    "\n",
    "utilizar_columnas = ['name', 'sex', 'race', 'age', 'dob', 'compas_screening_date', 'days_b_screening_arrest', 'decile_score', 'is_recid', 'r_offense_date', 'v_decile_score', 'is_violent_recid', 'vr_offense_date']\n",
    "historiales = historiales_raw[utilizar_columnas].copy()\n",
    "  \n",
    "# Reordenamos las columnas para que la visualización de datos resulte más clara (primero las columnas relacionadas con delitos no violentos, después las\n",
    "# relacionadas con delitos violentos)\n",
    "\n",
    "historiales = historiales.reindex(columns=utilizar_columnas)"
   ]
  },
  {
   "cell_type": "code",
   "execution_count": 6,
   "id": "07189116",
   "metadata": {},
   "outputs": [],
   "source": [
    "# Convertimos a categóricas las variables que lo sean\n",
    "\n",
    "var_cat = ['sex', 'race']\n",
    "historiales[var_cat] = historiales[var_cat].astype('category')"
   ]
  },
  {
   "cell_type": "code",
   "execution_count": 7,
   "id": "6b0c1746",
   "metadata": {},
   "outputs": [],
   "source": [
    "# Convertimos a fecha las variables que lo sean\n",
    "\n",
    "var_fecha = ['dob', 'compas_screening_date', 'r_offense_date', 'vr_offense_date']\n",
    "historiales[var_fecha ] = historiales[var_fecha ].astype('datetime64[ns]')"
   ]
  },
  {
   "cell_type": "code",
   "execution_count": 8,
   "id": "d916cf71",
   "metadata": {
    "tags": []
   },
   "outputs": [
    {
     "data": {
      "text/html": [
       "<div>\n",
       "<style scoped>\n",
       "    .dataframe tbody tr th:only-of-type {\n",
       "        vertical-align: middle;\n",
       "    }\n",
       "\n",
       "    .dataframe tbody tr th {\n",
       "        vertical-align: top;\n",
       "    }\n",
       "\n",
       "    .dataframe thead th {\n",
       "        text-align: right;\n",
       "    }\n",
       "</style>\n",
       "<table border=\"1\" class=\"dataframe\">\n",
       "  <thead>\n",
       "    <tr style=\"text-align: right;\">\n",
       "      <th></th>\n",
       "      <th>name</th>\n",
       "      <th>sex</th>\n",
       "      <th>race</th>\n",
       "      <th>age</th>\n",
       "      <th>dob</th>\n",
       "      <th>compas_screening_date</th>\n",
       "      <th>days_b_screening_arrest</th>\n",
       "      <th>decile_score</th>\n",
       "      <th>is_recid</th>\n",
       "      <th>r_offense_date</th>\n",
       "      <th>v_decile_score</th>\n",
       "      <th>is_violent_recid</th>\n",
       "      <th>vr_offense_date</th>\n",
       "    </tr>\n",
       "  </thead>\n",
       "  <tbody>\n",
       "    <tr>\n",
       "      <th>0</th>\n",
       "      <td>miguel hernandez</td>\n",
       "      <td>Male</td>\n",
       "      <td>Other</td>\n",
       "      <td>69</td>\n",
       "      <td>1947-04-18</td>\n",
       "      <td>2013-08-14</td>\n",
       "      <td>-1.0</td>\n",
       "      <td>1</td>\n",
       "      <td>0</td>\n",
       "      <td>NaT</td>\n",
       "      <td>1</td>\n",
       "      <td>0</td>\n",
       "      <td>NaT</td>\n",
       "    </tr>\n",
       "    <tr>\n",
       "      <th>1</th>\n",
       "      <td>michael ryan</td>\n",
       "      <td>Male</td>\n",
       "      <td>Caucasian</td>\n",
       "      <td>31</td>\n",
       "      <td>1985-02-06</td>\n",
       "      <td>2014-12-31</td>\n",
       "      <td>NaN</td>\n",
       "      <td>5</td>\n",
       "      <td>-1</td>\n",
       "      <td>NaT</td>\n",
       "      <td>2</td>\n",
       "      <td>0</td>\n",
       "      <td>NaT</td>\n",
       "    </tr>\n",
       "    <tr>\n",
       "      <th>2</th>\n",
       "      <td>kevon dixon</td>\n",
       "      <td>Male</td>\n",
       "      <td>African-American</td>\n",
       "      <td>34</td>\n",
       "      <td>1982-01-22</td>\n",
       "      <td>2013-01-27</td>\n",
       "      <td>-1.0</td>\n",
       "      <td>3</td>\n",
       "      <td>1</td>\n",
       "      <td>2013-07-05</td>\n",
       "      <td>1</td>\n",
       "      <td>1</td>\n",
       "      <td>2013-07-05</td>\n",
       "    </tr>\n",
       "    <tr>\n",
       "      <th>3</th>\n",
       "      <td>ed philo</td>\n",
       "      <td>Male</td>\n",
       "      <td>African-American</td>\n",
       "      <td>24</td>\n",
       "      <td>1991-05-14</td>\n",
       "      <td>2013-04-14</td>\n",
       "      <td>-1.0</td>\n",
       "      <td>4</td>\n",
       "      <td>1</td>\n",
       "      <td>2013-06-16</td>\n",
       "      <td>3</td>\n",
       "      <td>0</td>\n",
       "      <td>NaT</td>\n",
       "    </tr>\n",
       "    <tr>\n",
       "      <th>4</th>\n",
       "      <td>marcu brown</td>\n",
       "      <td>Male</td>\n",
       "      <td>African-American</td>\n",
       "      <td>23</td>\n",
       "      <td>1993-01-21</td>\n",
       "      <td>2013-01-13</td>\n",
       "      <td>NaN</td>\n",
       "      <td>8</td>\n",
       "      <td>0</td>\n",
       "      <td>NaT</td>\n",
       "      <td>6</td>\n",
       "      <td>0</td>\n",
       "      <td>NaT</td>\n",
       "    </tr>\n",
       "    <tr>\n",
       "      <th>...</th>\n",
       "      <td>...</td>\n",
       "      <td>...</td>\n",
       "      <td>...</td>\n",
       "      <td>...</td>\n",
       "      <td>...</td>\n",
       "      <td>...</td>\n",
       "      <td>...</td>\n",
       "      <td>...</td>\n",
       "      <td>...</td>\n",
       "      <td>...</td>\n",
       "      <td>...</td>\n",
       "      <td>...</td>\n",
       "      <td>...</td>\n",
       "    </tr>\n",
       "    <tr>\n",
       "      <th>11752</th>\n",
       "      <td>patrick hamilton</td>\n",
       "      <td>Male</td>\n",
       "      <td>Other</td>\n",
       "      <td>47</td>\n",
       "      <td>1968-05-02</td>\n",
       "      <td>2013-09-22</td>\n",
       "      <td>-1.0</td>\n",
       "      <td>3</td>\n",
       "      <td>0</td>\n",
       "      <td>NaT</td>\n",
       "      <td>1</td>\n",
       "      <td>0</td>\n",
       "      <td>NaT</td>\n",
       "    </tr>\n",
       "    <tr>\n",
       "      <th>11753</th>\n",
       "      <td>raymond hernandez</td>\n",
       "      <td>Male</td>\n",
       "      <td>Caucasian</td>\n",
       "      <td>22</td>\n",
       "      <td>1993-06-24</td>\n",
       "      <td>2013-05-17</td>\n",
       "      <td>-1.0</td>\n",
       "      <td>7</td>\n",
       "      <td>1</td>\n",
       "      <td>2014-10-11</td>\n",
       "      <td>5</td>\n",
       "      <td>0</td>\n",
       "      <td>NaT</td>\n",
       "    </tr>\n",
       "    <tr>\n",
       "      <th>11754</th>\n",
       "      <td>dieuseul pierre-gilles</td>\n",
       "      <td>Male</td>\n",
       "      <td>Other</td>\n",
       "      <td>35</td>\n",
       "      <td>1981-01-24</td>\n",
       "      <td>2014-10-08</td>\n",
       "      <td>NaN</td>\n",
       "      <td>4</td>\n",
       "      <td>0</td>\n",
       "      <td>NaT</td>\n",
       "      <td>3</td>\n",
       "      <td>0</td>\n",
       "      <td>NaT</td>\n",
       "    </tr>\n",
       "    <tr>\n",
       "      <th>11755</th>\n",
       "      <td>scott lomagistro</td>\n",
       "      <td>Male</td>\n",
       "      <td>Caucasian</td>\n",
       "      <td>29</td>\n",
       "      <td>1986-12-04</td>\n",
       "      <td>2013-12-03</td>\n",
       "      <td>-196.0</td>\n",
       "      <td>3</td>\n",
       "      <td>0</td>\n",
       "      <td>NaT</td>\n",
       "      <td>2</td>\n",
       "      <td>0</td>\n",
       "      <td>NaT</td>\n",
       "    </tr>\n",
       "    <tr>\n",
       "      <th>11756</th>\n",
       "      <td>chin yan</td>\n",
       "      <td>Male</td>\n",
       "      <td>Asian</td>\n",
       "      <td>34</td>\n",
       "      <td>1982-02-19</td>\n",
       "      <td>2014-01-11</td>\n",
       "      <td>-1.0</td>\n",
       "      <td>1</td>\n",
       "      <td>0</td>\n",
       "      <td>NaT</td>\n",
       "      <td>1</td>\n",
       "      <td>0</td>\n",
       "      <td>NaT</td>\n",
       "    </tr>\n",
       "  </tbody>\n",
       "</table>\n",
       "<p>11757 rows × 13 columns</p>\n",
       "</div>"
      ],
      "text/plain": [
       "                         name   sex              race  age        dob  \\\n",
       "0            miguel hernandez  Male             Other   69 1947-04-18   \n",
       "1                michael ryan  Male         Caucasian   31 1985-02-06   \n",
       "2                 kevon dixon  Male  African-American   34 1982-01-22   \n",
       "3                    ed philo  Male  African-American   24 1991-05-14   \n",
       "4                 marcu brown  Male  African-American   23 1993-01-21   \n",
       "...                       ...   ...               ...  ...        ...   \n",
       "11752        patrick hamilton  Male             Other   47 1968-05-02   \n",
       "11753       raymond hernandez  Male         Caucasian   22 1993-06-24   \n",
       "11754  dieuseul pierre-gilles  Male             Other   35 1981-01-24   \n",
       "11755        scott lomagistro  Male         Caucasian   29 1986-12-04   \n",
       "11756                chin yan  Male             Asian   34 1982-02-19   \n",
       "\n",
       "      compas_screening_date  days_b_screening_arrest  decile_score  is_recid  \\\n",
       "0                2013-08-14                     -1.0             1         0   \n",
       "1                2014-12-31                      NaN             5        -1   \n",
       "2                2013-01-27                     -1.0             3         1   \n",
       "3                2013-04-14                     -1.0             4         1   \n",
       "4                2013-01-13                      NaN             8         0   \n",
       "...                     ...                      ...           ...       ...   \n",
       "11752            2013-09-22                     -1.0             3         0   \n",
       "11753            2013-05-17                     -1.0             7         1   \n",
       "11754            2014-10-08                      NaN             4         0   \n",
       "11755            2013-12-03                   -196.0             3         0   \n",
       "11756            2014-01-11                     -1.0             1         0   \n",
       "\n",
       "      r_offense_date  v_decile_score  is_violent_recid vr_offense_date  \n",
       "0                NaT               1                 0             NaT  \n",
       "1                NaT               2                 0             NaT  \n",
       "2         2013-07-05               1                 1      2013-07-05  \n",
       "3         2013-06-16               3                 0             NaT  \n",
       "4                NaT               6                 0             NaT  \n",
       "...              ...             ...               ...             ...  \n",
       "11752            NaT               1                 0             NaT  \n",
       "11753     2014-10-11               5                 0             NaT  \n",
       "11754            NaT               3                 0             NaT  \n",
       "11755            NaT               2                 0             NaT  \n",
       "11756            NaT               1                 0             NaT  \n",
       "\n",
       "[11757 rows x 13 columns]"
      ]
     },
     "execution_count": 8,
     "metadata": {},
     "output_type": "execute_result"
    }
   ],
   "source": [
    "historiales"
   ]
  },
  {
   "cell_type": "code",
   "execution_count": 9,
   "id": "37d7347f",
   "metadata": {},
   "outputs": [
    {
     "name": "stdout",
     "output_type": "stream",
     "text": [
      "<class 'pandas.core.frame.DataFrame'>\n",
      "RangeIndex: 11757 entries, 0 to 11756\n",
      "Data columns (total 13 columns):\n",
      " #   Column                   Non-Null Count  Dtype         \n",
      "---  ------                   --------------  -----         \n",
      " 0   name                     11757 non-null  object        \n",
      " 1   sex                      11757 non-null  category      \n",
      " 2   race                     11757 non-null  category      \n",
      " 3   age                      11757 non-null  int64         \n",
      " 4   dob                      11757 non-null  datetime64[ns]\n",
      " 5   compas_screening_date    11757 non-null  datetime64[ns]\n",
      " 6   days_b_screening_arrest  10577 non-null  float64       \n",
      " 7   decile_score             11757 non-null  int64         \n",
      " 8   is_recid                 11757 non-null  int64         \n",
      " 9   r_offense_date           3703 non-null   datetime64[ns]\n",
      " 10  v_decile_score           11757 non-null  int64         \n",
      " 11  is_violent_recid         11757 non-null  int64         \n",
      " 12  vr_offense_date          882 non-null    datetime64[ns]\n",
      "dtypes: category(2), datetime64[ns](4), float64(1), int64(5), object(1)\n",
      "memory usage: 1.0+ MB\n"
     ]
    }
   ],
   "source": [
    "historiales.info()"
   ]
  },
  {
   "cell_type": "markdown",
   "id": "1aeaea1a",
   "metadata": {},
   "source": [
    "### Análisis exploratorio, evaluación de calidad de los datos, aumento de su calidad"
   ]
  },
  {
   "cell_type": "markdown",
   "id": "b2b90447",
   "metadata": {},
   "source": [
    "Una comprobación muy sencilla en primera instancia: detectar si hay duplicados o no"
   ]
  },
  {
   "cell_type": "code",
   "execution_count": 10,
   "id": "7b2d383c",
   "metadata": {},
   "outputs": [
    {
     "data": {
      "text/plain": [
       "0"
      ]
     },
     "execution_count": 10,
     "metadata": {},
     "output_type": "execute_result"
    }
   ],
   "source": [
    "historiales.duplicated().sum()"
   ]
  },
  {
   "cell_type": "markdown",
   "id": "7c0347e1",
   "metadata": {},
   "source": [
    "Ahora, vamos a analizar columna por columna los datos que disponemos"
   ]
  },
  {
   "cell_type": "code",
   "execution_count": 11,
   "id": "49e14dce",
   "metadata": {},
   "outputs": [],
   "source": [
    "# Definimos una sencilla función para ver algunos de los indicadores más relevantes de cada columna del dataframe\n",
    "\n",
    "def describe_columna(df, col):\n",
    "    print(f'Columna: {col}  -  Tipo de datos: {df[col].dtype}')\n",
    "    print(f'Número de valores nulos: {df[col].isnull().sum()}')\n",
    "    print('\\nFunción describe():\\n')\n",
    "    print(df[col].describe())"
   ]
  },
  {
   "cell_type": "markdown",
   "id": "004c6ca6",
   "metadata": {},
   "source": [
    "Columna 'name'"
   ]
  },
  {
   "cell_type": "code",
   "execution_count": 12,
   "id": "fe2e8148",
   "metadata": {},
   "outputs": [
    {
     "name": "stdout",
     "output_type": "stream",
     "text": [
      "Columna: name  -  Tipo de datos: object\n",
      "Número de valores nulos: 0\n",
      "\n",
      "Función describe():\n",
      "\n",
      "count          11757\n",
      "unique         11584\n",
      "top       john brown\n",
      "freq               4\n",
      "Name: name, dtype: object\n"
     ]
    }
   ],
   "source": [
    "describe_columna(historiales,'name')"
   ]
  },
  {
   "cell_type": "code",
   "execution_count": 13,
   "id": "ed6447fd",
   "metadata": {},
   "outputs": [
    {
     "name": "stdout",
     "output_type": "stream",
     "text": [
      "328\n",
      "\n",
      "carlos vasquez        4\n",
      "john brown            4\n",
      "michael cunningham    4\n",
      "robert taylor         4\n",
      "gregory williams      3\n",
      "james brown           3\n",
      "travis wilson         3\n",
      "james williams        3\n",
      "james smith           3\n",
      "steven wilson         3\n",
      "Name: name, dtype: int64\n"
     ]
    }
   ],
   "source": [
    "# Vemos que hay nombres duplicados. En primera instancia, vamos a ver de cuántos registros se trata\n",
    "# También vamos a ver los nombres más repetidos, probablemente se trate simplemente de nombres que son muy comunes\n",
    "\n",
    "print(historiales.name.duplicated(keep=False).sum())\n",
    "print()\n",
    "print(historiales[historiales.name.duplicated(keep=False)]['name'].value_counts().head(10))"
   ]
  },
  {
   "cell_type": "code",
   "execution_count": 14,
   "id": "34b5076d",
   "metadata": {},
   "outputs": [
    {
     "data": {
      "text/plain": [
       "name               dob       \n",
       "alejandro cabrera  1990-03-30    2.0\n",
       "gueslly deravine   1989-11-30    2.0\n",
       "scott botkin       1969-10-05    2.0\n",
       "Name: sex, dtype: float64"
      ]
     },
     "execution_count": 14,
     "metadata": {},
     "output_type": "execute_result"
    }
   ],
   "source": [
    "# Parecen nombres bastante comunes, pero vamos a analizar esta cuestión con un poco más de detalle.\n",
    "# Vamos a ver si los nombres duplicados tienen fecha de nacimiento coincidente\n",
    "\n",
    "historiales[historiales.name.duplicated(keep=False)].groupby(['name','dob']).count()['sex'].sort_values(ascending=False).where(lambda x : x>1).dropna()"
   ]
  },
  {
   "cell_type": "code",
   "execution_count": 15,
   "id": "021e9e53",
   "metadata": {},
   "outputs": [
    {
     "data": {
      "text/html": [
       "<div>\n",
       "<style scoped>\n",
       "    .dataframe tbody tr th:only-of-type {\n",
       "        vertical-align: middle;\n",
       "    }\n",
       "\n",
       "    .dataframe tbody tr th {\n",
       "        vertical-align: top;\n",
       "    }\n",
       "\n",
       "    .dataframe thead th {\n",
       "        text-align: right;\n",
       "    }\n",
       "</style>\n",
       "<table border=\"1\" class=\"dataframe\">\n",
       "  <thead>\n",
       "    <tr style=\"text-align: right;\">\n",
       "      <th></th>\n",
       "      <th>name</th>\n",
       "      <th>sex</th>\n",
       "      <th>race</th>\n",
       "      <th>age</th>\n",
       "      <th>dob</th>\n",
       "      <th>compas_screening_date</th>\n",
       "      <th>days_b_screening_arrest</th>\n",
       "      <th>decile_score</th>\n",
       "      <th>is_recid</th>\n",
       "      <th>r_offense_date</th>\n",
       "      <th>v_decile_score</th>\n",
       "      <th>is_violent_recid</th>\n",
       "      <th>vr_offense_date</th>\n",
       "    </tr>\n",
       "  </thead>\n",
       "  <tbody>\n",
       "    <tr>\n",
       "      <th>6536</th>\n",
       "      <td>alejandro cabrera</td>\n",
       "      <td>Male</td>\n",
       "      <td>Caucasian</td>\n",
       "      <td>26</td>\n",
       "      <td>1990-03-30</td>\n",
       "      <td>2013-09-23</td>\n",
       "      <td>0.0</td>\n",
       "      <td>4</td>\n",
       "      <td>1</td>\n",
       "      <td>2013-10-06</td>\n",
       "      <td>3</td>\n",
       "      <td>1</td>\n",
       "      <td>2013-10-06</td>\n",
       "    </tr>\n",
       "    <tr>\n",
       "      <th>11585</th>\n",
       "      <td>alejandro cabrera</td>\n",
       "      <td>Male</td>\n",
       "      <td>Hispanic</td>\n",
       "      <td>26</td>\n",
       "      <td>1990-03-30</td>\n",
       "      <td>2013-10-07</td>\n",
       "      <td>NaN</td>\n",
       "      <td>4</td>\n",
       "      <td>-1</td>\n",
       "      <td>NaT</td>\n",
       "      <td>3</td>\n",
       "      <td>0</td>\n",
       "      <td>NaT</td>\n",
       "    </tr>\n",
       "    <tr>\n",
       "      <th>604</th>\n",
       "      <td>gueslly deravine</td>\n",
       "      <td>Male</td>\n",
       "      <td>African-American</td>\n",
       "      <td>26</td>\n",
       "      <td>1989-11-30</td>\n",
       "      <td>2013-03-27</td>\n",
       "      <td>-34.0</td>\n",
       "      <td>7</td>\n",
       "      <td>0</td>\n",
       "      <td>NaT</td>\n",
       "      <td>7</td>\n",
       "      <td>0</td>\n",
       "      <td>NaT</td>\n",
       "    </tr>\n",
       "    <tr>\n",
       "      <th>3761</th>\n",
       "      <td>gueslly deravine</td>\n",
       "      <td>Male</td>\n",
       "      <td>African-American</td>\n",
       "      <td>26</td>\n",
       "      <td>1989-11-30</td>\n",
       "      <td>2013-02-21</td>\n",
       "      <td>NaN</td>\n",
       "      <td>5</td>\n",
       "      <td>-1</td>\n",
       "      <td>NaT</td>\n",
       "      <td>6</td>\n",
       "      <td>0</td>\n",
       "      <td>NaT</td>\n",
       "    </tr>\n",
       "    <tr>\n",
       "      <th>3701</th>\n",
       "      <td>scott botkin</td>\n",
       "      <td>Male</td>\n",
       "      <td>Caucasian</td>\n",
       "      <td>46</td>\n",
       "      <td>1969-10-05</td>\n",
       "      <td>2013-02-08</td>\n",
       "      <td>0.0</td>\n",
       "      <td>8</td>\n",
       "      <td>1</td>\n",
       "      <td>2014-01-04</td>\n",
       "      <td>3</td>\n",
       "      <td>0</td>\n",
       "      <td>NaT</td>\n",
       "    </tr>\n",
       "    <tr>\n",
       "      <th>9956</th>\n",
       "      <td>scott botkin</td>\n",
       "      <td>Male</td>\n",
       "      <td>Caucasian</td>\n",
       "      <td>46</td>\n",
       "      <td>1969-10-05</td>\n",
       "      <td>2013-06-18</td>\n",
       "      <td>NaN</td>\n",
       "      <td>3</td>\n",
       "      <td>-1</td>\n",
       "      <td>NaT</td>\n",
       "      <td>2</td>\n",
       "      <td>0</td>\n",
       "      <td>NaT</td>\n",
       "    </tr>\n",
       "  </tbody>\n",
       "</table>\n",
       "</div>"
      ],
      "text/plain": [
       "                    name   sex              race  age        dob  \\\n",
       "6536   alejandro cabrera  Male         Caucasian   26 1990-03-30   \n",
       "11585  alejandro cabrera  Male          Hispanic   26 1990-03-30   \n",
       "604     gueslly deravine  Male  African-American   26 1989-11-30   \n",
       "3761    gueslly deravine  Male  African-American   26 1989-11-30   \n",
       "3701        scott botkin  Male         Caucasian   46 1969-10-05   \n",
       "9956        scott botkin  Male         Caucasian   46 1969-10-05   \n",
       "\n",
       "      compas_screening_date  days_b_screening_arrest  decile_score  is_recid  \\\n",
       "6536             2013-09-23                      0.0             4         1   \n",
       "11585            2013-10-07                      NaN             4        -1   \n",
       "604              2013-03-27                    -34.0             7         0   \n",
       "3761             2013-02-21                      NaN             5        -1   \n",
       "3701             2013-02-08                      0.0             8         1   \n",
       "9956             2013-06-18                      NaN             3        -1   \n",
       "\n",
       "      r_offense_date  v_decile_score  is_violent_recid vr_offense_date  \n",
       "6536      2013-10-06               3                 1      2013-10-06  \n",
       "11585            NaT               3                 0             NaT  \n",
       "604              NaT               7                 0             NaT  \n",
       "3761             NaT               6                 0             NaT  \n",
       "3701      2014-01-04               3                 0             NaT  \n",
       "9956             NaT               2                 0             NaT  "
      ]
     },
     "execution_count": 15,
     "metadata": {},
     "output_type": "execute_result"
    }
   ],
   "source": [
    "# Analizamos estos casos en particular\n",
    "\n",
    "nombres_dup = historiales[historiales.name.duplicated(keep=False)].groupby(['name','dob']).count()['sex'].sort_values(ascending=False).where(lambda x : x>1).dropna().reset_index()['name'].to_list()\n",
    "historiales[historiales['name'].isin(nombres_dup)].sort_values(by='name')"
   ]
  },
  {
   "cell_type": "code",
   "execution_count": 16,
   "id": "5129ef99",
   "metadata": {},
   "outputs": [],
   "source": [
    "# Quizá sea la misma persona, pero con dos arrestos, en fechas diferentes. Para el tipo de análisis que queremos hacer \n",
    "# (básicamente, evaluar si el sistema COMPAS es justo con las personas, en concreto con ciertos colectivos), no tiene sentido\n",
    "# mantener registros duplicados. Los vamos a eliminar\n",
    "\n",
    "historiales = historiales[~historiales['name'].isin(nombres_dup)]"
   ]
  },
  {
   "cell_type": "markdown",
   "id": "7d06ce7c",
   "metadata": {},
   "source": [
    "Columna 'sex'"
   ]
  },
  {
   "cell_type": "code",
   "execution_count": 17,
   "id": "758823a6",
   "metadata": {},
   "outputs": [
    {
     "name": "stdout",
     "output_type": "stream",
     "text": [
      "Columna: sex  -  Tipo de datos: category\n",
      "Número de valores nulos: 0\n",
      "\n",
      "Función describe():\n",
      "\n",
      "count     11751\n",
      "unique        2\n",
      "top        Male\n",
      "freq       9330\n",
      "Name: sex, dtype: object\n"
     ]
    }
   ],
   "source": [
    "describe_columna(historiales,'sex')"
   ]
  },
  {
   "cell_type": "code",
   "execution_count": 18,
   "id": "828efab5",
   "metadata": {},
   "outputs": [
    {
     "data": {
      "text/plain": [
       "Male      9330\n",
       "Female    2421\n",
       "Name: sex, dtype: int64"
      ]
     },
     "execution_count": 18,
     "metadata": {},
     "output_type": "execute_result"
    }
   ],
   "source": [
    "historiales.sex.value_counts()\n",
    "\n",
    "# No se observa ningún problema de calidad de datos"
   ]
  },
  {
   "cell_type": "markdown",
   "id": "27ca596c",
   "metadata": {},
   "source": [
    "Columna 'race'"
   ]
  },
  {
   "cell_type": "code",
   "execution_count": 19,
   "id": "cd8d59ad",
   "metadata": {},
   "outputs": [
    {
     "name": "stdout",
     "output_type": "stream",
     "text": [
      "Columna: race  -  Tipo de datos: category\n",
      "Número de valores nulos: 0\n",
      "\n",
      "Función describe():\n",
      "\n",
      "count                11751\n",
      "unique                   6\n",
      "top       African-American\n",
      "freq                  5811\n",
      "Name: race, dtype: object\n"
     ]
    }
   ],
   "source": [
    "describe_columna(historiales,'race')"
   ]
  },
  {
   "cell_type": "code",
   "execution_count": 20,
   "id": "6f998222",
   "metadata": {},
   "outputs": [
    {
     "data": {
      "text/plain": [
       "African-American    5811\n",
       "Caucasian           4082\n",
       "Hispanic            1099\n",
       "Other                661\n",
       "Asian                 58\n",
       "Native American       40\n",
       "Name: race, dtype: int64"
      ]
     },
     "execution_count": 20,
     "metadata": {},
     "output_type": "execute_result"
    }
   ],
   "source": [
    "historiales.race.value_counts()\n",
    "\n",
    "# Calidad de datos ok"
   ]
  },
  {
   "cell_type": "markdown",
   "id": "e27df41b",
   "metadata": {},
   "source": [
    "Columna 'age' "
   ]
  },
  {
   "cell_type": "code",
   "execution_count": 21,
   "id": "eee57864",
   "metadata": {},
   "outputs": [
    {
     "name": "stdout",
     "output_type": "stream",
     "text": [
      "Columna: age  -  Tipo de datos: int64\n",
      "Número de valores nulos: 0\n",
      "\n",
      "Función describe():\n",
      "\n",
      "count    11751.000000\n",
      "mean        35.144583\n",
      "std         12.023945\n",
      "min         18.000000\n",
      "25%         25.000000\n",
      "50%         32.000000\n",
      "75%         43.000000\n",
      "max         96.000000\n",
      "Name: age, dtype: float64\n",
      "None\n"
     ]
    }
   ],
   "source": [
    "print(describe_columna(historiales,'age'))"
   ]
  },
  {
   "cell_type": "code",
   "execution_count": 22,
   "id": "ae3c51f9",
   "metadata": {},
   "outputs": [
    {
     "data": {
      "text/plain": [
       "3988     96\n",
       "11206    86\n",
       "1214     83\n",
       "6404     83\n",
       "7471     80\n",
       "9011     79\n",
       "6436     78\n",
       "267      78\n",
       "11311    78\n",
       "2694     77\n",
       "Name: age, dtype: int64"
      ]
     },
     "execution_count": 22,
     "metadata": {},
     "output_type": "execute_result"
    }
   ],
   "source": [
    "# Vamos a revisar las edades más altas, si hay muchos registros de nonagenarios podríamos considerar problemas de calidad de datos.\n",
    "\n",
    "historiales['age'].sort_values(ascending=False).head(10)\n",
    "# No parece que haya problemas"
   ]
  },
  {
   "cell_type": "markdown",
   "id": "3dd4c940",
   "metadata": {},
   "source": [
    "Columna 'days_b_screening_arrest'"
   ]
  },
  {
   "cell_type": "code",
   "execution_count": 23,
   "id": "9a35bf90",
   "metadata": {},
   "outputs": [
    {
     "name": "stdout",
     "output_type": "stream",
     "text": [
      "Columna: days_b_screening_arrest  -  Tipo de datos: float64\n",
      "Número de valores nulos: 1177\n",
      "\n",
      "Función describe():\n",
      "\n",
      "count    10574.000000\n",
      "mean        -0.875071\n",
      "std         72.898925\n",
      "min       -597.000000\n",
      "25%         -1.000000\n",
      "50%         -1.000000\n",
      "75%         -1.000000\n",
      "max       1057.000000\n",
      "Name: days_b_screening_arrest, dtype: float64\n"
     ]
    }
   ],
   "source": [
    "describe_columna(historiales,'days_b_screening_arrest')"
   ]
  },
  {
   "cell_type": "markdown",
   "id": "1fa44421",
   "metadata": {},
   "source": [
    "Esta columna representa la diferencia de días para un individuo, entre el día que fue arrestado al cometer un delito ('c_jail_in') y el día que se le hizo la evaluación COMPAS ('compas_screening_date'). Cuando leí la documentación de ProPublica, me di cuenta de que mencionan explícitamente que, cuando hay una diferencia muy acusada entre ambas fechas, se sospecha que hay un problema de calidad de datos y los registros correspondientes deben desecharse:\n",
    "\n",
    "Citas textuales:\n",
    "_\"It was not always clear, however, which criminal case was associated with an individual’s COMPAS score. To match COMPAS scores with accompanying cases, we considered cases with arrest dates or charge dates within 30 days of a COMPAS assessment being conducted. In some instances, we could not find any corresponding charges to COMPAS scores. We removed those cases from our analysis.\"_\n",
    "\n",
    "_\"If the charge date of a defendants Compas scored crime was not within 30 days from when the person was arrested, we assume that because of data quality reasons, that we do not have the right offense._\"\n",
    "\n",
    "Visto esto, parece razonable hacer lo mismo que ha hecho ProPublica, descartar los casos en los que la diferencia de fechas excede los 30 días porque probablemente, en esos casos particulares, no se ha cotejado bien la información de las evaluaciones de COMPAS, con la de los registros criminales del condado de Broward."
   ]
  },
  {
   "cell_type": "code",
   "execution_count": 24,
   "id": "90cd9e56",
   "metadata": {},
   "outputs": [],
   "source": [
    "# Descartamos los casos con valores 'days_b_screening_arrest' mayores a 30 en valor absoluto. Los valores nulos (aquellos para los que no se puede hacer la diferencia entre la fecha de arresto\n",
    "# y de evaluación COMPAS porque no se dispone de la fecha de arresto) también son excluidos\n",
    "\n",
    "historiales = historiales[abs(historiales['days_b_screening_arrest']) <= 30]"
   ]
  },
  {
   "cell_type": "markdown",
   "id": "c4eeb456",
   "metadata": {},
   "source": [
    "Columna 'compas_screening_date'"
   ]
  },
  {
   "cell_type": "code",
   "execution_count": 25,
   "id": "164302d8",
   "metadata": {},
   "outputs": [
    {
     "name": "stdout",
     "output_type": "stream",
     "text": [
      "Columna: compas_screening_date  -  Tipo de datos: datetime64[ns]\n",
      "Número de valores nulos: 0\n",
      "\n",
      "Función describe():\n",
      "\n",
      "count                    9394\n",
      "unique                    701\n",
      "top       2013-04-20 00:00:00\n",
      "freq                       35\n",
      "first     2013-01-01 00:00:00\n",
      "last      2014-12-31 00:00:00\n",
      "Name: compas_screening_date, dtype: object\n"
     ]
    }
   ],
   "source": [
    "describe_columna(historiales,'compas_screening_date')\n",
    "\n",
    "# Vemos que, tal como se nos indica en la documentación de ProPublica, el rango de fechas es exactamente dos años\n",
    "# No hay nulos, y hay un número de valores únicos cercano al espacio de 2 años (730 días)"
   ]
  },
  {
   "cell_type": "code",
   "execution_count": 26,
   "id": "51c0cb4e",
   "metadata": {
    "tags": []
   },
   "outputs": [
    {
     "data": {
      "text/plain": [
       "<AxesSubplot:xlabel='compas_screening_date', ylabel='Count'>"
      ]
     },
     "execution_count": 26,
     "metadata": {},
     "output_type": "execute_result"
    },
    {
     "data": {
      "image/png": "[encoded data removed]",
      "text/plain": [
       "<Figure size 648x432 with 1 Axes>"
      ]
     },
     "metadata": {
      "needs_background": "light"
     },
     "output_type": "display_data"
    }
   ],
   "source": [
    "# Para completar la exploración inicial sobre esta variable, vamos a realizar una visualización para ver cómo se distribuyen los casos\n",
    "# registrados a lo largo de estos dos años\n",
    "\n",
    "from matplotlib import pyplot as plt\n",
    "%matplotlib inline\n",
    "import seaborn as sns\n",
    "\n",
    "fig_dims = (9, 6)\n",
    "fig, ax = plt.subplots(figsize=fig_dims)\n",
    "sns.histplot(data=historiales, x=\"compas_screening_date\", ax=ax)\n",
    "\n",
    "# En general, es una distribución bastante homogénea, llama la atención que a principios de 2013 el número de registros es bastante alto,\n",
    "# y a mediados de ese año el número de registros baja mucho"
   ]
  },
  {
   "cell_type": "markdown",
   "id": "5b4a2511",
   "metadata": {},
   "source": [
    "Columna 'decile_score'"
   ]
  },
  {
   "cell_type": "code",
   "execution_count": 27,
   "id": "00e6a1de",
   "metadata": {},
   "outputs": [
    {
     "name": "stdout",
     "output_type": "stream",
     "text": [
      "Columna: decile_score  -  Tipo de datos: int64\n",
      "Número de valores nulos: 0\n",
      "\n",
      "Función describe():\n",
      "\n",
      "count    9394.000000\n",
      "mean        4.300617\n",
      "std         2.852099\n",
      "min        -1.000000\n",
      "25%         2.000000\n",
      "50%         4.000000\n",
      "75%         7.000000\n",
      "max        10.000000\n",
      "Name: decile_score, dtype: float64\n"
     ]
    }
   ],
   "source": [
    "describe_columna(historiales,'decile_score')\n",
    "\n",
    "# Llama la atención que hay puntuaciones con valor -1, cuando en la documentación se especifica que las puntuaciones son números enteros del 1 al 10.\n",
    "# Probablemente se trate de un problema de validez de datos, vamos a ver a cuántos registros afecta"
   ]
  },
  {
   "cell_type": "code",
   "execution_count": 28,
   "id": "f19b1788",
   "metadata": {},
   "outputs": [
    {
     "data": {
      "text/plain": [
       " 1     2115\n",
       " 2     1288\n",
       " 3     1004\n",
       " 4      963\n",
       " 5      835\n",
       " 6      785\n",
       " 7      720\n",
       " 8      613\n",
       " 9      606\n",
       " 10     457\n",
       "-1        8\n",
       "Name: decile_score, dtype: int64"
      ]
     },
     "execution_count": 28,
     "metadata": {},
     "output_type": "execute_result"
    }
   ],
   "source": [
    "# Vemos cuántos valores -1 hay (y de paso nos aseguramos de que no haya valores=0)\n",
    "\n",
    "historiales['decile_score'].value_counts()"
   ]
  },
  {
   "cell_type": "code",
   "execution_count": 29,
   "id": "a14a4397",
   "metadata": {},
   "outputs": [],
   "source": [
    "# Nos quedamos sólo con los registros correctos\n",
    "\n",
    "historiales = historiales[historiales['decile_score'] >= 1]"
   ]
  },
  {
   "cell_type": "code",
   "execution_count": 30,
   "id": "10d42bb5",
   "metadata": {},
   "outputs": [
    {
     "data": {
      "text/plain": [
       "<AxesSubplot:xlabel='decile_score', ylabel='Count'>"
      ]
     },
     "execution_count": 30,
     "metadata": {},
     "output_type": "execute_result"
    },
    {
     "data": {
      "image/png": "[encoded data removed]",
      "text/plain": [
       "<Figure size 432x288 with 1 Axes>"
      ]
     },
     "metadata": {
      "needs_background": "light"
     },
     "output_type": "display_data"
    }
   ],
   "source": [
    "# Finalmente, visualizamos la distribución de puntuaciones para el conjunto de individuos\n",
    "\n",
    "sns.histplot(data=historiales, x=\"decile_score\", discrete=True)"
   ]
  },
  {
   "cell_type": "markdown",
   "id": "df50a1fe",
   "metadata": {},
   "source": [
    "Columna 'is_recid'"
   ]
  },
  {
   "cell_type": "code",
   "execution_count": 31,
   "id": "6424f713",
   "metadata": {},
   "outputs": [
    {
     "name": "stdout",
     "output_type": "stream",
     "text": [
      "Columna: is_recid  -  Tipo de datos: int64\n",
      "Número de valores nulos: 0\n",
      "\n",
      "Función describe():\n",
      "\n",
      "count    9386.000000\n",
      "mean        0.339335\n",
      "std         0.473734\n",
      "min        -1.000000\n",
      "25%         0.000000\n",
      "50%         0.000000\n",
      "75%         1.000000\n",
      "max         1.000000\n",
      "Name: is_recid, dtype: float64\n"
     ]
    }
   ],
   "source": [
    "describe_columna(historiales,'is_recid')\n",
    "\n",
    "# Llama la atención que hay puntuaciones con valor -1, nuevamente apunta a un problema de validez. Revisando la documentación de \n",
    "# ProPublica, se encuentra que se asigna este valor cuando para la persona en cuestión no se ha encontrado su registro COMPAS"
   ]
  },
  {
   "cell_type": "code",
   "execution_count": 32,
   "id": "c5a77061",
   "metadata": {},
   "outputs": [
    {
     "data": {
      "text/plain": [
       " 0    6199\n",
       " 1    3186\n",
       "-1       1\n",
       "Name: is_recid, dtype: int64"
      ]
     },
     "execution_count": 32,
     "metadata": {},
     "output_type": "execute_result"
    }
   ],
   "source": [
    "# Vemos cuántos valores -1 hay\n",
    "\n",
    "historiales.is_recid.value_counts()"
   ]
  },
  {
   "cell_type": "code",
   "execution_count": 33,
   "id": "6f1ad39d",
   "metadata": {},
   "outputs": [],
   "source": [
    "# Nos quedamos sólo con los registros correctos\n",
    "\n",
    "historiales = historiales[historiales['is_recid'] != -1]"
   ]
  },
  {
   "cell_type": "markdown",
   "id": "b23358e3",
   "metadata": {},
   "source": [
    "Columna 'r_offense_date'"
   ]
  },
  {
   "cell_type": "code",
   "execution_count": 34,
   "id": "97f79e0b",
   "metadata": {
    "tags": []
   },
   "outputs": [
    {
     "name": "stdout",
     "output_type": "stream",
     "text": [
      "Columna: r_offense_date  -  Tipo de datos: datetime64[ns]\n",
      "Número de valores nulos: 6199\n",
      "\n",
      "Función describe():\n",
      "\n",
      "count                    3186\n",
      "unique                   1055\n",
      "top       2014-12-08 00:00:00\n",
      "freq                       12\n",
      "first     2013-01-03 00:00:00\n",
      "last      2016-03-29 00:00:00\n",
      "Name: r_offense_date, dtype: object\n"
     ]
    }
   ],
   "source": [
    "describe_columna(historiales,'r_offense_date')\n",
    "\n",
    "# Nos encontramos con una gran cantidad de valores nulos, veamos si es un problema de integridad o no. El número de estos valores nulos \n",
    "# coincide exactamente con el número de campos en la columna 'is_recid' que son 0. Lo cual es absolutamente coherente, tenemos valor de \n",
    "# la fecha para las personas que han reincidido, y para las demás el campo está vacío"
   ]
  },
  {
   "cell_type": "code",
   "execution_count": 35,
   "id": "98ecff75",
   "metadata": {},
   "outputs": [
    {
     "data": {
      "text/plain": [
       "<AxesSubplot:xlabel='r_offense_date', ylabel='Count'>"
      ]
     },
     "execution_count": 35,
     "metadata": {},
     "output_type": "execute_result"
    },
    {
     "data": {
      "image/png": "[encoded data removed]",
      "text/plain": [
       "<Figure size 648x432 with 1 Axes>"
      ]
     },
     "metadata": {
      "needs_background": "light"
     },
     "output_type": "display_data"
    }
   ],
   "source": [
    "# Al igual que hicimos para la columna 'compas_screening_date', vamos a ver cómo se distribuyen estos valores\n",
    "\n",
    "fig, ax = plt.subplots(figsize=fig_dims)\n",
    "sns.histplot(data=historiales, x=\"r_offense_date\", ax=ax)\n",
    "\n",
    "# La forma de la distribución parece lógica, para el rango de fechas en los que se hizo la evaluación COMPAS \n",
    "# (años 2013 y 2014, compass screening dates). A principios de 2013 algunos de los que después reincidieron \n",
    "# aún no habían siquiera cometido el primer delito, se ahí que haya menos casos en esas fechas. Para las últimas\n",
    "# fechas que se recogieron registros (Q1 de 2016) ya ha pasado mucho tiempo desde el primer delito, y la mayoría del\n",
    "# conjunto ya ha reincidido\n",
    "\n",
    "# En el siguiente punto (2.), se profundizará más en cómo se relacionan estas fechas de reincidencia con las fechas en las\n",
    "# que se hizo la evaluación COMPAS"
   ]
  },
  {
   "cell_type": "markdown",
   "id": "dbf9d118",
   "metadata": {},
   "source": [
    "Columna 'v_decile_score'"
   ]
  },
  {
   "cell_type": "code",
   "execution_count": 36,
   "id": "ae3b10cb",
   "metadata": {},
   "outputs": [
    {
     "name": "stdout",
     "output_type": "stream",
     "text": [
      "Columna: v_decile_score  -  Tipo de datos: int64\n",
      "Número de valores nulos: 0\n",
      "\n",
      "Función describe():\n",
      "\n",
      "count    9385.000000\n",
      "mean        3.545019\n",
      "std         2.479611\n",
      "min         1.000000\n",
      "25%         1.000000\n",
      "50%         3.000000\n",
      "75%         5.000000\n",
      "max        10.000000\n",
      "Name: v_decile_score, dtype: float64\n"
     ]
    }
   ],
   "source": [
    "describe_columna(historiales,'v_decile_score')"
   ]
  },
  {
   "cell_type": "code",
   "execution_count": 37,
   "id": "bbbf8778",
   "metadata": {},
   "outputs": [
    {
     "data": {
      "text/plain": [
       "<AxesSubplot:xlabel='v_decile_score', ylabel='Count'>"
      ]
     },
     "execution_count": 37,
     "metadata": {},
     "output_type": "execute_result"
    },
    {
     "data": {
      "image/png": "[encoded data removed]",
      "text/plain": [
       "<Figure size 432x288 with 1 Axes>"
      ]
     },
     "metadata": {
      "needs_background": "light"
     },
     "output_type": "display_data"
    }
   ],
   "source": [
    "# Distribución de las puntuaciones\n",
    "\n",
    "sns.histplot(data=historiales, x=\"v_decile_score\", discrete=True)"
   ]
  },
  {
   "cell_type": "markdown",
   "id": "efa08d91",
   "metadata": {},
   "source": [
    "Columna 'is_violent_recid'"
   ]
  },
  {
   "cell_type": "code",
   "execution_count": 38,
   "id": "0b5b1ec1",
   "metadata": {},
   "outputs": [
    {
     "name": "stdout",
     "output_type": "stream",
     "text": [
      "Columna: is_violent_recid  -  Tipo de datos: int64\n",
      "Número de valores nulos: 0\n",
      "\n",
      "Función describe():\n",
      "\n",
      "count    9385.000000\n",
      "mean        0.079275\n",
      "std         0.270183\n",
      "min         0.000000\n",
      "25%         0.000000\n",
      "50%         0.000000\n",
      "75%         0.000000\n",
      "max         1.000000\n",
      "Name: is_violent_recid, dtype: float64\n"
     ]
    }
   ],
   "source": [
    "describe_columna(historiales,'is_violent_recid')"
   ]
  },
  {
   "cell_type": "code",
   "execution_count": 39,
   "id": "0fb03733",
   "metadata": {},
   "outputs": [
    {
     "data": {
      "text/plain": [
       "0    8641\n",
       "1     744\n",
       "Name: is_violent_recid, dtype: int64"
      ]
     },
     "execution_count": 39,
     "metadata": {},
     "output_type": "execute_result"
    }
   ],
   "source": [
    "# Vemos el total de casos violentos registrados, para posteriormente compararlos con el total de fechas de casos violentos registradas\n",
    "\n",
    "historiales.is_violent_recid.value_counts()"
   ]
  },
  {
   "cell_type": "markdown",
   "id": "2d38ff2a",
   "metadata": {},
   "source": [
    "Columna 'vr_offense_date'"
   ]
  },
  {
   "cell_type": "code",
   "execution_count": 40,
   "id": "eb9ceda6",
   "metadata": {},
   "outputs": [
    {
     "name": "stdout",
     "output_type": "stream",
     "text": [
      "Columna: vr_offense_date  -  Tipo de datos: datetime64[ns]\n",
      "Número de valores nulos: 8641\n",
      "\n",
      "Función describe():\n",
      "\n",
      "count                     744\n",
      "unique                    531\n",
      "top       2015-08-15 00:00:00\n",
      "freq                        5\n",
      "first     2013-01-28 00:00:00\n",
      "last      2016-03-13 00:00:00\n",
      "Name: vr_offense_date, dtype: object\n"
     ]
    }
   ],
   "source": [
    "describe_columna(historiales,'vr_offense_date')\n",
    "\n",
    "# Nuevamente, el número de registros de fechas nulas coincide con el número de casos sin reincidencia"
   ]
  },
  {
   "cell_type": "code",
   "execution_count": 41,
   "id": "57d55a92",
   "metadata": {},
   "outputs": [
    {
     "data": {
      "text/plain": [
       "<AxesSubplot:xlabel='vr_offense_date', ylabel='Count'>"
      ]
     },
     "execution_count": 41,
     "metadata": {},
     "output_type": "execute_result"
    },
    {
     "data": {
      "image/png": "[encoded data removed]",
      "text/plain": [
       "<Figure size 648x432 with 1 Axes>"
      ]
     },
     "metadata": {
      "needs_background": "light"
     },
     "output_type": "display_data"
    }
   ],
   "source": [
    "# Al igual que hicimos para la columna 'compas_screening_date', vamos a ver cómo se distribuyen estos valores\n",
    "\n",
    "fig, ax = plt.subplots(figsize=fig_dims)\n",
    "sns.histplot(data=historiales, x=\"vr_offense_date\", ax=ax, bins=20)"
   ]
  },
  {
   "cell_type": "markdown",
   "id": "2b52eb67",
   "metadata": {
    "tags": []
   },
   "source": [
    "## Punto 2\n",
    "**¿Son los campos “is_recid” e “is_violent_recid” en este conjunto de datos adecuados para evaluar la precisión de las estimaciones de riesgo generadas por el sistema COMPAS? Si no es así, definir y calcular una feature que sí lo sea.**"
   ]
  },
  {
   "cell_type": "markdown",
   "id": "9fe071ce",
   "metadata": {},
   "source": [
    "Para responder a esta pregunta, hay que tener en consideración ciertos aspectos acerca de los datos y su contexto:\n",
    "- Como ya se ha visto al analizar los datos de los campos de tipo fecha: 'compas_screening_date', 'r_offense_date' y 'vr_offense_date_since', no todos tienen el mismo rango de fechas.\n",
    "    - 'compas_screening_date': 2013-01-01 a 2014-12-31\n",
    "    - 'r_offense_date': 2013-01-03 a 2016-03-29\n",
    "    - 'vr_offense_date_since': 2013-01-28 a 2016-03-13\n",
    "    \n",
    "- En el estudio de ProPublica se aclara que las puntuaciones de COMPAS tienen como objetivo predecir un nuevo delito en los siguientes dos años (https://www.propublica.org/article/how-we-analyzed-the-compas-recidivism-algorithm) \n",
    "    - Cita textual: _\"For most of our analysis, we defined recidivism as a new arrest within two years. We based this decision on Northpointe’s practitioners guide, which says that its recidivism score is meant to predict “a new misdemeanor or felony offense within two years of the COMPAS administration date.”\"_\n",
    "\n",
    "-  En cuanto a por qué las fechas de registros no llegan más allá de Marzo de 2016, la respuesta la encontramos revisando la documentación de ProPublica\n",
    "     - Cita textual: _\"Starting with the database of COMPAS scores, we built a profile of each person’s criminal history, both before and after they were scored. We collected public criminal records from the Broward County Clerk’s Office website through April 1, 2016\"_\n",
    "     - Es decir, a partir de Abril de 2016 no sabemos si una persona ha reincidido o no\n",
    "\n",
    "En este caso, lo que debemos hacer para poder comparar correctamente los datos de reincidencia con el riesgo estimado del sistema COMPAS, es:\n",
    "- Verificar que aquellas personas que hayan reincidido lo hayan hecho dentro de esos dos años de plazo especificado. Si han reincidido más allá de esos dos años, a efectos de esta comparativa que queremos hacer, considero que lo correcto es tratar esos casos como NO REINCIDENTES, ya que lo que queremos estudiar en este caso son las predicciones de COMPAS en comparación con la realidad. Como argumento adicional, decir que las personas que en este estudio consideramos como no reincidentes, son las que no han reincidido durante el rango de fechas que estamos estudiando... no sabemos si a partir del día siguiente al 1 de Abril de 2016, han reincidido o no. Por tanto, no se trata de si sabemos si una persona ha reincidido o no, se trata de saber si esas personas, considerando el mismo periodo de tiempo, han reincidido o no.\n",
    "- Para todas aquellas personas que hayan hecho la evaluación COMPAS después del 1 de Abril de 2014, y no han reincidido, no sabemos si realmente no reincidieron en los dos años posteriores o sí reincidieron pero en una fecha posterior a la que tenemos registros. Supongo que para estos datos, en vez de simplemente desecharlos, se puede investigar si hay alguna técnica de transformación de datos que nos sea útil en este caso (viendo los apuntes de la Unidad 4, ¿quizá alguna técnica de imputación calculada por un modelo? Por ejemplo, se me ocurre que para el campo 'is_recid' (valores 0 o 1) se le podría asignar un valor decimal entre 0 y 1 asociado a que, cuanto más tiempo haya pasado desde que el sujeto hizo la evaluación COMPAS, más probable es que en el periodo completo de dos años no reincida)\n",
    "    - Por sencillez, para no complicar demasiado este estudio, se ha decidido DESECHAR estos datos "
   ]
  },
  {
   "cell_type": "markdown",
   "id": "d9169d65",
   "metadata": {},
   "source": [
    "### Limpieza de datos y creación de features\n",
    "\n",
    "Comenzamos desechando los datos para los que no han pasado dos años desde que se ha hecho la evaluación COMPAS"
   ]
  },
  {
   "cell_type": "code",
   "execution_count": 42,
   "id": "d3d2ddc0",
   "metadata": {
    "tags": []
   },
   "outputs": [],
   "source": [
    "historiales = historiales[historiales['compas_screening_date'] < pd.to_datetime('2014-04-01')]"
   ]
  },
  {
   "cell_type": "markdown",
   "id": "1654d723",
   "metadata": {},
   "source": [
    "Ahora, creamos las features 'two_year_recid' y 'two_year_violent_recid' para sólo clasificar como reincidentes, a aquellos que hayan reincidido dentro de los primeros dos años tras la evaluación COMPAS"
   ]
  },
  {
   "cell_type": "code",
   "execution_count": 43,
   "id": "855b665b",
   "metadata": {
    "tags": []
   },
   "outputs": [],
   "source": [
    "# Para cada caso, calculamos los días que han pasado entre la evaluación COMPAS y la reincidencia (ya sea delito violento o no)\n",
    "\n",
    "historiales['r_offense_date_since'] = historiales['r_offense_date']-historiales['compas_screening_date']\n",
    "historiales['vr_offense_date_since'] = historiales['vr_offense_date']-historiales['compas_screening_date']"
   ]
  },
  {
   "cell_type": "code",
   "execution_count": 44,
   "id": "cad6583c",
   "metadata": {},
   "outputs": [],
   "source": [
    "# Para los delitos no violentos (indicador 'is_recid'): todas aquellas reincidencias que se hayan cometido dentro de los 2 años (730 días) después de la\n",
    "# evaluación COMPAS, los consideraremos como reincidencia (valor = 1). El resto de valores (reincidencia más de dos años después de la evaluación,\n",
    "# o no reincidencias), los consideramos como no reincidencia (valor = 0). Lo recogemos en una nueva columna del dataframe, una feature llamada\n",
    "# 'two_year_recid'\n",
    "\n",
    "two_year_recid = np.where(historiales['r_offense_date_since'] <= pd.to_timedelta(730, unit='d'), 1, 0)\n",
    "historiales['two_year_recid'] = two_year_recid\n",
    "        \n",
    "historiales['two_year_recid'] = historiales['two_year_recid'].astype('int64')"
   ]
  },
  {
   "cell_type": "code",
   "execution_count": 45,
   "id": "22197858",
   "metadata": {},
   "outputs": [],
   "source": [
    "# Lo mismo para los delitos con violencia, esta vez la feature es 'two_year_violent_recid'\n",
    "\n",
    "two_year_violent_recid = np.where(historiales['vr_offense_date_since'] <= pd.to_timedelta(730, unit='d'), 1, 0)\n",
    "historiales['two_year_violent_recid'] = two_year_violent_recid\n",
    "        \n",
    "historiales['two_year_violent_recid'] = historiales['two_year_violent_recid'].astype('int64')"
   ]
  },
  {
   "cell_type": "code",
   "execution_count": 46,
   "id": "15ea8e8d",
   "metadata": {
    "tags": []
   },
   "outputs": [
    {
     "data": {
      "text/html": [
       "<div>\n",
       "<style scoped>\n",
       "    .dataframe tbody tr th:only-of-type {\n",
       "        vertical-align: middle;\n",
       "    }\n",
       "\n",
       "    .dataframe tbody tr th {\n",
       "        vertical-align: top;\n",
       "    }\n",
       "\n",
       "    .dataframe thead th {\n",
       "        text-align: right;\n",
       "    }\n",
       "</style>\n",
       "<table border=\"1\" class=\"dataframe\">\n",
       "  <thead>\n",
       "    <tr style=\"text-align: right;\">\n",
       "      <th></th>\n",
       "      <th>name</th>\n",
       "      <th>sex</th>\n",
       "      <th>race</th>\n",
       "      <th>age</th>\n",
       "      <th>dob</th>\n",
       "      <th>compas_screening_date</th>\n",
       "      <th>days_b_screening_arrest</th>\n",
       "      <th>decile_score</th>\n",
       "      <th>is_recid</th>\n",
       "      <th>r_offense_date</th>\n",
       "      <th>v_decile_score</th>\n",
       "      <th>is_violent_recid</th>\n",
       "      <th>vr_offense_date</th>\n",
       "      <th>r_offense_date_since</th>\n",
       "      <th>vr_offense_date_since</th>\n",
       "      <th>two_year_recid</th>\n",
       "      <th>two_year_violent_recid</th>\n",
       "    </tr>\n",
       "  </thead>\n",
       "  <tbody>\n",
       "    <tr>\n",
       "      <th>0</th>\n",
       "      <td>miguel hernandez</td>\n",
       "      <td>Male</td>\n",
       "      <td>Other</td>\n",
       "      <td>69</td>\n",
       "      <td>1947-04-18</td>\n",
       "      <td>2013-08-14</td>\n",
       "      <td>-1.0</td>\n",
       "      <td>1</td>\n",
       "      <td>0</td>\n",
       "      <td>NaT</td>\n",
       "      <td>1</td>\n",
       "      <td>0</td>\n",
       "      <td>NaT</td>\n",
       "      <td>NaT</td>\n",
       "      <td>NaT</td>\n",
       "      <td>0</td>\n",
       "      <td>0</td>\n",
       "    </tr>\n",
       "    <tr>\n",
       "      <th>2</th>\n",
       "      <td>kevon dixon</td>\n",
       "      <td>Male</td>\n",
       "      <td>African-American</td>\n",
       "      <td>34</td>\n",
       "      <td>1982-01-22</td>\n",
       "      <td>2013-01-27</td>\n",
       "      <td>-1.0</td>\n",
       "      <td>3</td>\n",
       "      <td>1</td>\n",
       "      <td>2013-07-05</td>\n",
       "      <td>1</td>\n",
       "      <td>1</td>\n",
       "      <td>2013-07-05</td>\n",
       "      <td>159 days</td>\n",
       "      <td>159 days</td>\n",
       "      <td>1</td>\n",
       "      <td>1</td>\n",
       "    </tr>\n",
       "    <tr>\n",
       "      <th>3</th>\n",
       "      <td>ed philo</td>\n",
       "      <td>Male</td>\n",
       "      <td>African-American</td>\n",
       "      <td>24</td>\n",
       "      <td>1991-05-14</td>\n",
       "      <td>2013-04-14</td>\n",
       "      <td>-1.0</td>\n",
       "      <td>4</td>\n",
       "      <td>1</td>\n",
       "      <td>2013-06-16</td>\n",
       "      <td>3</td>\n",
       "      <td>0</td>\n",
       "      <td>NaT</td>\n",
       "      <td>63 days</td>\n",
       "      <td>NaT</td>\n",
       "      <td>1</td>\n",
       "      <td>0</td>\n",
       "    </tr>\n",
       "    <tr>\n",
       "      <th>6</th>\n",
       "      <td>marsha miles</td>\n",
       "      <td>Male</td>\n",
       "      <td>Other</td>\n",
       "      <td>44</td>\n",
       "      <td>1971-08-22</td>\n",
       "      <td>2013-11-30</td>\n",
       "      <td>0.0</td>\n",
       "      <td>1</td>\n",
       "      <td>0</td>\n",
       "      <td>NaT</td>\n",
       "      <td>1</td>\n",
       "      <td>0</td>\n",
       "      <td>NaT</td>\n",
       "      <td>NaT</td>\n",
       "      <td>NaT</td>\n",
       "      <td>0</td>\n",
       "      <td>0</td>\n",
       "    </tr>\n",
       "    <tr>\n",
       "      <th>7</th>\n",
       "      <td>edward riddle</td>\n",
       "      <td>Male</td>\n",
       "      <td>Caucasian</td>\n",
       "      <td>41</td>\n",
       "      <td>1974-07-23</td>\n",
       "      <td>2014-02-19</td>\n",
       "      <td>-1.0</td>\n",
       "      <td>6</td>\n",
       "      <td>1</td>\n",
       "      <td>2014-03-31</td>\n",
       "      <td>2</td>\n",
       "      <td>0</td>\n",
       "      <td>NaT</td>\n",
       "      <td>40 days</td>\n",
       "      <td>NaT</td>\n",
       "      <td>1</td>\n",
       "      <td>0</td>\n",
       "    </tr>\n",
       "  </tbody>\n",
       "</table>\n",
       "</div>"
      ],
      "text/plain": [
       "               name   sex              race  age        dob  \\\n",
       "0  miguel hernandez  Male             Other   69 1947-04-18   \n",
       "2       kevon dixon  Male  African-American   34 1982-01-22   \n",
       "3          ed philo  Male  African-American   24 1991-05-14   \n",
       "6      marsha miles  Male             Other   44 1971-08-22   \n",
       "7     edward riddle  Male         Caucasian   41 1974-07-23   \n",
       "\n",
       "  compas_screening_date  days_b_screening_arrest  decile_score  is_recid  \\\n",
       "0            2013-08-14                     -1.0             1         0   \n",
       "2            2013-01-27                     -1.0             3         1   \n",
       "3            2013-04-14                     -1.0             4         1   \n",
       "6            2013-11-30                      0.0             1         0   \n",
       "7            2014-02-19                     -1.0             6         1   \n",
       "\n",
       "  r_offense_date  v_decile_score  is_violent_recid vr_offense_date  \\\n",
       "0            NaT               1                 0             NaT   \n",
       "2     2013-07-05               1                 1      2013-07-05   \n",
       "3     2013-06-16               3                 0             NaT   \n",
       "6            NaT               1                 0             NaT   \n",
       "7     2014-03-31               2                 0             NaT   \n",
       "\n",
       "  r_offense_date_since vr_offense_date_since  two_year_recid  \\\n",
       "0                  NaT                   NaT               0   \n",
       "2             159 days              159 days               1   \n",
       "3              63 days                   NaT               1   \n",
       "6                  NaT                   NaT               0   \n",
       "7              40 days                   NaT               1   \n",
       "\n",
       "   two_year_violent_recid  \n",
       "0                       0  \n",
       "2                       1  \n",
       "3                       0  \n",
       "6                       0  \n",
       "7                       0  "
      ]
     },
     "execution_count": 46,
     "metadata": {},
     "output_type": "execute_result"
    }
   ],
   "source": [
    "historiales.head()"
   ]
  },
  {
   "cell_type": "code",
   "execution_count": 47,
   "id": "0b92eb4f",
   "metadata": {},
   "outputs": [
    {
     "name": "stdout",
     "output_type": "stream",
     "text": [
      "2252\n",
      "0   -231\n",
      "1    231\n",
      "dtype: int64\n",
      "\n",
      "10.257548845470692\n",
      "\n",
      "535\n",
      "0   -99\n",
      "1    99\n",
      "dtype: int64\n",
      "\n",
      "18.50467289719626\n"
     ]
    }
   ],
   "source": [
    "# Vemos cómo ha afectado este cambio, comparando el número de reincidentes que teníamos inicialmente, respecto a aquellos que reincidieron\n",
    "# más de dos años después de que cometieron el delito\n",
    "\n",
    "print(historiales.is_recid.sum())\n",
    "print(historiales.is_recid.value_counts()-historiales.two_year_recid.value_counts())\n",
    "print()\n",
    "print((historiales.is_recid.value_counts()-historiales.two_year_recid.value_counts())[1]/historiales.is_recid.sum()*100)\n",
    "print()\n",
    "print(historiales.is_violent_recid.sum())\n",
    "print(historiales.is_violent_recid.value_counts()-historiales.two_year_violent_recid.value_counts())\n",
    "print()\n",
    "print((historiales.is_violent_recid.value_counts()-historiales.two_year_violent_recid.value_counts())[1]/historiales.is_violent_recid.sum()*100)\n",
    "\n",
    "# Los porcentajes de delitos (especialmente en el caso de los delitos violentos) que el sistema no es capaz de predecir, no son desdeñables.\n",
    "# Queda la duda de si el porcentaje de predicibilidad de un sistema del tipo COMPAS se puede mejorar, o estos valores son aceptables. De todas formas,\n",
    "# considero que esto se escapa del objetivo de este ejercicio."
   ]
  },
  {
   "cell_type": "markdown",
   "id": "566c4ecd",
   "metadata": {},
   "source": [
    "## Punto 3\n",
    "**El umbral para establecer medidas preventivas de la reincidencia es de 7 en adelante. Dado este umbral, generar una tabla de contingencia, explicando qué caso se considera como “positivo” (y, por lo tanto, cuáles son los errores de tipo I y los errores de tipo II).**"
   ]
  },
  {
   "cell_type": "code",
   "execution_count": 48,
   "id": "3617099f",
   "metadata": {},
   "outputs": [],
   "source": [
    "# Creamos una columna nueva indicando para cada caso si, dependiendo de su puntuación COMPAS, se establecen medidas (valor 1), \n",
    "# o no se establecen medidas (valor 0)\n",
    "\n",
    "will_recid = np.where(historiales['decile_score'] >= 7, 1, 0)\n",
    "historiales['will_recid'] = will_recid\n",
    "        \n",
    "historiales['will_recid'] = historiales['will_recid'].astype('int64')"
   ]
  },
  {
   "cell_type": "code",
   "execution_count": 49,
   "id": "5b435e2f",
   "metadata": {},
   "outputs": [],
   "source": [
    "# De forma análoga, creamos una nueva columna, esta vez basada en las puntuaciones de sistema COMPAS para delitos con violencia\n",
    "\n",
    "will_violent_recid = np.where(historiales['v_decile_score'] >= 7, 1, 0)\n",
    "historiales['will_violent_recid'] = will_violent_recid\n",
    "        \n",
    "historiales['will_violent_recid'] = historiales['will_violent_recid'].astype('int64')"
   ]
  },
  {
   "cell_type": "code",
   "execution_count": 50,
   "id": "7f81b7d2",
   "metadata": {},
   "outputs": [
    {
     "data": {
      "text/html": [
       "<div>\n",
       "<style scoped>\n",
       "    .dataframe tbody tr th:only-of-type {\n",
       "        vertical-align: middle;\n",
       "    }\n",
       "\n",
       "    .dataframe tbody tr th {\n",
       "        vertical-align: top;\n",
       "    }\n",
       "\n",
       "    .dataframe thead th {\n",
       "        text-align: right;\n",
       "    }\n",
       "</style>\n",
       "<table border=\"1\" class=\"dataframe\">\n",
       "  <thead>\n",
       "    <tr style=\"text-align: right;\">\n",
       "      <th></th>\n",
       "      <th>name</th>\n",
       "      <th>sex</th>\n",
       "      <th>race</th>\n",
       "      <th>age</th>\n",
       "      <th>dob</th>\n",
       "      <th>compas_screening_date</th>\n",
       "      <th>days_b_screening_arrest</th>\n",
       "      <th>decile_score</th>\n",
       "      <th>is_recid</th>\n",
       "      <th>r_offense_date</th>\n",
       "      <th>v_decile_score</th>\n",
       "      <th>is_violent_recid</th>\n",
       "      <th>vr_offense_date</th>\n",
       "      <th>r_offense_date_since</th>\n",
       "      <th>vr_offense_date_since</th>\n",
       "      <th>two_year_recid</th>\n",
       "      <th>two_year_violent_recid</th>\n",
       "      <th>will_recid</th>\n",
       "      <th>will_violent_recid</th>\n",
       "    </tr>\n",
       "  </thead>\n",
       "  <tbody>\n",
       "    <tr>\n",
       "      <th>0</th>\n",
       "      <td>miguel hernandez</td>\n",
       "      <td>Male</td>\n",
       "      <td>Other</td>\n",
       "      <td>69</td>\n",
       "      <td>1947-04-18</td>\n",
       "      <td>2013-08-14</td>\n",
       "      <td>-1.0</td>\n",
       "      <td>1</td>\n",
       "      <td>0</td>\n",
       "      <td>NaT</td>\n",
       "      <td>1</td>\n",
       "      <td>0</td>\n",
       "      <td>NaT</td>\n",
       "      <td>NaT</td>\n",
       "      <td>NaT</td>\n",
       "      <td>0</td>\n",
       "      <td>0</td>\n",
       "      <td>0</td>\n",
       "      <td>0</td>\n",
       "    </tr>\n",
       "    <tr>\n",
       "      <th>2</th>\n",
       "      <td>kevon dixon</td>\n",
       "      <td>Male</td>\n",
       "      <td>African-American</td>\n",
       "      <td>34</td>\n",
       "      <td>1982-01-22</td>\n",
       "      <td>2013-01-27</td>\n",
       "      <td>-1.0</td>\n",
       "      <td>3</td>\n",
       "      <td>1</td>\n",
       "      <td>2013-07-05</td>\n",
       "      <td>1</td>\n",
       "      <td>1</td>\n",
       "      <td>2013-07-05</td>\n",
       "      <td>159 days</td>\n",
       "      <td>159 days</td>\n",
       "      <td>1</td>\n",
       "      <td>1</td>\n",
       "      <td>0</td>\n",
       "      <td>0</td>\n",
       "    </tr>\n",
       "    <tr>\n",
       "      <th>3</th>\n",
       "      <td>ed philo</td>\n",
       "      <td>Male</td>\n",
       "      <td>African-American</td>\n",
       "      <td>24</td>\n",
       "      <td>1991-05-14</td>\n",
       "      <td>2013-04-14</td>\n",
       "      <td>-1.0</td>\n",
       "      <td>4</td>\n",
       "      <td>1</td>\n",
       "      <td>2013-06-16</td>\n",
       "      <td>3</td>\n",
       "      <td>0</td>\n",
       "      <td>NaT</td>\n",
       "      <td>63 days</td>\n",
       "      <td>NaT</td>\n",
       "      <td>1</td>\n",
       "      <td>0</td>\n",
       "      <td>0</td>\n",
       "      <td>0</td>\n",
       "    </tr>\n",
       "    <tr>\n",
       "      <th>6</th>\n",
       "      <td>marsha miles</td>\n",
       "      <td>Male</td>\n",
       "      <td>Other</td>\n",
       "      <td>44</td>\n",
       "      <td>1971-08-22</td>\n",
       "      <td>2013-11-30</td>\n",
       "      <td>0.0</td>\n",
       "      <td>1</td>\n",
       "      <td>0</td>\n",
       "      <td>NaT</td>\n",
       "      <td>1</td>\n",
       "      <td>0</td>\n",
       "      <td>NaT</td>\n",
       "      <td>NaT</td>\n",
       "      <td>NaT</td>\n",
       "      <td>0</td>\n",
       "      <td>0</td>\n",
       "      <td>0</td>\n",
       "      <td>0</td>\n",
       "    </tr>\n",
       "    <tr>\n",
       "      <th>7</th>\n",
       "      <td>edward riddle</td>\n",
       "      <td>Male</td>\n",
       "      <td>Caucasian</td>\n",
       "      <td>41</td>\n",
       "      <td>1974-07-23</td>\n",
       "      <td>2014-02-19</td>\n",
       "      <td>-1.0</td>\n",
       "      <td>6</td>\n",
       "      <td>1</td>\n",
       "      <td>2014-03-31</td>\n",
       "      <td>2</td>\n",
       "      <td>0</td>\n",
       "      <td>NaT</td>\n",
       "      <td>40 days</td>\n",
       "      <td>NaT</td>\n",
       "      <td>1</td>\n",
       "      <td>0</td>\n",
       "      <td>0</td>\n",
       "      <td>0</td>\n",
       "    </tr>\n",
       "  </tbody>\n",
       "</table>\n",
       "</div>"
      ],
      "text/plain": [
       "               name   sex              race  age        dob  \\\n",
       "0  miguel hernandez  Male             Other   69 1947-04-18   \n",
       "2       kevon dixon  Male  African-American   34 1982-01-22   \n",
       "3          ed philo  Male  African-American   24 1991-05-14   \n",
       "6      marsha miles  Male             Other   44 1971-08-22   \n",
       "7     edward riddle  Male         Caucasian   41 1974-07-23   \n",
       "\n",
       "  compas_screening_date  days_b_screening_arrest  decile_score  is_recid  \\\n",
       "0            2013-08-14                     -1.0             1         0   \n",
       "2            2013-01-27                     -1.0             3         1   \n",
       "3            2013-04-14                     -1.0             4         1   \n",
       "6            2013-11-30                      0.0             1         0   \n",
       "7            2014-02-19                     -1.0             6         1   \n",
       "\n",
       "  r_offense_date  v_decile_score  is_violent_recid vr_offense_date  \\\n",
       "0            NaT               1                 0             NaT   \n",
       "2     2013-07-05               1                 1      2013-07-05   \n",
       "3     2013-06-16               3                 0             NaT   \n",
       "6            NaT               1                 0             NaT   \n",
       "7     2014-03-31               2                 0             NaT   \n",
       "\n",
       "  r_offense_date_since vr_offense_date_since  two_year_recid  \\\n",
       "0                  NaT                   NaT               0   \n",
       "2             159 days              159 days               1   \n",
       "3              63 days                   NaT               1   \n",
       "6                  NaT                   NaT               0   \n",
       "7              40 days                   NaT               1   \n",
       "\n",
       "   two_year_violent_recid  will_recid  will_violent_recid  \n",
       "0                       0           0                   0  \n",
       "2                       1           0                   0  \n",
       "3                       0           0                   0  \n",
       "6                       0           0                   0  \n",
       "7                       0           0                   0  "
      ]
     },
     "execution_count": 50,
     "metadata": {},
     "output_type": "execute_result"
    }
   ],
   "source": [
    "historiales.head()"
   ]
  },
  {
   "cell_type": "code",
   "execution_count": 51,
   "id": "a9af6c7e",
   "metadata": {},
   "outputs": [
    {
     "data": {
      "text/html": [
       "<div>\n",
       "<style scoped>\n",
       "    .dataframe tbody tr th:only-of-type {\n",
       "        vertical-align: middle;\n",
       "    }\n",
       "\n",
       "    .dataframe tbody tr th {\n",
       "        vertical-align: top;\n",
       "    }\n",
       "\n",
       "    .dataframe thead th {\n",
       "        text-align: right;\n",
       "    }\n",
       "</style>\n",
       "<table border=\"1\" class=\"dataframe\">\n",
       "  <thead>\n",
       "    <tr style=\"text-align: right;\">\n",
       "      <th>two_year_recid</th>\n",
       "      <th>1</th>\n",
       "      <th>0</th>\n",
       "    </tr>\n",
       "    <tr>\n",
       "      <th>will_recid</th>\n",
       "      <th></th>\n",
       "      <th></th>\n",
       "    </tr>\n",
       "  </thead>\n",
       "  <tbody>\n",
       "    <tr>\n",
       "      <th>1</th>\n",
       "      <td>819</td>\n",
       "      <td>788</td>\n",
       "    </tr>\n",
       "    <tr>\n",
       "      <th>0</th>\n",
       "      <td>1202</td>\n",
       "      <td>3271</td>\n",
       "    </tr>\n",
       "  </tbody>\n",
       "</table>\n",
       "</div>"
      ],
      "text/plain": [
       "two_year_recid     1     0\n",
       "will_recid                \n",
       "1                819   788\n",
       "0               1202  3271"
      ]
     },
     "execution_count": 51,
     "metadata": {},
     "output_type": "execute_result"
    }
   ],
   "source": [
    "# Generamos una tabla de contingencia, para averiguar las relaciones dentro de nuestro dataframe entre:\n",
    "# 'will_recid': predicción del sistema COMPAS de riesgo alto de reincidencia\n",
    "# 'two_year_recid': la persona reincidió o no en los siguientes 2 años\n",
    "\n",
    "tcont = pd.crosstab(historiales['will_recid'],historiales['two_year_recid'])\n",
    "tcont = tcont.reindex([1, 0],columns=[1, 0])\n",
    "tcont"
   ]
  },
  {
   "cell_type": "markdown",
   "id": "d6ed055d",
   "metadata": {},
   "source": [
    "Positivo: el caso que se busca. En este caso estamos tratando de predecir qué individuos tienen riesgo de reincidir.\n",
    "\n",
    "Por lo tanto los 4 cuadrantes de la celda tienen este significado:\n",
    "     \n",
    "- will_recid=1, two_year_recid=1: VERDADERO POSITIVO. COMPAS predice reincidencia, y el sujeto reincide\n",
    "- will_recid=1, two_year_recid=0: FALSO POSITIVO (ERROR TIPO I). COMPAS predice reincidencia, y el sujeto NO reincide\n",
    "- will_recid=0, two_year_recid=1: FALSO NEGATIVO (ERROR TIPO II). COMPAS NO predice reincidencia, y el sujeto reincide\n",
    "- will_recid=0, two_year_recid=0: VERDADERO NEGATIVO. COMPAS NO predice reincidencia, y el sujeto NO reincide"
   ]
  },
  {
   "cell_type": "code",
   "execution_count": 52,
   "id": "c2efc0dc",
   "metadata": {},
   "outputs": [
    {
     "data": {
      "text/html": [
       "<div>\n",
       "<style scoped>\n",
       "    .dataframe tbody tr th:only-of-type {\n",
       "        vertical-align: middle;\n",
       "    }\n",
       "\n",
       "    .dataframe tbody tr th {\n",
       "        vertical-align: top;\n",
       "    }\n",
       "\n",
       "    .dataframe thead th {\n",
       "        text-align: right;\n",
       "    }\n",
       "</style>\n",
       "<table border=\"1\" class=\"dataframe\">\n",
       "  <thead>\n",
       "    <tr style=\"text-align: right;\">\n",
       "      <th>two_year_violent_recid</th>\n",
       "      <th>1</th>\n",
       "      <th>0</th>\n",
       "    </tr>\n",
       "    <tr>\n",
       "      <th>will_violent_recid</th>\n",
       "      <th></th>\n",
       "      <th></th>\n",
       "    </tr>\n",
       "  </thead>\n",
       "  <tbody>\n",
       "    <tr>\n",
       "      <th>1</th>\n",
       "      <td>138</td>\n",
       "      <td>830</td>\n",
       "    </tr>\n",
       "    <tr>\n",
       "      <th>0</th>\n",
       "      <td>298</td>\n",
       "      <td>4814</td>\n",
       "    </tr>\n",
       "  </tbody>\n",
       "</table>\n",
       "</div>"
      ],
      "text/plain": [
       "two_year_violent_recid    1     0\n",
       "will_violent_recid               \n",
       "1                       138   830\n",
       "0                       298  4814"
      ]
     },
     "execution_count": 52,
     "metadata": {},
     "output_type": "execute_result"
    }
   ],
   "source": [
    "# Elaboramos la misma tabla con delitos violentos. Por lo tanto esta vez las relaciones son entre:\n",
    "# 'will_violent_recid'\n",
    "# 'two_year_violent_recid'\n",
    "\n",
    "v_tcont = pd.crosstab(historiales['will_violent_recid'], historiales['two_year_violent_recid'])\n",
    "v_tcont = v_tcont.reindex([1, 0],columns=[1, 0])\n",
    "v_tcont\n"
   ]
  },
  {
   "cell_type": "markdown",
   "id": "6a85fe86",
   "metadata": {
    "tags": []
   },
   "source": [
    "## Punto 4\n",
    "**El sistema asigna, de media, evaluaciones de riesgo más altas a los hombres que a las mujeres, y a las personas de raza afroamericana que a las de raza caucásica. Sin embargo, también las tasas de reincidencia son más altas para esos colectivos, aunque no está claro que la asignación de riesgo sea “justa” o no. Mostrar estas diferencias mediante representaciones gráficas y utilizarlas para analizar si la asignación de evaluaciones es justa o no.**"
   ]
  },
  {
   "cell_type": "markdown",
   "id": "d6df1761",
   "metadata": {},
   "source": [
    "Una posible opción a explorar sería partir del modelo de clasificación binaria elaborado en el punto anterior, y usarlo para diferentes grupos dentro de nuestro dataset (afroamericanos, caucásicos, hombres, mujeres...). Y hacer comparativas a partir de los resultados. Pero he decidido hacer un tipo de análisis diferente:\n",
    "\n",
    "Esta vez vamos a analizar las predicciones no con el parámetro 'will_recid' que tiene valores 0/1, sino con las predicciones originales de COMPAS ('decile_score', valores enteros de 1 a 10). Los datos reales con los que compararemos las predicciones de riesgo siguen siendo los mismos, es decir la columna 'two_year_recid' (que tiene valores 0/1).\n",
    "\n",
    "Surge entonces la duda de cómo comparar una variable de enteros de 1 a 10, con una variable 0/1.\n",
    "\n",
    "Se me ha ocurrido hacer el cálculo de una feature (le he llamado \"umbral de riesgo\", con valores entre el 1 y el 10) a partir de los datos reales de reincidencia. Y he comparado el valor de esta feature con las predicciones del 1 al 10 de riesgo de COMPAS, de forma gráfica.\n",
    "\n",
    "En pocas palabras, la pregunta que trato de responder con esta transformación y visualización de datos es: **Para determinados grupos (hombres, mujeres, afroamericanos, caucásicos...) ¿Se corresponde la evaluación de riesgo con la tasa a la que realmente reinciden esos grupos?**"
   ]
  },
  {
   "cell_type": "markdown",
   "id": "23b30558",
   "metadata": {},
   "source": [
    "### Definición del umbral de riesgo\n",
    "Comenzamos definiendo y explicando la función que nos servirá para calcular lo que hemos llamado \"umbral de riesgo\". Empezamos calculándolo para los delitos sin violencia."
   ]
  },
  {
   "cell_type": "code",
   "execution_count": 53,
   "id": "b88bdca9",
   "metadata": {},
   "outputs": [],
   "source": [
    "def umbral_riesgo_delito(df):\n",
    "    # En primer lugar, calculamos la tasa de reincidencia, es decir, el valor entre 0 y 1 que nos dice qué proporción de gente ha reincidido\n",
    "    tasa_reincidencia = df['two_year_recid'].mean()\n",
    "    # Por otro lado, cogemos la columna del dataframe con las puntuaciones COMPAS y la ordenamos de forma ascendente\n",
    "    listofscores = df['decile_score'].sort_values().to_list()\n",
    "    # Nos interesa saber, para una tasa de reincidencia determinada, en dónde está el \"punto de corte\" dentro de esa lista ordenada de puntuaciones COMPAS\n",
    "    posicion_en_lista = round(len(listofscores)*(1-tasa_reincidencia)-1) # Calculamos en qué posición está ese punto de corte, utilizando el valor \"1-tasa_reincidencia\"\n",
    "    decil_entero = listofscores[int(round(posicion_en_lista))] # Averiguamos a qué valor numérico de puntuación COMPAS le corresponde esa posición\n",
    "    # Y como, dentro de la lista ordenada, habrá valores con la misma puntuación tanto antes como después de ese punto de corte,\n",
    "    # ponderamos para obtener un valor decimal en vez de entero\n",
    "    valor_umbral = ((posicion_en_lista - listofscores.index(decil_entero))/(listofscores.index(decil_entero+1) - listofscores.index(decil_entero)))+decil_entero\n",
    "    return valor_umbral"
   ]
  },
  {
   "cell_type": "code",
   "execution_count": 54,
   "id": "bbdb70a2",
   "metadata": {
    "tags": []
   },
   "outputs": [
    {
     "data": {
      "text/plain": [
       "6.194174757281553"
      ]
     },
     "execution_count": 54,
     "metadata": {},
     "output_type": "execute_result"
    }
   ],
   "source": [
    "# Calculamos el umbral de riesgo en nuestro dataframe\n",
    "umbral_riesgo_delito(historiales)"
   ]
  },
  {
   "cell_type": "markdown",
   "id": "f20d37c3",
   "metadata": {},
   "source": [
    "Este es un valor informativo que relaciona la tasa de reincidencia real de delitos, con la puntuación COMPAS del 1 al 10.\n",
    "Nos da una idea (orientativa!) de, basándose en datos reales, a partir de qué puntuación COMPAS el riesgo de reincidir empieza a ser importante\n",
    "\n",
    "La verdadera utilidad de este valor es: ¿qué pasa cuando, en vez de calcularlo para todo el dataframe, lo calculemos para una porción del dataframe?\n",
    "(hombres, mujeres, blancos, negros...) ¿Serán valores similares, o hay grupos a los que se les PRESUPONE un riesgo mayor?"
   ]
  },
  {
   "cell_type": "markdown",
   "id": "482f87f4",
   "metadata": {},
   "source": [
    "### Cálculo del umbral de riesgo para diferentes grupos de la población, comparativa visual\n",
    "\n",
    "- Primero, vamos a usar el umbral para realizar la comparación entre los diferentes grupos de razas\n"
   ]
  },
  {
   "cell_type": "code",
   "execution_count": 55,
   "id": "38216dd9",
   "metadata": {},
   "outputs": [],
   "source": [
    "# En primer lugar, adaptamos la función anterior para que pueda hacer el cálculo especificando una columna categórica del dataframe\n",
    "\n",
    "def umbral_riesgo_cat(df,col,cat):\n",
    "    # Esta vez, la tasa de reincidencia se calcula para una categoría determinada dentro de la columna elegida\n",
    "    tasa_reincidencia = df[df[col] == cat]['two_year_recid'].mean()\n",
    "    # Y se comparará a su vez con las puntuaciones que se han asignado a los individuos pertenecientes a esa categoría\n",
    "    listofscores = df[df[col] == cat]['decile_score'].sort_values().to_list()\n",
    "    posicion_en_lista = round(len(listofscores)*(1-tasa_reincidencia)-1)\n",
    "    decil_entero = listofscores[int(round(posicion_en_lista))]\n",
    "    valor_umbral = ((posicion_en_lista - listofscores.index(decil_entero))/(listofscores.index(decil_entero+1) - listofscores.index(decil_entero)))+decil_entero\n",
    "    return valor_umbral"
   ]
  },
  {
   "cell_type": "code",
   "execution_count": 56,
   "id": "c92444bd",
   "metadata": {},
   "outputs": [
    {
     "name": "stdout",
     "output_type": "stream",
     "text": [
      "African-American    3122\n",
      "Caucasian           2062\n",
      "Hispanic             508\n",
      "Other                346\n",
      "Asian                 30\n",
      "Native American       12\n",
      "Name: race, dtype: int64\n"
     ]
    }
   ],
   "source": [
    "print(historiales['race'].value_counts())\n",
    "top_races = historiales['race'].value_counts().head(3).index.tolist()\n",
    "\n",
    "# A efectos de este análisis, por disponer de pocos valores para ciertas razas, nos quedamos sólo con las razas mayoritarias"
   ]
  },
  {
   "cell_type": "code",
   "execution_count": 57,
   "id": "f48722cd",
   "metadata": {},
   "outputs": [
    {
     "data": {
      "text/plain": [
       "{'African-American': 6.912337662337662,\n",
       " 'Caucasian': 5.391534391534392,\n",
       " 'Hispanic': 5.333333333333333}"
      ]
     },
     "execution_count": 57,
     "metadata": {},
     "output_type": "execute_result"
    }
   ],
   "source": [
    "# Llamamos a la función para cada una de las razas escogidas\n",
    "\n",
    "dict_race= {}\n",
    "for element in top_races:\n",
    "    dict_race[element]=umbral_riesgo_cat(historiales,'race',element)\n",
    "dict_race"
   ]
  },
  {
   "cell_type": "code",
   "execution_count": 58,
   "id": "c075ab92",
   "metadata": {},
   "outputs": [
    {
     "data": {
      "text/plain": [
       "<matplotlib.collections.LineCollection at 0x166a9f6ef08>"
      ]
     },
     "execution_count": 58,
     "metadata": {},
     "output_type": "execute_result"
    },
    {
     "data": {
      "image/png": "[encoded data removed]",
      "text/plain": [
       "<Figure size 432x288 with 1 Axes>"
      ]
     },
     "metadata": {
      "needs_background": "light"
     },
     "output_type": "display_data"
    }
   ],
   "source": [
    "# Representamos dichos valores para compararlos en un diagrama de barras, pintando el umbral de riesgo para todo el dataframe como referencia\n",
    "\n",
    "plt.bar(dict_race.keys(), dict_race.values())\n",
    "plt.hlines(umbral_riesgo_delito(historiales), xmin=-1, xmax=3, color='red')"
   ]
  },
  {
   "cell_type": "markdown",
   "id": "0658c81f",
   "metadata": {},
   "source": [
    "Los resultados son bastante llamativos. Para el grupo de los afroamericanos (barra azul), el umbral de riesgo está claramente por encima que para el conjunto de individuos estudiados (línea roja).\n",
    "La puntuación a partir de la cual los afroamericanos deberían presentar un riesgo, basándonos en datos reales de reincidencia, es claramente superior a la puntuación para el resto de individuos, y hay aún más diferencia si comparamos la puntuación de los afroamericanos con los de otras razas.\n",
    "Hay por lo tanto un sesgo en contra de los afroamericanos, y a favor de los caucásicos y los hispanos. Los que tienen un umbral de riesgo por encima de la media (afroamericanos) están teniendo puntuaciones demasiado altas. Justo lo contrario para caucásicos e hispanos.\n",
    "\n",
    "Repetimos el análisis, pero esta vez enfocándonos en los delitos violentos"
   ]
  },
  {
   "cell_type": "code",
   "execution_count": 59,
   "id": "d79e1de5",
   "metadata": {},
   "outputs": [],
   "source": [
    "# Adaptamos las funciones anteriores para que usen los datos relativos a delitos violentos\n",
    "\n",
    "def v_umbral_riesgo_delito(df):\n",
    "    tasa_reincidencia = df['two_year_violent_recid'].mean()\n",
    "    listofscores = df['v_decile_score'].sort_values().to_list()\n",
    "    posicion_en_lista = round(len(listofscores)*(1-tasa_reincidencia)-1) \n",
    "    decil_entero = listofscores[int(round(posicion_en_lista))]\n",
    "    valor_umbral = ((posicion_en_lista - listofscores.index(decil_entero))/(listofscores.index(decil_entero+1) - listofscores.index(decil_entero)))+decil_entero\n",
    "    return valor_umbral"
   ]
  },
  {
   "cell_type": "code",
   "execution_count": 60,
   "id": "ee27237e",
   "metadata": {
    "tags": []
   },
   "outputs": [
    {
     "data": {
      "text/plain": [
       "8.624"
      ]
     },
     "execution_count": 60,
     "metadata": {},
     "output_type": "execute_result"
    }
   ],
   "source": [
    "# Calculamos el umbral de riesgo en nuestro dataframe, para delitos violentos\n",
    "v_umbral_riesgo_delito(historiales)"
   ]
  },
  {
   "cell_type": "code",
   "execution_count": 61,
   "id": "0a2a8b25",
   "metadata": {},
   "outputs": [],
   "source": [
    "def v_umbral_riesgo_cat(df,col,cat):\n",
    "    tasa_reincidencia = df[df[col] == cat]['two_year_violent_recid'].mean()\n",
    "    listofscores = df[df[col] == cat]['v_decile_score'].sort_values().to_list()\n",
    "    posicion_en_lista = round(len(listofscores)*(1-tasa_reincidencia)-1)\n",
    "    decil_entero = listofscores[int(round(posicion_en_lista))]\n",
    "    valor_umbral = ((posicion_en_lista - listofscores.index(decil_entero))/(listofscores.index(decil_entero+1) - listofscores.index(decil_entero)))+decil_entero\n",
    "    return valor_umbral"
   ]
  },
  {
   "cell_type": "code",
   "execution_count": 62,
   "id": "2ee0a11e",
   "metadata": {},
   "outputs": [
    {
     "data": {
      "text/plain": [
       "{'African-American': 8.932642487046632,\n",
       " 'Caucasian': 7.657534246575342,\n",
       " 'Hispanic': 8.642857142857142}"
      ]
     },
     "execution_count": 62,
     "metadata": {},
     "output_type": "execute_result"
    }
   ],
   "source": [
    "# Llamamos a la función para cada una de las razas escogidas\n",
    "\n",
    "v_dict_race= {}\n",
    "for element in top_races:\n",
    "    v_dict_race[element]=v_umbral_riesgo_cat(historiales,'race',element)\n",
    "v_dict_race"
   ]
  },
  {
   "cell_type": "code",
   "execution_count": 63,
   "id": "5cf0bf52",
   "metadata": {},
   "outputs": [
    {
     "data": {
      "text/plain": [
       "<matplotlib.collections.LineCollection at 0x166a9fd8c08>"
      ]
     },
     "execution_count": 63,
     "metadata": {},
     "output_type": "execute_result"
    },
    {
     "data": {
      "image/png": "[encoded data removed]",
      "text/plain": [
       "<Figure size 432x288 with 1 Axes>"
      ]
     },
     "metadata": {
      "needs_background": "light"
     },
     "output_type": "display_data"
    }
   ],
   "source": [
    "# Representamos dichos valores para compararlos en un diagrama de barras, pintando el umbral de riesgo para todo el dataframe como referencia\n",
    "\n",
    "plt.bar(v_dict_race.keys(), v_dict_race.values())\n",
    "plt.hlines(v_umbral_riesgo_delito(historiales), xmin=-1, xmax=3, color='red')\n",
    "\n",
    "# Nuevamente hay un ligero sesgo en contra de los afroamericanos y a favor de los caucásicos, pero esta vez no hay sesgo a favor de los hispanos"
   ]
  },
  {
   "cell_type": "markdown",
   "id": "793571ef",
   "metadata": {},
   "source": [
    "Y ahora hacemos el mismo análisis comparativo para hombres y mujeres"
   ]
  },
  {
   "cell_type": "code",
   "execution_count": 64,
   "id": "5518d941",
   "metadata": {},
   "outputs": [
    {
     "data": {
      "text/plain": [
       "{'Male': 6.144607843137255, 'Female': 6.373831775700935}"
      ]
     },
     "execution_count": 64,
     "metadata": {},
     "output_type": "execute_result"
    }
   ],
   "source": [
    "dict_sex = {}\n",
    "for element in historiales['sex'].unique():\n",
    "    dict_sex[element]=umbral_riesgo_cat(historiales,'sex',element)\n",
    "dict_sex"
   ]
  },
  {
   "cell_type": "code",
   "execution_count": 65,
   "id": "5ea5d9e4",
   "metadata": {
    "tags": []
   },
   "outputs": [
    {
     "data": {
      "text/plain": [
       "<matplotlib.collections.LineCollection at 0x166a9ff5148>"
      ]
     },
     "execution_count": 65,
     "metadata": {},
     "output_type": "execute_result"
    },
    {
     "data": {
      "image/png": "[encoded data removed]",
      "text/plain": [
       "<Figure size 432x288 with 1 Axes>"
      ]
     },
     "metadata": {
      "needs_background": "light"
     },
     "output_type": "display_data"
    }
   ],
   "source": [
    "plt.bar(dict_sex.keys(), dict_sex.values())\n",
    "plt.hlines(umbral_riesgo_delito(historiales), xmin=-1, xmax=2, color='red')\n",
    "\n",
    "# En este caso, hay un ligero sesgo en contra de las mujeres"
   ]
  },
  {
   "cell_type": "code",
   "execution_count": 66,
   "id": "881e5976",
   "metadata": {},
   "outputs": [
    {
     "data": {
      "text/plain": [
       "{'Male': 8.72072072072072, 'Female': 7.9}"
      ]
     },
     "execution_count": 66,
     "metadata": {},
     "output_type": "execute_result"
    }
   ],
   "source": [
    "# Para delitos violentos:\n",
    "\n",
    "v_dict_sex = {}\n",
    "for element in historiales['sex'].unique():\n",
    "    v_dict_sex[element]=v_umbral_riesgo_cat(historiales,'sex',element)\n",
    "v_dict_sex"
   ]
  },
  {
   "cell_type": "code",
   "execution_count": 67,
   "id": "2cdb57ab",
   "metadata": {
    "tags": []
   },
   "outputs": [
    {
     "data": {
      "text/plain": [
       "<matplotlib.collections.LineCollection at 0x166a9fb5e88>"
      ]
     },
     "execution_count": 67,
     "metadata": {},
     "output_type": "execute_result"
    },
    {
     "data": {
      "image/png": "[encoded data removed]",
      "text/plain": [
       "<Figure size 432x288 with 1 Axes>"
      ]
     },
     "metadata": {
      "needs_background": "light"
     },
     "output_type": "display_data"
    }
   ],
   "source": [
    "plt.bar(v_dict_sex.keys(), v_dict_sex.values())\n",
    "plt.hlines(v_umbral_riesgo_delito(historiales), xmin=-1, xmax=2, color='red')\n",
    "\n",
    "# Sesgo en contra de los hombres y a favor de las mujeres"
   ]
  },
  {
   "cell_type": "markdown",
   "id": "c2a52b24",
   "metadata": {
    "tags": []
   },
   "source": [
    "Llama la atención que los sesgos son diferentes dependiendo de si estamos considerando delitos sin violencia o con violencia. Vamos a comprobar los valores de \"tasa_reincidencia\" que utilizábamos en las funciones umbral_riesgo, para ver qué obtenemos."
   ]
  },
  {
   "cell_type": "code",
   "execution_count": 68,
   "id": "e53b62e1",
   "metadata": {},
   "outputs": [
    {
     "name": "stdout",
     "output_type": "stream",
     "text": [
      "Tasa de reincidencia general:  0.3324013157894737\n",
      "Tasa de reincidencia para hombres:  0.35245404968693195\n",
      "Tasa de reincidencia para mujeres:  0.24446412754650132\n"
     ]
    }
   ],
   "source": [
    "# Para delitos no violentos: calculamos la tasa de reincidencia, tanto la general, como la correspondiente al conjunto de hombres y al conjunto de mujeres\n",
    "\n",
    "print('Tasa de reincidencia general: ', historiales['two_year_recid'].mean())\n",
    "print('Tasa de reincidencia para hombres: ', historiales[historiales['sex'] == 'Male']['two_year_recid'].mean())\n",
    "print('Tasa de reincidencia para mujeres: ', historiales[historiales['sex'] == 'Female']['two_year_recid'].mean())"
   ]
  },
  {
   "cell_type": "code",
   "execution_count": 69,
   "id": "25a71c55",
   "metadata": {},
   "outputs": [
    {
     "name": "stdout",
     "output_type": "stream",
     "text": [
      "Tasa de reincidencia general:  0.07171052631578947\n",
      "Tasa de reincidencia para hombres:  0.07715613007473238\n",
      "Tasa de reincidencia para mujeres:  0.047829937998228524\n"
     ]
    }
   ],
   "source": [
    "# Lo mismo para delitos violentos\n",
    "\n",
    "print('Tasa de reincidencia general: ', historiales['two_year_violent_recid'].mean())\n",
    "print('Tasa de reincidencia para hombres: ', historiales[historiales['sex'] == 'Male']['two_year_violent_recid'].mean())\n",
    "print('Tasa de reincidencia para mujeres: ', historiales[historiales['sex'] == 'Female']['two_year_violent_recid'].mean())"
   ]
  },
  {
   "cell_type": "markdown",
   "id": "c6e7cc32",
   "metadata": {},
   "source": [
    "Vemos que, para los delitos no violentos, la tasa de reincidencia está en un valor más \"centrado\" (más alejado del 0 y del 1) que para los delitos violentos.\n",
    "Probablemente, el tipo de transformación matemática que hemos hecho para calcular los umbrales de riesgo sea más sensible a errores cuando, al tener una tasa de reincidencia muy baja, se busca en los valores más extremos de las puntuaciones COMPAS."
   ]
  },
  {
   "cell_type": "markdown",
   "id": "0485fb45",
   "metadata": {
    "tags": []
   },
   "source": [
    "## Punto 5\n",
    "**¿Para qué tipo de riesgos, el de delitos generales o el de delitos violentos, tiene el sistema más capacidad predictiva?**"
   ]
  },
  {
   "cell_type": "markdown",
   "id": "e93f150f",
   "metadata": {},
   "source": [
    "### AUC ROC\n",
    "En el punto 3, definimos un clasificador binario (will_recid) en función de si las puntuaciones COMPAS (decile_score) sobrepasaban un determinado umbral.\n",
    "\n",
    "Para este tipo de clasificadores, como ya se hizo en el caso práctico 1 de la unidad 5 (desarrollar un clasificador de imágenes de 0s y 1s), se puede utilizar la curva ROC y la medida del área bajo la curva (AUC ROC) para determinar cómo de eficaz es el clasificador."
   ]
  },
  {
   "cell_type": "code",
   "execution_count": 70,
   "id": "b36785af",
   "metadata": {},
   "outputs": [
    {
     "data": {
      "text/plain": [
       "0.6740741675330928"
      ]
     },
     "execution_count": 70,
     "metadata": {},
     "output_type": "execute_result"
    }
   ],
   "source": [
    "# Calculamos el AUC ROC para el clasificador de delitos \"estándar\": 'decile_score'\n",
    "\n",
    "from sklearn.metrics import roc_auc_score\n",
    "\n",
    "roc_auc_score(historiales['two_year_recid'] == 1 , historiales['decile_score'])"
   ]
  },
  {
   "cell_type": "code",
   "execution_count": 71,
   "id": "33842def",
   "metadata": {},
   "outputs": [
    {
     "data": {
      "text/plain": [
       "0.6507176168245568"
      ]
     },
     "execution_count": 71,
     "metadata": {},
     "output_type": "execute_result"
    }
   ],
   "source": [
    "# Calculamos el AUC ROC para el clasificador de delitos violentos: 'v_decile_score'\n",
    "\n",
    "roc_auc_score(historiales['two_year_violent_recid'] == 1 , historiales['v_decile_score'])"
   ]
  },
  {
   "cell_type": "markdown",
   "id": "89c52443",
   "metadata": {},
   "source": [
    "Se ve que, en este caso, el clasificador para delitos no violentos es ligeramente mejor que el clasificador de delitos violentos, aunque tienen valores bastante similares"
   ]
  },
  {
   "cell_type": "markdown",
   "id": "2f853d05",
   "metadata": {},
   "source": [
    "### Análisis contextual\n",
    "Como complemento para responder a la pregunta, vamos a poner en contexto los conceptos teóricos estudiados acerca de los clasificadores, y vamos a ver cómo nos pueden ayudar en este caso concreto que estamos estudiando: un sistema para la predicción de personas potencialmente reincidentes.\n",
    "\n",
    "Intentaré responder una pregunta que me he hecho a mí mismo: **¿si yo fuese el responsable de decidir cómo usar los resultados del modelo, qué haría?** Además, tratando de responder a esta pregunta, podremos seguir indagando acerca de la pregunta hecha en el enunciado: para qué tipo de riesgos tiene el sistema más capacidad predictiva.\n",
    "\n",
    "_NOTA: esto lo hago simplemente \"como excusa\" para seguir haciendo exploraciones y sacando conclusiones acerca de los datos y los modelos que hemos usado en el caso práctico. Evidentemente, si fuese el responsable real de tomar decisiones acerca de esto, haría análisis muchísimo más profundos y cuidadoso, siendo como es este un tema tan delicado._\n",
    "\n",
    "Dicho esto, vamos a calcular las tablas de contigencia y los indicadores, jugando con la puntuación COMPAS que establecemos como umbral para considerar que el individuo va a reincidir, todo ello para las puntuaciones tanto de delitos no violentos como violentos."
   ]
  },
  {
   "cell_type": "code",
   "execution_count": 72,
   "id": "9413a184",
   "metadata": {},
   "outputs": [],
   "source": [
    "# La tabla de contigencia y los indicadores los vamos a calcular utilizando una función.\n",
    "# Esta función utiliza un código similar al utilizado para responder al Punto 3.\n",
    "\n",
    "def tabla_contingencia(nombre_col_decile, nombre_col_recid, umbral): \n",
    "    prediccion_recid = np.where(historiales[nombre_col_decile] >= umbral, 1, 0)\n",
    "    prediccion_recid = prediccion_recid.astype('int64')\n",
    "    tcont = pd.crosstab(prediccion_recid, historiales[nombre_col_recid])\n",
    "    tcont = tcont.reindex([1,0],columns=[1,0])\n",
    "    tcont = tcont.rename_axis(\"Predicción\", axis=\"index\").rename_axis(\"Realidad\", axis=\"columns\")\n",
    "    \n",
    "    # Para esta tabla de contigencia, calculamos los indicadores\n",
    "    sensibilidad = tcont[1][1]/(tcont[1][1]+tcont[1][0])\n",
    "    especifididad = tcont[0][0]/(tcont[0][0]+tcont[0][1])\n",
    "    exactitud = (tcont[1][1]+tcont[0][0])/tcont.sum().sum()\n",
    "    \n",
    "    return tcont, sensibilidad, especifididad, exactitud"
   ]
  },
  {
   "cell_type": "code",
   "execution_count": 73,
   "id": "bf5028bd",
   "metadata": {},
   "outputs": [
    {
     "name": "stdout",
     "output_type": "stream",
     "text": [
      "Para decile 2 SENSIBILIDAD, ESPECIFICIDAD, EXACTITUD: 0.900, 0.277, 0.484\n",
      "Para decile 3 SENSIBILIDAD, ESPECIFICIDAD, EXACTITUD: 0.810, 0.430, 0.556\n",
      "Para decile 4 SENSIBILIDAD, ESPECIFICIDAD, EXACTITUD: 0.715, 0.542, 0.599\n",
      "Para decile 5 SENSIBILIDAD, ESPECIFICIDAD, EXACTITUD: 0.611, 0.645, 0.634\n",
      "Para decile 6 SENSIBILIDAD, ESPECIFICIDAD, EXACTITUD: 0.518, 0.735, 0.663\n",
      "Para decile 7 SENSIBILIDAD, ESPECIFICIDAD, EXACTITUD: 0.405, 0.806, 0.673\n",
      "Para decile 8 SENSIBILIDAD, ESPECIFICIDAD, EXACTITUD: 0.297, 0.874, 0.682\n",
      "Para decile 9 SENSIBILIDAD, ESPECIFICIDAD, EXACTITUD: 0.191, 0.920, 0.678\n",
      "Para decile 10 SENSIBILIDAD, ESPECIFICIDAD, EXACTITUD: 0.082, 0.969, 0.674\n"
     ]
    }
   ],
   "source": [
    "# PARA DELITOS NO VIOLENTOS: calculamos el valor de los indicadores para cada valor de la puntuación COMPAS utilizado como umbral\n",
    "\n",
    "for decile in range(2,11):\n",
    "    tcont, sensibilidad, especifididad, exactitud = tabla_contingencia('decile_score', 'two_year_recid', decile)\n",
    "    print(f'Para decile {decile} SENSIBILIDAD, ESPECIFICIDAD, EXACTITUD: {sensibilidad:.3f}, {especifididad:.3f}, {exactitud:.3f}')"
   ]
  },
  {
   "cell_type": "code",
   "execution_count": 74,
   "id": "3cbc01af",
   "metadata": {},
   "outputs": [
    {
     "name": "stdout",
     "output_type": "stream",
     "text": [
      "Para decile 2 SENSIBILIDAD, ESPECIFICIDAD, EXACTITUD: 0.862, 0.291, 0.332\n",
      "Para decile 3 SENSIBILIDAD, ESPECIFICIDAD, EXACTITUD: 0.780, 0.443, 0.467\n",
      "Para decile 4 SENSIBILIDAD, ESPECIFICIDAD, EXACTITUD: 0.638, 0.574, 0.579\n",
      "Para decile 5 SENSIBILIDAD, ESPECIFICIDAD, EXACTITUD: 0.525, 0.682, 0.671\n",
      "Para decile 6 SENSIBILIDAD, ESPECIFICIDAD, EXACTITUD: 0.433, 0.774, 0.750\n",
      "Para decile 7 SENSIBILIDAD, ESPECIFICIDAD, EXACTITUD: 0.317, 0.853, 0.814\n",
      "Para decile 8 SENSIBILIDAD, ESPECIFICIDAD, EXACTITUD: 0.220, 0.912, 0.862\n",
      "Para decile 9 SENSIBILIDAD, ESPECIFICIDAD, EXACTITUD: 0.131, 0.949, 0.891\n",
      "Para decile 10 SENSIBILIDAD, ESPECIFICIDAD, EXACTITUD: 0.037, 0.984, 0.916\n"
     ]
    }
   ],
   "source": [
    "# PARA DELITOS VIOLENTOS\n",
    "\n",
    "for decile in range(2,11):\n",
    "    tcont, sensibilidad, especifididad, exactitud = tabla_contingencia('v_decile_score', 'two_year_violent_recid', decile)\n",
    "    print(f'Para decile {decile} SENSIBILIDAD, ESPECIFICIDAD, EXACTITUD: {sensibilidad:.3f}, {especifididad:.3f}, {exactitud:.3f}')"
   ]
  },
  {
   "cell_type": "markdown",
   "id": "7cb2bbdf",
   "metadata": {},
   "source": [
    "PARA DELITOS VIOLENTOS:\n",
    "\n",
    "¿Qué valor usaría yo como umbral para establecer medidas preventivas? Vamos a buscar un clasificador que tenga una exactitud alta (es decir, que acierte, \"que no cometa injusticias\"), pero también le vamos a dar bastante importancia al hecho de que el sistema tenga bastante sensibilidad (porque me interesa establecer medidas preventivas que afecten al individuo, pero que puedan evitar que cometa un crimen grave)\n",
    "\n",
    "Teniendo esto en mente, creo que para delitos VIOLENTOS establecería el umbral en 6, creo que balancea bien una proporción alta de predicciones acertadas con una proporción moderada de potenciales reincidentes que el sistema detecta.\n",
    "\n",
    "PARA DELITOS NO VIOLENTOS:\n",
    "\n",
    "En este caso le daría una importancia capital a que el sistema tenga una exactitud alta, y en menor medida que la especificidad sea alta (es decir, que no tome medidas preventivas que afecten al individuo, para evitar un crimen que no es grave)\n",
    "\n",
    "Teniendo esto en mente, para delitos NO VIOLENTOS establecería el umbral en 9."
   ]
  }
 ],
 "metadata": {
  "kernelspec": {
   "display_name": "Python 3 (ipykernel)",
   "language": "python",
   "name": "python3"
  },
  "language_info": {
   "codemirror_mode": {
    "name": "ipython",
    "version": 3
   },
   "file_extension": ".py",
   "mimetype": "text/x-python",
   "name": "python",
   "nbconvert_exporter": "python",
   "pygments_lexer": "ipython3",
   "version": "3.7.11"
  }
 },
 "nbformat": 4,
 "nbformat_minor": 5
}
