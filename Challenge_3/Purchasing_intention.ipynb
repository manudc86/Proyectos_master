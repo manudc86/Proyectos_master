{
 "cells": [
  {
   "cell_type": "markdown",
   "metadata": {},
   "source": [
    "# Descripción corta del challenge\n",
    "Se construirá un modelo para realizar predicciones acerca de qué visitantes de una página web son potenciales compradores (target categórica).\n",
    "- EDA y preprocesado de datos.\n",
    "- Testear diferentes modelos: optimización de parámetros, entrenamiento y predicción, obtención de métricas con datos de validación.\n",
    "- Selección del mejor modelo, umbralización de probabilidades, selección de umbral óptimo.\n",
    "\n",
    "# Contexto\n",
    "Trabajamos como científicos de datos para una empresa de retail que, debido al cambio en los hábitos de consumo de los clientes, está potenciando ampliamente el servicio de venta online. La empresa quiere realizar un modelo de aprendizaje automático para clasificar a los clientes en función de la probabilidad de generar ingresos al comprar en la web.\n",
    "\n",
    "El objetivo es realizar una serie de acciones específicas para los clientes que es más probable que hagan compras en la web.\n",
    "\n",
    "Para ello, la empresa ha ido recopilando datos con su herramienta de Google Analytics. Cuenta con datos de sesiones, cada una de ellas de un cliente distinto en un periodo de un año.\n",
    "\n",
    "## Información de los datos\n",
    "- El conjunto de datos consta de diez atributos numéricos y ocho categóricos.\n",
    "\n",
    "- El atributo revenue puede ser usado como la etiqueta de la clase.\n",
    "\n",
    "- Administrative, administrative duration, informational, informational duration, product related y product related duration representan el número de diferentes tipos de páginas visitadas por el visitante en esa sesión y el tiempo total dedicado a cada una de estas categorías de páginas. \n",
    "    + Los valores de estas características se derivan de la información del URL de las páginas visitadas por el usuario y se actualizan en tiempo real cuando el usuario realiza una acción, por ejemplo, pasar de una página a otra.\n",
    "    \n",
    "- Las características bounce rate, exit rate y page value representan las métricas medidas por Google Analytics para cada página del sitio de comercio electrónico.\n",
    "    + El valor de la característica bounce rate de una página web se refiere al porcentaje de visitantes que entran en el sitio desde esa página y luego salen (rebote) sin activar ninguna otra solicitud al servidor de análisis durante esa sesión.\n",
    "        - Ampliación sobre esto que encontré en la web: The value in this dataset is the average bounce rate of all pages visited by the user\n",
    "    + El valor de la característica exit rate para una página web específica se calcula como para todas las visitas a la página, el porcentaje que fueron las últimas en la sesión.\n",
    "        - The value in this dataset is the average exit rate of all pages visited by the user\n",
    "    + La función Page Value representa el valor medio de una página web que un usuario ha visitado antes de completar una transacción de comercio electrónico.\n",
    "        - The value in this dataset is the average page value of all pages visited by the user\n",
    "    \n",
    "- La característica de special day indica la cercanía de la hora de visita del sitio a un día especial específico (por ejemplo, el Día de la Madre, San Valentín) en el que es más probable que las sesiones finalicen con una transacción.\n",
    "    + El valor de este atributo se determina teniendo en cuenta la dinámica del comercio electrónico, como la duración entre la fecha del pedido y la fecha de entrega.\n",
    "        - Por ejemplo, para San Valentín, este valor toma un valor distinto de 0 entre el 2 y el 12 de febrero, 0 antes y después de esta fecha a menos que esté cerca de otro día especial, y su valor máximo de 1 el 8 de febrero.\n",
    "        \n",
    "- El conjunto de datos también incluye el sistema operativo, el navegador, la región, el tipo de tráfico, el tipo de visitante como visitante que regresa o como nuevo visitante, un valor booleano que indica si la fecha de la visita es de fin de semana, y el mes del año.\n",
    "    - Traffic Type: The source from which the user enters the website (e.g. Google Ads, Facebook, Instagram, organic)\n",
    "\n",
    "https://archive.ics.uci.edu/ml/datasets/Online+Shoppers+Purchasing+Intention+Dataset\n",
    "\n",
    "# Se pide\n",
    "1. Realización de un análisis de las variables del dataset de Google Analytics como pueden ser histogramas, boxplots, etc. Cualquier otro análisis es bienvenido, siempre explicándolo y con un sentido de negocio.\n",
    "\n",
    "2. Tratamiento de los valores faltantes, outliers, etc., en caso de que los hubiese. Si hay valores con missings, habrá que eliminarlos con el método de Pandas llamado Dropna().a.\n",
    "\n",
    "3. Tratamiento de categóricas, pasándolas a numéricas por medio de dummies, mapeándolas o utilizando un label encoder. Hay que justificar las operaciones que se realizan.\n",
    "\n",
    "4. Si existe alguna variable que se necesite borrar, habrá que borrara y justificarlo.\n",
    "\n",
    "5. Estandariza los datos.\n",
    "\n",
    "6. Dividir los datos en train y en test. Con los datos de train se pretende ajustar modelos con CrossValidation y GridSearch.\n",
    "\n",
    "    - Utilizar un modelo lineal. Entre los modelos lineales están las regresiones logísticas, las regresiones lineales, etc.\n",
    "    - Utilizar un modelo de redes neuronales.\n",
    "    - Utilizar cualquier otro modelo de clasificación.\n",
    "    \n",
    "    \n",
    "7. Optimizar algún parámetro de cada modelo utilizando CrossValidation y GridSearch, o de la forma que se estime oportuna, siempre justificándolo.\n",
    "\n",
    "8. Elegir el mejor modelo de los tres según la métrica ROC en CrossValidation. Predecir Test y obtener una métrica estimada.\n",
    "\n",
    "9. Umbralizar las probabilidades, valorar métricas."
   ]
  },
  {
   "cell_type": "markdown",
   "metadata": {},
   "source": [
    "# Carga de librerías"
   ]
  },
  {
   "cell_type": "code",
   "execution_count": 1,
   "metadata": {},
   "outputs": [],
   "source": [
    "import numpy as np\n",
    "import pandas as pd\n",
    "import matplotlib.pyplot as plt\n",
    "import seaborn as sns\n",
    "from sklearn.preprocessing import StandardScaler\n",
    "from sklearn.model_selection import train_test_split\n",
    "from sklearn.linear_model import LogisticRegression\n",
    "from sklearn.tree import DecisionTreeClassifier\n",
    "from sklearn.neural_network import MLPClassifier\n",
    "from sklearn.model_selection import GridSearchCV\n",
    "import sklearn.metrics as metrics\n",
    "import warnings\n",
    "warnings.filterwarnings('ignore')"
   ]
  },
  {
   "cell_type": "markdown",
   "metadata": {},
   "source": [
    "# Definición de funciones"
   ]
  },
  {
   "cell_type": "code",
   "execution_count": 2,
   "metadata": {},
   "outputs": [],
   "source": [
    "def represento_doble_hist(x_1, x_0, n_bins=11, title='', label_1='Clase 1', \n",
    "                          label_0='Clase 0', density=0):\n",
    "    '''\n",
    "    Función que recibe dos distribuciones de probabilidad y las representa\n",
    "    en el mismo gráfico\n",
    "    '''\n",
    "    bins = n_bins\n",
    "    plt.hist(x_1, bins, density = density, alpha=0.5, label=label_1, color='red')    \n",
    "    plt.hist(x_0, bins, density = density, alpha=0.5, label=label_0, color='green')\n",
    "    plt.title(title)\n",
    "    plt.legend(loc='best')\n",
    "    \n",
    "\n",
    "def hist_pos_neg_feat(x, y, density=0, nbins=11, targets=(0,1)):\n",
    "    '''\n",
    "    Representa las variables en x divididas en dos distribuciones\n",
    "    según su valor de y sea 1 o 0\n",
    "    '''\n",
    "    fig_tot = len(x.columns)\n",
    "    fig_tot_fila = 4.; fig_tamanio = 4.\n",
    "    num_filas = int( np.ceil(fig_tot/fig_tot_fila) )\n",
    "    plt.figure( figsize=( fig_tot_fila*fig_tamanio+2, num_filas*fig_tamanio+2 ) )\n",
    "    target_neg, target_pos = targets\n",
    "    for i, feat in enumerate(x.columns):\n",
    "        plt.subplot(num_filas, fig_tot_fila, i+1);\n",
    "        plt.title('%s' % feat)\n",
    "        idx_pos = y == target_pos\n",
    "        idx_neg= y == target_neg\n",
    "        represento_doble_hist(x[feat][idx_pos].values, x[feat][idx_neg].values, nbins, \n",
    "                   density = density, title=('%s' % feat))\n",
    "\n",
    "def barras_proporcionales(x, y):\n",
    "    \"\"\"\n",
    "    Para variables categóricas, o numéricas con pocos valores diferentes\n",
    "    Recibe una variable independiente y la variable dependiente de un dataframe,\n",
    "    y para cada nivel de la variable independiente representa sendas barras \n",
    "    con las proporciones de las observaciones que son clase positiva y negativa\n",
    "    Además, se pinta una línea horizontal que representa la proporción de clase positiva\n",
    "    en todo el dataset\n",
    "    \"\"\"\n",
    "    for feat in x.columns:\n",
    "        tabla_proporciones = pd.crosstab(x[feat], y, normalize='index')\n",
    "        tabla_proporciones.plot(kind=\"bar\")\n",
    "        plt.ylabel('Proporción de cada clase')\n",
    "        plt.axhline(y=(y.value_counts()/len(y)).values[1], color='r', linestyle='-')\n",
    "        plt.show()"
   ]
  },
  {
   "cell_type": "markdown",
   "metadata": {},
   "source": [
    "# 1. Realización de un análisis de las variables\n",
    "# 2. Tratamiento de los valores faltantes, outliers, etc., en caso de que los hubiese. Si hay valores con missings, habrá que eliminarlos con el método de Pandas llamado Dropna().a.\n",
    "Se harán ambos apartados conjuntamente\n",
    "\n",
    "## Carga de fichero"
   ]
  },
  {
   "cell_type": "code",
   "execution_count": 3,
   "metadata": {},
   "outputs": [],
   "source": [
    "XY = pd.read_csv('online_shoppers_intention.csv')"
   ]
  },
  {
   "cell_type": "markdown",
   "metadata": {},
   "source": [
    "## Exploración general del dataset"
   ]
  },
  {
   "cell_type": "code",
   "execution_count": 4,
   "metadata": {},
   "outputs": [
    {
     "data": {
      "text/plain": [
       "(12330, 18)"
      ]
     },
     "execution_count": 4,
     "metadata": {},
     "output_type": "execute_result"
    }
   ],
   "source": [
    "XY.shape"
   ]
  },
  {
   "cell_type": "code",
   "execution_count": 5,
   "metadata": {
    "scrolled": true
   },
   "outputs": [
    {
     "data": {
      "text/html": [
       "<div>\n",
       "<style scoped>\n",
       "    .dataframe tbody tr th:only-of-type {\n",
       "        vertical-align: middle;\n",
       "    }\n",
       "\n",
       "    .dataframe tbody tr th {\n",
       "        vertical-align: top;\n",
       "    }\n",
       "\n",
       "    .dataframe thead th {\n",
       "        text-align: right;\n",
       "    }\n",
       "</style>\n",
       "<table border=\"1\" class=\"dataframe\">\n",
       "  <thead>\n",
       "    <tr style=\"text-align: right;\">\n",
       "      <th></th>\n",
       "      <th>Administrative</th>\n",
       "      <th>Administrative_Duration</th>\n",
       "      <th>Informational</th>\n",
       "      <th>Informational_Duration</th>\n",
       "      <th>ProductRelated</th>\n",
       "      <th>ProductRelated_Duration</th>\n",
       "      <th>BounceRates</th>\n",
       "      <th>ExitRates</th>\n",
       "      <th>PageValues</th>\n",
       "      <th>SpecialDay</th>\n",
       "      <th>Month</th>\n",
       "      <th>OperatingSystems</th>\n",
       "      <th>Browser</th>\n",
       "      <th>Region</th>\n",
       "      <th>TrafficType</th>\n",
       "      <th>VisitorType</th>\n",
       "      <th>Weekend</th>\n",
       "      <th>Revenue</th>\n",
       "    </tr>\n",
       "  </thead>\n",
       "  <tbody>\n",
       "    <tr>\n",
       "      <th>0</th>\n",
       "      <td>0.0</td>\n",
       "      <td>0.0</td>\n",
       "      <td>0.0</td>\n",
       "      <td>0.0</td>\n",
       "      <td>1.0</td>\n",
       "      <td>0.000000</td>\n",
       "      <td>0.20</td>\n",
       "      <td>0.20</td>\n",
       "      <td>0.0</td>\n",
       "      <td>0.0</td>\n",
       "      <td>Feb</td>\n",
       "      <td>1</td>\n",
       "      <td>1</td>\n",
       "      <td>1</td>\n",
       "      <td>1</td>\n",
       "      <td>Returning_Visitor</td>\n",
       "      <td>False</td>\n",
       "      <td>False</td>\n",
       "    </tr>\n",
       "    <tr>\n",
       "      <th>1</th>\n",
       "      <td>0.0</td>\n",
       "      <td>0.0</td>\n",
       "      <td>0.0</td>\n",
       "      <td>0.0</td>\n",
       "      <td>2.0</td>\n",
       "      <td>64.000000</td>\n",
       "      <td>0.00</td>\n",
       "      <td>0.10</td>\n",
       "      <td>0.0</td>\n",
       "      <td>0.0</td>\n",
       "      <td>Feb</td>\n",
       "      <td>2</td>\n",
       "      <td>2</td>\n",
       "      <td>1</td>\n",
       "      <td>2</td>\n",
       "      <td>Returning_Visitor</td>\n",
       "      <td>False</td>\n",
       "      <td>False</td>\n",
       "    </tr>\n",
       "    <tr>\n",
       "      <th>2</th>\n",
       "      <td>0.0</td>\n",
       "      <td>-1.0</td>\n",
       "      <td>0.0</td>\n",
       "      <td>-1.0</td>\n",
       "      <td>1.0</td>\n",
       "      <td>-1.000000</td>\n",
       "      <td>0.20</td>\n",
       "      <td>0.20</td>\n",
       "      <td>0.0</td>\n",
       "      <td>0.0</td>\n",
       "      <td>Feb</td>\n",
       "      <td>4</td>\n",
       "      <td>1</td>\n",
       "      <td>9</td>\n",
       "      <td>3</td>\n",
       "      <td>Returning_Visitor</td>\n",
       "      <td>False</td>\n",
       "      <td>False</td>\n",
       "    </tr>\n",
       "    <tr>\n",
       "      <th>3</th>\n",
       "      <td>0.0</td>\n",
       "      <td>0.0</td>\n",
       "      <td>0.0</td>\n",
       "      <td>0.0</td>\n",
       "      <td>2.0</td>\n",
       "      <td>2.666667</td>\n",
       "      <td>0.05</td>\n",
       "      <td>0.14</td>\n",
       "      <td>0.0</td>\n",
       "      <td>0.0</td>\n",
       "      <td>Feb</td>\n",
       "      <td>3</td>\n",
       "      <td>2</td>\n",
       "      <td>2</td>\n",
       "      <td>4</td>\n",
       "      <td>Returning_Visitor</td>\n",
       "      <td>False</td>\n",
       "      <td>False</td>\n",
       "    </tr>\n",
       "    <tr>\n",
       "      <th>4</th>\n",
       "      <td>0.0</td>\n",
       "      <td>0.0</td>\n",
       "      <td>0.0</td>\n",
       "      <td>0.0</td>\n",
       "      <td>10.0</td>\n",
       "      <td>627.500000</td>\n",
       "      <td>0.02</td>\n",
       "      <td>0.05</td>\n",
       "      <td>0.0</td>\n",
       "      <td>0.0</td>\n",
       "      <td>Feb</td>\n",
       "      <td>3</td>\n",
       "      <td>3</td>\n",
       "      <td>1</td>\n",
       "      <td>4</td>\n",
       "      <td>Returning_Visitor</td>\n",
       "      <td>True</td>\n",
       "      <td>False</td>\n",
       "    </tr>\n",
       "  </tbody>\n",
       "</table>\n",
       "</div>"
      ],
      "text/plain": [
       "   Administrative  Administrative_Duration  Informational  \\\n",
       "0             0.0                      0.0            0.0   \n",
       "1             0.0                      0.0            0.0   \n",
       "2             0.0                     -1.0            0.0   \n",
       "3             0.0                      0.0            0.0   \n",
       "4             0.0                      0.0            0.0   \n",
       "\n",
       "   Informational_Duration  ProductRelated  ProductRelated_Duration  \\\n",
       "0                     0.0             1.0                 0.000000   \n",
       "1                     0.0             2.0                64.000000   \n",
       "2                    -1.0             1.0                -1.000000   \n",
       "3                     0.0             2.0                 2.666667   \n",
       "4                     0.0            10.0               627.500000   \n",
       "\n",
       "   BounceRates  ExitRates  PageValues  SpecialDay Month  OperatingSystems  \\\n",
       "0         0.20       0.20         0.0         0.0   Feb                 1   \n",
       "1         0.00       0.10         0.0         0.0   Feb                 2   \n",
       "2         0.20       0.20         0.0         0.0   Feb                 4   \n",
       "3         0.05       0.14         0.0         0.0   Feb                 3   \n",
       "4         0.02       0.05         0.0         0.0   Feb                 3   \n",
       "\n",
       "   Browser  Region  TrafficType        VisitorType  Weekend  Revenue  \n",
       "0        1       1            1  Returning_Visitor    False    False  \n",
       "1        2       1            2  Returning_Visitor    False    False  \n",
       "2        1       9            3  Returning_Visitor    False    False  \n",
       "3        2       2            4  Returning_Visitor    False    False  \n",
       "4        3       1            4  Returning_Visitor     True    False  "
      ]
     },
     "execution_count": 5,
     "metadata": {},
     "output_type": "execute_result"
    }
   ],
   "source": [
    "XY.head()"
   ]
  },
  {
   "cell_type": "markdown",
   "metadata": {},
   "source": [
    "### Variables numéricas y categóricas"
   ]
  },
  {
   "cell_type": "code",
   "execution_count": 6,
   "metadata": {},
   "outputs": [
    {
     "data": {
      "text/plain": [
       "Administrative             float64\n",
       "Administrative_Duration    float64\n",
       "Informational              float64\n",
       "Informational_Duration     float64\n",
       "ProductRelated             float64\n",
       "ProductRelated_Duration    float64\n",
       "BounceRates                float64\n",
       "ExitRates                  float64\n",
       "PageValues                 float64\n",
       "SpecialDay                 float64\n",
       "Month                       object\n",
       "OperatingSystems             int64\n",
       "Browser                      int64\n",
       "Region                       int64\n",
       "TrafficType                  int64\n",
       "VisitorType                 object\n",
       "Weekend                       bool\n",
       "Revenue                       bool\n",
       "dtype: object"
      ]
     },
     "execution_count": 6,
     "metadata": {},
     "output_type": "execute_result"
    }
   ],
   "source": [
    "XY.dtypes"
   ]
  },
  {
   "cell_type": "markdown",
   "metadata": {},
   "source": [
    "Se nos decía en el enunciado que había 8 variables categóricas, vamos a explorar el significado de las variables y modificaremos aquellas que consideremos conveniente:"
   ]
  },
  {
   "cell_type": "code",
   "execution_count": 7,
   "metadata": {},
   "outputs": [
    {
     "name": "stdout",
     "output_type": "stream",
     "text": [
      "Columna Administrative : 27  valores\n",
      "Columna Administrative_Duration : 3336  valores\n",
      "Columna Informational : 17  valores\n",
      "Columna Informational_Duration : 1259  valores\n",
      "Columna ProductRelated : 311  valores\n",
      "Columna ProductRelated_Duration : 9552  valores\n",
      "Columna BounceRates : 1872  valores\n",
      "Columna ExitRates : 4777  valores\n",
      "Columna PageValues : 2704  valores\n",
      "Columna SpecialDay : 6  valores\n",
      "Columna Month : 10  valores\n",
      "Columna OperatingSystems : 8  valores\n",
      "Columna Browser : 13  valores\n",
      "Columna Region : 9  valores\n",
      "Columna TrafficType : 20  valores\n",
      "Columna VisitorType : 3  valores\n",
      "Columna Weekend : 2  valores\n",
      "Columna Revenue : 2  valores\n"
     ]
    }
   ],
   "source": [
    "# Buscamos las variables con pocos valores\n",
    "for column in XY:\n",
    "    print('Columna', column, ':', len(XY[column].value_counts()), ' valores')"
   ]
  },
  {
   "cell_type": "markdown",
   "metadata": {},
   "source": [
    "Special Day se puede considerar numérica porque marca la cercanía en tiempo a una fecha concreta.\n",
    "Son las últimas 7 variables independientes las que vamos a considerar como categóricas. Además, mapeamos los valores de las booleanas a 0 y 1."
   ]
  },
  {
   "cell_type": "code",
   "execution_count": 8,
   "metadata": {},
   "outputs": [],
   "source": [
    "# Mapeamos las booleanas\n",
    "XY['Weekend'] = XY['Weekend'].map({False:0, True:1})\n",
    "XY['Revenue'] = XY['Revenue'].map({False:0, True:1})"
   ]
  },
  {
   "cell_type": "code",
   "execution_count": 9,
   "metadata": {},
   "outputs": [],
   "source": [
    "# Creamos una lista con las variables categóricas, nos ayudará posteriormente.\n",
    "lista_categoricas = ['Month', 'OperatingSystems', 'Browser', 'Region', 'TrafficType', 'VisitorType', 'Weekend']"
   ]
  },
  {
   "cell_type": "code",
   "execution_count": 10,
   "metadata": {},
   "outputs": [],
   "source": [
    "# las demás (excepto la target), irán al listado de numéricas\n",
    "lista_numericas = []\n",
    "for element in XY.columns[:-1]:\n",
    "    if element not in lista_categoricas:\n",
    "        lista_numericas.append(element)\n",
    "    else:\n",
    "        pass"
   ]
  },
  {
   "cell_type": "markdown",
   "metadata": {},
   "source": [
    "### Análisis preliminar del conjunto de variables"
   ]
  },
  {
   "cell_type": "markdown",
   "metadata": {},
   "source": [
    "Comenzamos el análisis genérico del dataset por las variables numéricas, posteriormente abordamos las categóricas\n",
    "\n",
    "- Variables numéricas"
   ]
  },
  {
   "cell_type": "code",
   "execution_count": 11,
   "metadata": {
    "scrolled": false
   },
   "outputs": [
    {
     "data": {
      "text/html": [
       "<div>\n",
       "<style scoped>\n",
       "    .dataframe tbody tr th:only-of-type {\n",
       "        vertical-align: middle;\n",
       "    }\n",
       "\n",
       "    .dataframe tbody tr th {\n",
       "        vertical-align: top;\n",
       "    }\n",
       "\n",
       "    .dataframe thead th {\n",
       "        text-align: right;\n",
       "    }\n",
       "</style>\n",
       "<table border=\"1\" class=\"dataframe\">\n",
       "  <thead>\n",
       "    <tr style=\"text-align: right;\">\n",
       "      <th></th>\n",
       "      <th>Administrative</th>\n",
       "      <th>Administrative_Duration</th>\n",
       "      <th>Informational</th>\n",
       "      <th>Informational_Duration</th>\n",
       "      <th>ProductRelated</th>\n",
       "      <th>ProductRelated_Duration</th>\n",
       "      <th>BounceRates</th>\n",
       "      <th>ExitRates</th>\n",
       "      <th>PageValues</th>\n",
       "      <th>SpecialDay</th>\n",
       "    </tr>\n",
       "  </thead>\n",
       "  <tbody>\n",
       "    <tr>\n",
       "      <th>count</th>\n",
       "      <td>12316.000000</td>\n",
       "      <td>12316.000000</td>\n",
       "      <td>12316.000000</td>\n",
       "      <td>12316.000000</td>\n",
       "      <td>12316.000000</td>\n",
       "      <td>12316.000000</td>\n",
       "      <td>12316.000000</td>\n",
       "      <td>12316.000000</td>\n",
       "      <td>12330.000000</td>\n",
       "      <td>12330.000000</td>\n",
       "    </tr>\n",
       "    <tr>\n",
       "      <th>mean</th>\n",
       "      <td>2.317798</td>\n",
       "      <td>80.906176</td>\n",
       "      <td>0.503979</td>\n",
       "      <td>34.506387</td>\n",
       "      <td>31.763884</td>\n",
       "      <td>1196.037057</td>\n",
       "      <td>0.022152</td>\n",
       "      <td>0.043003</td>\n",
       "      <td>5.889258</td>\n",
       "      <td>0.061427</td>\n",
       "    </tr>\n",
       "    <tr>\n",
       "      <th>std</th>\n",
       "      <td>3.322754</td>\n",
       "      <td>176.860432</td>\n",
       "      <td>1.270701</td>\n",
       "      <td>140.825479</td>\n",
       "      <td>44.490339</td>\n",
       "      <td>1914.372511</td>\n",
       "      <td>0.048427</td>\n",
       "      <td>0.048527</td>\n",
       "      <td>18.568437</td>\n",
       "      <td>0.198917</td>\n",
       "    </tr>\n",
       "    <tr>\n",
       "      <th>min</th>\n",
       "      <td>0.000000</td>\n",
       "      <td>-1.000000</td>\n",
       "      <td>0.000000</td>\n",
       "      <td>-1.000000</td>\n",
       "      <td>0.000000</td>\n",
       "      <td>-1.000000</td>\n",
       "      <td>0.000000</td>\n",
       "      <td>0.000000</td>\n",
       "      <td>0.000000</td>\n",
       "      <td>0.000000</td>\n",
       "    </tr>\n",
       "    <tr>\n",
       "      <th>25%</th>\n",
       "      <td>0.000000</td>\n",
       "      <td>0.000000</td>\n",
       "      <td>0.000000</td>\n",
       "      <td>0.000000</td>\n",
       "      <td>7.000000</td>\n",
       "      <td>185.000000</td>\n",
       "      <td>0.000000</td>\n",
       "      <td>0.014286</td>\n",
       "      <td>0.000000</td>\n",
       "      <td>0.000000</td>\n",
       "    </tr>\n",
       "    <tr>\n",
       "      <th>50%</th>\n",
       "      <td>1.000000</td>\n",
       "      <td>8.000000</td>\n",
       "      <td>0.000000</td>\n",
       "      <td>0.000000</td>\n",
       "      <td>18.000000</td>\n",
       "      <td>599.766190</td>\n",
       "      <td>0.003119</td>\n",
       "      <td>0.025124</td>\n",
       "      <td>0.000000</td>\n",
       "      <td>0.000000</td>\n",
       "    </tr>\n",
       "    <tr>\n",
       "      <th>75%</th>\n",
       "      <td>4.000000</td>\n",
       "      <td>93.500000</td>\n",
       "      <td>0.000000</td>\n",
       "      <td>0.000000</td>\n",
       "      <td>38.000000</td>\n",
       "      <td>1466.479902</td>\n",
       "      <td>0.016684</td>\n",
       "      <td>0.050000</td>\n",
       "      <td>0.000000</td>\n",
       "      <td>0.000000</td>\n",
       "    </tr>\n",
       "    <tr>\n",
       "      <th>max</th>\n",
       "      <td>27.000000</td>\n",
       "      <td>3398.750000</td>\n",
       "      <td>24.000000</td>\n",
       "      <td>2549.375000</td>\n",
       "      <td>705.000000</td>\n",
       "      <td>63973.522230</td>\n",
       "      <td>0.200000</td>\n",
       "      <td>0.200000</td>\n",
       "      <td>361.763742</td>\n",
       "      <td>1.000000</td>\n",
       "    </tr>\n",
       "  </tbody>\n",
       "</table>\n",
       "</div>"
      ],
      "text/plain": [
       "       Administrative  Administrative_Duration  Informational  \\\n",
       "count    12316.000000             12316.000000   12316.000000   \n",
       "mean         2.317798                80.906176       0.503979   \n",
       "std          3.322754               176.860432       1.270701   \n",
       "min          0.000000                -1.000000       0.000000   \n",
       "25%          0.000000                 0.000000       0.000000   \n",
       "50%          1.000000                 8.000000       0.000000   \n",
       "75%          4.000000                93.500000       0.000000   \n",
       "max         27.000000              3398.750000      24.000000   \n",
       "\n",
       "       Informational_Duration  ProductRelated  ProductRelated_Duration  \\\n",
       "count            12316.000000    12316.000000             12316.000000   \n",
       "mean                34.506387       31.763884              1196.037057   \n",
       "std                140.825479       44.490339              1914.372511   \n",
       "min                 -1.000000        0.000000                -1.000000   \n",
       "25%                  0.000000        7.000000               185.000000   \n",
       "50%                  0.000000       18.000000               599.766190   \n",
       "75%                  0.000000       38.000000              1466.479902   \n",
       "max               2549.375000      705.000000             63973.522230   \n",
       "\n",
       "        BounceRates     ExitRates    PageValues    SpecialDay  \n",
       "count  12316.000000  12316.000000  12330.000000  12330.000000  \n",
       "mean       0.022152      0.043003      5.889258      0.061427  \n",
       "std        0.048427      0.048527     18.568437      0.198917  \n",
       "min        0.000000      0.000000      0.000000      0.000000  \n",
       "25%        0.000000      0.014286      0.000000      0.000000  \n",
       "50%        0.003119      0.025124      0.000000      0.000000  \n",
       "75%        0.016684      0.050000      0.000000      0.000000  \n",
       "max        0.200000      0.200000    361.763742      1.000000  "
      ]
     },
     "execution_count": 11,
     "metadata": {},
     "output_type": "execute_result"
    }
   ],
   "source": [
    "XY[lista_numericas].describe()"
   ]
  },
  {
   "cell_type": "markdown",
   "metadata": {},
   "source": [
    "**Comportamiento en la web del consumidor mediano**\n",
    "\n",
    "- 1 visita a páginas Administrative, 8 minutos de duración\n",
    "- 0 visitas a páginas Informational, 0 minutos de duración\n",
    "- 18 visitas a páginas Product, 600 minutos de duración\n",
    "- Bounce rate de 0.003 (max 0.20)\n",
    "- Exit rate de 0.05 (max 0.20)\n",
    "- Page value de 0 (max 361)\n",
    "- Poca cercanía a SpecialDays\n",
    "\n",
    "Muchos outliers en los extremos superiores\n",
    "\n",
    "Valores de -1 en las columnas *duration\n",
    "\n"
   ]
  },
  {
   "cell_type": "code",
   "execution_count": 12,
   "metadata": {},
   "outputs": [
    {
     "data": {
      "text/plain": [
       "(33, 18)"
      ]
     },
     "execution_count": 12,
     "metadata": {},
     "output_type": "execute_result"
    }
   ],
   "source": [
    "# Vamos a inspeccionar estos valores -1\n",
    "\n",
    "XY[(XY['Administrative_Duration'] == -1) | \\\n",
    "    (XY['Informational_Duration'] == -1) | \\\n",
    "    (XY['ProductRelated_Duration'] == -1)].shape"
   ]
  },
  {
   "cell_type": "code",
   "execution_count": 13,
   "metadata": {
    "scrolled": true
   },
   "outputs": [],
   "source": [
    "# Vemos que son pocos valores, y coinciden en las mismas observaciones. Los eliminamos.\n",
    "XY = XY.drop(XY[(XY['Administrative_Duration'] == -1) | \\\n",
    "                (XY['Informational_Duration'] == -1) | \\\n",
    "                (XY['ProductRelated_Duration'] == -1)].index)"
   ]
  },
  {
   "cell_type": "markdown",
   "metadata": {},
   "source": [
    "- Variables categóricas\n",
    "\n",
    "Escogemos realizar un diagrama de barras para cada una"
   ]
  },
  {
   "cell_type": "code",
   "execution_count": 14,
   "metadata": {
    "scrolled": false
   },
   "outputs": [
    {
     "data": {
      "image/png": "[encoded data removed]",
      "text/plain": [
       "<Figure size 432x288 with 1 Axes>"
      ]
     },
     "metadata": {
      "needs_background": "light"
     },
     "output_type": "display_data"
    },
    {
     "data": {
      "image/png": "[encoded data removed]",
      "text/plain": [
       "<Figure size 432x288 with 1 Axes>"
      ]
     },
     "metadata": {
      "needs_background": "light"
     },
     "output_type": "display_data"
    },
    {
     "data": {
      "image/png": "[encoded data removed]",
      "text/plain": [
       "<Figure size 432x288 with 1 Axes>"
      ]
     },
     "metadata": {
      "needs_background": "light"
     },
     "output_type": "display_data"
    },
    {
     "data": {
      "image/png": "[encoded data removed]",
      "text/plain": [
       "<Figure size 432x288 with 1 Axes>"
      ]
     },
     "metadata": {
      "needs_background": "light"
     },
     "output_type": "display_data"
    },
    {
     "data": {
      "image/png": "[encoded data removed]",
      "text/plain": [
       "<Figure size 432x288 with 1 Axes>"
      ]
     },
     "metadata": {
      "needs_background": "light"
     },
     "output_type": "display_data"
    },
    {
     "data": {
      "image/png": "[encoded data removed]",
      "text/plain": [
       "<Figure size 432x288 with 1 Axes>"
      ]
     },
     "metadata": {
      "needs_background": "light"
     },
     "output_type": "display_data"
    },
    {
     "data": {
      "image/png": "[encoded data removed]",
      "text/plain": [
       "<Figure size 432x288 with 1 Axes>"
      ]
     },
     "metadata": {
      "needs_background": "light"
     },
     "output_type": "display_data"
    }
   ],
   "source": [
    "for element in lista_categoricas:\n",
    "    XY[element].value_counts().plot(kind=\"bar\")\n",
    "    plt.xlabel(element)\n",
    "    plt.ylabel('Conteo de valores')\n",
    "    plt.show()"
   ]
  },
  {
   "cell_type": "markdown",
   "metadata": {},
   "source": [
    "Respecto a la captación de tendencias generales, estos datos no ofrecen gran información\n",
    "- Hay SOs y Navegadores con mucha cuota, quizá lo utilizaremos más adelante cuando mapeemos los datos"
   ]
  },
  {
   "cell_type": "markdown",
   "metadata": {},
   "source": [
    "**Vemos también la proporción de valores en la target**"
   ]
  },
  {
   "cell_type": "code",
   "execution_count": 15,
   "metadata": {},
   "outputs": [
    {
     "data": {
      "text/plain": [
       "0    84.48402\n",
       "1    15.51598\n",
       "Name: Revenue, dtype: float64"
      ]
     },
     "execution_count": 15,
     "metadata": {},
     "output_type": "execute_result"
    }
   ],
   "source": [
    "XY['Revenue'].value_counts()/len(XY['Revenue'])*100"
   ]
  },
  {
   "cell_type": "markdown",
   "metadata": {},
   "source": [
    "### Otras características del dataset"
   ]
  },
  {
   "cell_type": "markdown",
   "metadata": {},
   "source": [
    "Duplicados"
   ]
  },
  {
   "cell_type": "code",
   "execution_count": 16,
   "metadata": {},
   "outputs": [
    {
     "data": {
      "text/plain": [
       "119"
      ]
     },
     "execution_count": 16,
     "metadata": {},
     "output_type": "execute_result"
    }
   ],
   "source": [
    "XY.duplicated().sum()"
   ]
  },
  {
   "cell_type": "code",
   "execution_count": 17,
   "metadata": {},
   "outputs": [
    {
     "data": {
      "text/html": [
       "<div>\n",
       "<style scoped>\n",
       "    .dataframe tbody tr th:only-of-type {\n",
       "        vertical-align: middle;\n",
       "    }\n",
       "\n",
       "    .dataframe tbody tr th {\n",
       "        vertical-align: top;\n",
       "    }\n",
       "\n",
       "    .dataframe thead th {\n",
       "        text-align: right;\n",
       "    }\n",
       "</style>\n",
       "<table border=\"1\" class=\"dataframe\">\n",
       "  <thead>\n",
       "    <tr style=\"text-align: right;\">\n",
       "      <th></th>\n",
       "      <th>Administrative</th>\n",
       "      <th>Administrative_Duration</th>\n",
       "      <th>Informational</th>\n",
       "      <th>Informational_Duration</th>\n",
       "      <th>ProductRelated</th>\n",
       "      <th>ProductRelated_Duration</th>\n",
       "      <th>BounceRates</th>\n",
       "      <th>ExitRates</th>\n",
       "      <th>PageValues</th>\n",
       "      <th>SpecialDay</th>\n",
       "      <th>Month</th>\n",
       "      <th>OperatingSystems</th>\n",
       "      <th>Browser</th>\n",
       "      <th>Region</th>\n",
       "      <th>TrafficType</th>\n",
       "      <th>VisitorType</th>\n",
       "      <th>Weekend</th>\n",
       "      <th>Revenue</th>\n",
       "    </tr>\n",
       "  </thead>\n",
       "  <tbody>\n",
       "    <tr>\n",
       "      <th>158</th>\n",
       "      <td>0.0</td>\n",
       "      <td>0.0</td>\n",
       "      <td>0.0</td>\n",
       "      <td>0.0</td>\n",
       "      <td>1.0</td>\n",
       "      <td>0.0</td>\n",
       "      <td>0.2</td>\n",
       "      <td>0.2</td>\n",
       "      <td>0.0</td>\n",
       "      <td>0.0</td>\n",
       "      <td>Feb</td>\n",
       "      <td>1</td>\n",
       "      <td>1</td>\n",
       "      <td>1</td>\n",
       "      <td>3</td>\n",
       "      <td>Returning_Visitor</td>\n",
       "      <td>0</td>\n",
       "      <td>0</td>\n",
       "    </tr>\n",
       "    <tr>\n",
       "      <th>178</th>\n",
       "      <td>0.0</td>\n",
       "      <td>0.0</td>\n",
       "      <td>0.0</td>\n",
       "      <td>0.0</td>\n",
       "      <td>1.0</td>\n",
       "      <td>0.0</td>\n",
       "      <td>0.2</td>\n",
       "      <td>0.2</td>\n",
       "      <td>0.0</td>\n",
       "      <td>0.0</td>\n",
       "      <td>Feb</td>\n",
       "      <td>3</td>\n",
       "      <td>2</td>\n",
       "      <td>3</td>\n",
       "      <td>3</td>\n",
       "      <td>Returning_Visitor</td>\n",
       "      <td>0</td>\n",
       "      <td>0</td>\n",
       "    </tr>\n",
       "    <tr>\n",
       "      <th>418</th>\n",
       "      <td>0.0</td>\n",
       "      <td>0.0</td>\n",
       "      <td>0.0</td>\n",
       "      <td>0.0</td>\n",
       "      <td>1.0</td>\n",
       "      <td>0.0</td>\n",
       "      <td>0.2</td>\n",
       "      <td>0.2</td>\n",
       "      <td>0.0</td>\n",
       "      <td>0.0</td>\n",
       "      <td>Mar</td>\n",
       "      <td>1</td>\n",
       "      <td>1</td>\n",
       "      <td>1</td>\n",
       "      <td>1</td>\n",
       "      <td>Returning_Visitor</td>\n",
       "      <td>1</td>\n",
       "      <td>0</td>\n",
       "    </tr>\n",
       "    <tr>\n",
       "      <th>456</th>\n",
       "      <td>0.0</td>\n",
       "      <td>0.0</td>\n",
       "      <td>0.0</td>\n",
       "      <td>0.0</td>\n",
       "      <td>1.0</td>\n",
       "      <td>0.0</td>\n",
       "      <td>0.2</td>\n",
       "      <td>0.2</td>\n",
       "      <td>0.0</td>\n",
       "      <td>0.0</td>\n",
       "      <td>Mar</td>\n",
       "      <td>2</td>\n",
       "      <td>2</td>\n",
       "      <td>4</td>\n",
       "      <td>1</td>\n",
       "      <td>Returning_Visitor</td>\n",
       "      <td>0</td>\n",
       "      <td>0</td>\n",
       "    </tr>\n",
       "    <tr>\n",
       "      <th>483</th>\n",
       "      <td>0.0</td>\n",
       "      <td>0.0</td>\n",
       "      <td>0.0</td>\n",
       "      <td>0.0</td>\n",
       "      <td>1.0</td>\n",
       "      <td>0.0</td>\n",
       "      <td>0.2</td>\n",
       "      <td>0.2</td>\n",
       "      <td>0.0</td>\n",
       "      <td>0.0</td>\n",
       "      <td>Mar</td>\n",
       "      <td>3</td>\n",
       "      <td>2</td>\n",
       "      <td>3</td>\n",
       "      <td>1</td>\n",
       "      <td>Returning_Visitor</td>\n",
       "      <td>0</td>\n",
       "      <td>0</td>\n",
       "    </tr>\n",
       "  </tbody>\n",
       "</table>\n",
       "</div>"
      ],
      "text/plain": [
       "     Administrative  Administrative_Duration  Informational  \\\n",
       "158             0.0                      0.0            0.0   \n",
       "178             0.0                      0.0            0.0   \n",
       "418             0.0                      0.0            0.0   \n",
       "456             0.0                      0.0            0.0   \n",
       "483             0.0                      0.0            0.0   \n",
       "\n",
       "     Informational_Duration  ProductRelated  ProductRelated_Duration  \\\n",
       "158                     0.0             1.0                      0.0   \n",
       "178                     0.0             1.0                      0.0   \n",
       "418                     0.0             1.0                      0.0   \n",
       "456                     0.0             1.0                      0.0   \n",
       "483                     0.0             1.0                      0.0   \n",
       "\n",
       "     BounceRates  ExitRates  PageValues  SpecialDay Month  OperatingSystems  \\\n",
       "158          0.2        0.2         0.0         0.0   Feb                 1   \n",
       "178          0.2        0.2         0.0         0.0   Feb                 3   \n",
       "418          0.2        0.2         0.0         0.0   Mar                 1   \n",
       "456          0.2        0.2         0.0         0.0   Mar                 2   \n",
       "483          0.2        0.2         0.0         0.0   Mar                 3   \n",
       "\n",
       "     Browser  Region  TrafficType        VisitorType  Weekend  Revenue  \n",
       "158        1       1            3  Returning_Visitor        0        0  \n",
       "178        2       3            3  Returning_Visitor        0        0  \n",
       "418        1       1            1  Returning_Visitor        1        0  \n",
       "456        2       4            1  Returning_Visitor        0        0  \n",
       "483        2       3            1  Returning_Visitor        0        0  "
      ]
     },
     "execution_count": 17,
     "metadata": {},
     "output_type": "execute_result"
    }
   ],
   "source": [
    "XY.loc[XY.duplicated()].head()\n",
    "\n",
    "# Pueden perfectamente provenir de sesiones diferentes y no ser realmente un duplicado. Los mantenemos."
   ]
  },
  {
   "cell_type": "markdown",
   "metadata": {},
   "source": [
    "Gestión de nulos"
   ]
  },
  {
   "cell_type": "code",
   "execution_count": 18,
   "metadata": {},
   "outputs": [
    {
     "data": {
      "text/plain": [
       "Administrative             14\n",
       "Administrative_Duration    14\n",
       "Informational              14\n",
       "Informational_Duration     14\n",
       "ProductRelated             14\n",
       "ProductRelated_Duration    14\n",
       "BounceRates                14\n",
       "ExitRates                  14\n",
       "PageValues                  0\n",
       "SpecialDay                  0\n",
       "Month                       0\n",
       "OperatingSystems            0\n",
       "Browser                     0\n",
       "Region                      0\n",
       "TrafficType                 0\n",
       "VisitorType                 0\n",
       "Weekend                     0\n",
       "Revenue                     0\n",
       "dtype: int64"
      ]
     },
     "execution_count": 18,
     "metadata": {},
     "output_type": "execute_result"
    }
   ],
   "source": [
    "XY.isna().sum()\n",
    "\n",
    "# 14 nulos en varias variables, vamos a ver si estos nulos se dan en 14 observaciones que no tienen ninguno de estos valores,\n",
    "# o si por el contrario se dan en más observaciones"
   ]
  },
  {
   "cell_type": "code",
   "execution_count": 19,
   "metadata": {},
   "outputs": [
    {
     "data": {
      "text/html": [
       "<div>\n",
       "<style scoped>\n",
       "    .dataframe tbody tr th:only-of-type {\n",
       "        vertical-align: middle;\n",
       "    }\n",
       "\n",
       "    .dataframe tbody tr th {\n",
       "        vertical-align: top;\n",
       "    }\n",
       "\n",
       "    .dataframe thead th {\n",
       "        text-align: right;\n",
       "    }\n",
       "</style>\n",
       "<table border=\"1\" class=\"dataframe\">\n",
       "  <thead>\n",
       "    <tr style=\"text-align: right;\">\n",
       "      <th></th>\n",
       "      <th>Administrative</th>\n",
       "      <th>Administrative_Duration</th>\n",
       "      <th>Informational</th>\n",
       "      <th>Informational_Duration</th>\n",
       "      <th>ProductRelated</th>\n",
       "      <th>ProductRelated_Duration</th>\n",
       "      <th>BounceRates</th>\n",
       "      <th>ExitRates</th>\n",
       "      <th>PageValues</th>\n",
       "      <th>SpecialDay</th>\n",
       "      <th>Month</th>\n",
       "      <th>OperatingSystems</th>\n",
       "      <th>Browser</th>\n",
       "      <th>Region</th>\n",
       "      <th>TrafficType</th>\n",
       "      <th>VisitorType</th>\n",
       "      <th>Weekend</th>\n",
       "      <th>Revenue</th>\n",
       "    </tr>\n",
       "  </thead>\n",
       "  <tbody>\n",
       "    <tr>\n",
       "      <th>1065</th>\n",
       "      <td>NaN</td>\n",
       "      <td>NaN</td>\n",
       "      <td>NaN</td>\n",
       "      <td>NaN</td>\n",
       "      <td>NaN</td>\n",
       "      <td>NaN</td>\n",
       "      <td>NaN</td>\n",
       "      <td>NaN</td>\n",
       "      <td>0.0</td>\n",
       "      <td>0.0</td>\n",
       "      <td>Mar</td>\n",
       "      <td>2</td>\n",
       "      <td>2</td>\n",
       "      <td>2</td>\n",
       "      <td>1</td>\n",
       "      <td>Returning_Visitor</td>\n",
       "      <td>0</td>\n",
       "      <td>0</td>\n",
       "    </tr>\n",
       "    <tr>\n",
       "      <th>1132</th>\n",
       "      <td>NaN</td>\n",
       "      <td>NaN</td>\n",
       "      <td>NaN</td>\n",
       "      <td>NaN</td>\n",
       "      <td>NaN</td>\n",
       "      <td>NaN</td>\n",
       "      <td>NaN</td>\n",
       "      <td>NaN</td>\n",
       "      <td>0.0</td>\n",
       "      <td>0.0</td>\n",
       "      <td>Mar</td>\n",
       "      <td>1</td>\n",
       "      <td>1</td>\n",
       "      <td>1</td>\n",
       "      <td>2</td>\n",
       "      <td>Returning_Visitor</td>\n",
       "      <td>0</td>\n",
       "      <td>0</td>\n",
       "    </tr>\n",
       "    <tr>\n",
       "      <th>1133</th>\n",
       "      <td>NaN</td>\n",
       "      <td>NaN</td>\n",
       "      <td>NaN</td>\n",
       "      <td>NaN</td>\n",
       "      <td>NaN</td>\n",
       "      <td>NaN</td>\n",
       "      <td>NaN</td>\n",
       "      <td>NaN</td>\n",
       "      <td>0.0</td>\n",
       "      <td>0.0</td>\n",
       "      <td>Mar</td>\n",
       "      <td>2</td>\n",
       "      <td>4</td>\n",
       "      <td>5</td>\n",
       "      <td>1</td>\n",
       "      <td>Returning_Visitor</td>\n",
       "      <td>0</td>\n",
       "      <td>0</td>\n",
       "    </tr>\n",
       "    <tr>\n",
       "      <th>1134</th>\n",
       "      <td>NaN</td>\n",
       "      <td>NaN</td>\n",
       "      <td>NaN</td>\n",
       "      <td>NaN</td>\n",
       "      <td>NaN</td>\n",
       "      <td>NaN</td>\n",
       "      <td>NaN</td>\n",
       "      <td>NaN</td>\n",
       "      <td>0.0</td>\n",
       "      <td>0.0</td>\n",
       "      <td>Mar</td>\n",
       "      <td>2</td>\n",
       "      <td>2</td>\n",
       "      <td>1</td>\n",
       "      <td>2</td>\n",
       "      <td>Returning_Visitor</td>\n",
       "      <td>0</td>\n",
       "      <td>0</td>\n",
       "    </tr>\n",
       "    <tr>\n",
       "      <th>1135</th>\n",
       "      <td>NaN</td>\n",
       "      <td>NaN</td>\n",
       "      <td>NaN</td>\n",
       "      <td>NaN</td>\n",
       "      <td>NaN</td>\n",
       "      <td>NaN</td>\n",
       "      <td>NaN</td>\n",
       "      <td>NaN</td>\n",
       "      <td>0.0</td>\n",
       "      <td>0.0</td>\n",
       "      <td>Mar</td>\n",
       "      <td>3</td>\n",
       "      <td>2</td>\n",
       "      <td>1</td>\n",
       "      <td>1</td>\n",
       "      <td>Returning_Visitor</td>\n",
       "      <td>0</td>\n",
       "      <td>0</td>\n",
       "    </tr>\n",
       "    <tr>\n",
       "      <th>1136</th>\n",
       "      <td>NaN</td>\n",
       "      <td>NaN</td>\n",
       "      <td>NaN</td>\n",
       "      <td>NaN</td>\n",
       "      <td>NaN</td>\n",
       "      <td>NaN</td>\n",
       "      <td>NaN</td>\n",
       "      <td>NaN</td>\n",
       "      <td>0.0</td>\n",
       "      <td>0.0</td>\n",
       "      <td>Mar</td>\n",
       "      <td>2</td>\n",
       "      <td>2</td>\n",
       "      <td>1</td>\n",
       "      <td>2</td>\n",
       "      <td>Returning_Visitor</td>\n",
       "      <td>0</td>\n",
       "      <td>0</td>\n",
       "    </tr>\n",
       "    <tr>\n",
       "      <th>1473</th>\n",
       "      <td>NaN</td>\n",
       "      <td>NaN</td>\n",
       "      <td>NaN</td>\n",
       "      <td>NaN</td>\n",
       "      <td>NaN</td>\n",
       "      <td>NaN</td>\n",
       "      <td>NaN</td>\n",
       "      <td>NaN</td>\n",
       "      <td>0.0</td>\n",
       "      <td>0.0</td>\n",
       "      <td>Mar</td>\n",
       "      <td>2</td>\n",
       "      <td>2</td>\n",
       "      <td>1</td>\n",
       "      <td>1</td>\n",
       "      <td>Returning_Visitor</td>\n",
       "      <td>1</td>\n",
       "      <td>0</td>\n",
       "    </tr>\n",
       "    <tr>\n",
       "      <th>1474</th>\n",
       "      <td>NaN</td>\n",
       "      <td>NaN</td>\n",
       "      <td>NaN</td>\n",
       "      <td>NaN</td>\n",
       "      <td>NaN</td>\n",
       "      <td>NaN</td>\n",
       "      <td>NaN</td>\n",
       "      <td>NaN</td>\n",
       "      <td>0.0</td>\n",
       "      <td>0.0</td>\n",
       "      <td>Mar</td>\n",
       "      <td>1</td>\n",
       "      <td>1</td>\n",
       "      <td>6</td>\n",
       "      <td>1</td>\n",
       "      <td>Returning_Visitor</td>\n",
       "      <td>1</td>\n",
       "      <td>0</td>\n",
       "    </tr>\n",
       "    <tr>\n",
       "      <th>1475</th>\n",
       "      <td>NaN</td>\n",
       "      <td>NaN</td>\n",
       "      <td>NaN</td>\n",
       "      <td>NaN</td>\n",
       "      <td>NaN</td>\n",
       "      <td>NaN</td>\n",
       "      <td>NaN</td>\n",
       "      <td>NaN</td>\n",
       "      <td>0.0</td>\n",
       "      <td>0.0</td>\n",
       "      <td>Mar</td>\n",
       "      <td>2</td>\n",
       "      <td>2</td>\n",
       "      <td>3</td>\n",
       "      <td>1</td>\n",
       "      <td>Returning_Visitor</td>\n",
       "      <td>0</td>\n",
       "      <td>0</td>\n",
       "    </tr>\n",
       "    <tr>\n",
       "      <th>1476</th>\n",
       "      <td>NaN</td>\n",
       "      <td>NaN</td>\n",
       "      <td>NaN</td>\n",
       "      <td>NaN</td>\n",
       "      <td>NaN</td>\n",
       "      <td>NaN</td>\n",
       "      <td>NaN</td>\n",
       "      <td>NaN</td>\n",
       "      <td>0.0</td>\n",
       "      <td>0.0</td>\n",
       "      <td>Mar</td>\n",
       "      <td>1</td>\n",
       "      <td>1</td>\n",
       "      <td>2</td>\n",
       "      <td>3</td>\n",
       "      <td>Returning_Visitor</td>\n",
       "      <td>0</td>\n",
       "      <td>0</td>\n",
       "    </tr>\n",
       "    <tr>\n",
       "      <th>2037</th>\n",
       "      <td>NaN</td>\n",
       "      <td>NaN</td>\n",
       "      <td>NaN</td>\n",
       "      <td>NaN</td>\n",
       "      <td>NaN</td>\n",
       "      <td>NaN</td>\n",
       "      <td>NaN</td>\n",
       "      <td>NaN</td>\n",
       "      <td>0.0</td>\n",
       "      <td>0.0</td>\n",
       "      <td>Mar</td>\n",
       "      <td>3</td>\n",
       "      <td>2</td>\n",
       "      <td>4</td>\n",
       "      <td>1</td>\n",
       "      <td>Returning_Visitor</td>\n",
       "      <td>0</td>\n",
       "      <td>0</td>\n",
       "    </tr>\n",
       "    <tr>\n",
       "      <th>2038</th>\n",
       "      <td>NaN</td>\n",
       "      <td>NaN</td>\n",
       "      <td>NaN</td>\n",
       "      <td>NaN</td>\n",
       "      <td>NaN</td>\n",
       "      <td>NaN</td>\n",
       "      <td>NaN</td>\n",
       "      <td>NaN</td>\n",
       "      <td>0.0</td>\n",
       "      <td>0.0</td>\n",
       "      <td>Mar</td>\n",
       "      <td>2</td>\n",
       "      <td>2</td>\n",
       "      <td>1</td>\n",
       "      <td>2</td>\n",
       "      <td>Returning_Visitor</td>\n",
       "      <td>0</td>\n",
       "      <td>0</td>\n",
       "    </tr>\n",
       "    <tr>\n",
       "      <th>2039</th>\n",
       "      <td>NaN</td>\n",
       "      <td>NaN</td>\n",
       "      <td>NaN</td>\n",
       "      <td>NaN</td>\n",
       "      <td>NaN</td>\n",
       "      <td>NaN</td>\n",
       "      <td>NaN</td>\n",
       "      <td>NaN</td>\n",
       "      <td>0.0</td>\n",
       "      <td>0.0</td>\n",
       "      <td>Mar</td>\n",
       "      <td>3</td>\n",
       "      <td>2</td>\n",
       "      <td>4</td>\n",
       "      <td>15</td>\n",
       "      <td>Returning_Visitor</td>\n",
       "      <td>1</td>\n",
       "      <td>0</td>\n",
       "    </tr>\n",
       "    <tr>\n",
       "      <th>2753</th>\n",
       "      <td>NaN</td>\n",
       "      <td>NaN</td>\n",
       "      <td>NaN</td>\n",
       "      <td>NaN</td>\n",
       "      <td>NaN</td>\n",
       "      <td>NaN</td>\n",
       "      <td>NaN</td>\n",
       "      <td>NaN</td>\n",
       "      <td>0.0</td>\n",
       "      <td>0.0</td>\n",
       "      <td>May</td>\n",
       "      <td>2</td>\n",
       "      <td>2</td>\n",
       "      <td>4</td>\n",
       "      <td>13</td>\n",
       "      <td>Returning_Visitor</td>\n",
       "      <td>0</td>\n",
       "      <td>0</td>\n",
       "    </tr>\n",
       "  </tbody>\n",
       "</table>\n",
       "</div>"
      ],
      "text/plain": [
       "      Administrative  Administrative_Duration  Informational  \\\n",
       "1065             NaN                      NaN            NaN   \n",
       "1132             NaN                      NaN            NaN   \n",
       "1133             NaN                      NaN            NaN   \n",
       "1134             NaN                      NaN            NaN   \n",
       "1135             NaN                      NaN            NaN   \n",
       "1136             NaN                      NaN            NaN   \n",
       "1473             NaN                      NaN            NaN   \n",
       "1474             NaN                      NaN            NaN   \n",
       "1475             NaN                      NaN            NaN   \n",
       "1476             NaN                      NaN            NaN   \n",
       "2037             NaN                      NaN            NaN   \n",
       "2038             NaN                      NaN            NaN   \n",
       "2039             NaN                      NaN            NaN   \n",
       "2753             NaN                      NaN            NaN   \n",
       "\n",
       "      Informational_Duration  ProductRelated  ProductRelated_Duration  \\\n",
       "1065                     NaN             NaN                      NaN   \n",
       "1132                     NaN             NaN                      NaN   \n",
       "1133                     NaN             NaN                      NaN   \n",
       "1134                     NaN             NaN                      NaN   \n",
       "1135                     NaN             NaN                      NaN   \n",
       "1136                     NaN             NaN                      NaN   \n",
       "1473                     NaN             NaN                      NaN   \n",
       "1474                     NaN             NaN                      NaN   \n",
       "1475                     NaN             NaN                      NaN   \n",
       "1476                     NaN             NaN                      NaN   \n",
       "2037                     NaN             NaN                      NaN   \n",
       "2038                     NaN             NaN                      NaN   \n",
       "2039                     NaN             NaN                      NaN   \n",
       "2753                     NaN             NaN                      NaN   \n",
       "\n",
       "      BounceRates  ExitRates  PageValues  SpecialDay Month  OperatingSystems  \\\n",
       "1065          NaN        NaN         0.0         0.0   Mar                 2   \n",
       "1132          NaN        NaN         0.0         0.0   Mar                 1   \n",
       "1133          NaN        NaN         0.0         0.0   Mar                 2   \n",
       "1134          NaN        NaN         0.0         0.0   Mar                 2   \n",
       "1135          NaN        NaN         0.0         0.0   Mar                 3   \n",
       "1136          NaN        NaN         0.0         0.0   Mar                 2   \n",
       "1473          NaN        NaN         0.0         0.0   Mar                 2   \n",
       "1474          NaN        NaN         0.0         0.0   Mar                 1   \n",
       "1475          NaN        NaN         0.0         0.0   Mar                 2   \n",
       "1476          NaN        NaN         0.0         0.0   Mar                 1   \n",
       "2037          NaN        NaN         0.0         0.0   Mar                 3   \n",
       "2038          NaN        NaN         0.0         0.0   Mar                 2   \n",
       "2039          NaN        NaN         0.0         0.0   Mar                 3   \n",
       "2753          NaN        NaN         0.0         0.0   May                 2   \n",
       "\n",
       "      Browser  Region  TrafficType        VisitorType  Weekend  Revenue  \n",
       "1065        2       2            1  Returning_Visitor        0        0  \n",
       "1132        1       1            2  Returning_Visitor        0        0  \n",
       "1133        4       5            1  Returning_Visitor        0        0  \n",
       "1134        2       1            2  Returning_Visitor        0        0  \n",
       "1135        2       1            1  Returning_Visitor        0        0  \n",
       "1136        2       1            2  Returning_Visitor        0        0  \n",
       "1473        2       1            1  Returning_Visitor        1        0  \n",
       "1474        1       6            1  Returning_Visitor        1        0  \n",
       "1475        2       3            1  Returning_Visitor        0        0  \n",
       "1476        1       2            3  Returning_Visitor        0        0  \n",
       "2037        2       4            1  Returning_Visitor        0        0  \n",
       "2038        2       1            2  Returning_Visitor        0        0  \n",
       "2039        2       4           15  Returning_Visitor        1        0  \n",
       "2753        2       4           13  Returning_Visitor        0        0  "
      ]
     },
     "execution_count": 19,
     "metadata": {},
     "output_type": "execute_result"
    }
   ],
   "source": [
    "XY.loc[XY['Administrative'].isna()]\n",
    "\n",
    "# Efectivamente, sólo hay 14 observaciones afectadas"
   ]
  },
  {
   "cell_type": "code",
   "execution_count": 20,
   "metadata": {},
   "outputs": [],
   "source": [
    "# Las eliminamos\n",
    "\n",
    "XY.dropna(inplace=True)\n",
    "XY.reset_index(drop=True, inplace=True)"
   ]
  },
  {
   "cell_type": "markdown",
   "metadata": {},
   "source": [
    "\n",
    "## Análisis univariable"
   ]
  },
  {
   "cell_type": "markdown",
   "metadata": {},
   "source": [
    "En primer lugar, dividimos los datos entre variables independientes y target"
   ]
  },
  {
   "cell_type": "code",
   "execution_count": 21,
   "metadata": {},
   "outputs": [],
   "source": [
    "Y = XY['Revenue']\n",
    "X = XY.drop(['Revenue'], axis=1)"
   ]
  },
  {
   "cell_type": "markdown",
   "metadata": {},
   "source": [
    "Boxplots para las numéricas"
   ]
  },
  {
   "cell_type": "code",
   "execution_count": 22,
   "metadata": {},
   "outputs": [],
   "source": [
    "X_normalizado = (X[lista_numericas]-X[lista_numericas].mean())/X[lista_numericas].std()"
   ]
  },
  {
   "cell_type": "code",
   "execution_count": 23,
   "metadata": {},
   "outputs": [
    {
     "data": {
      "image/png": "[encoded data removed]",
      "text/plain": [
       "<Figure size 1080x504 with 1 Axes>"
      ]
     },
     "metadata": {
      "needs_background": "light"
     },
     "output_type": "display_data"
    }
   ],
   "source": [
    "plt.figure(figsize=(15,7))\n",
    "ax = sns.boxplot(data=X_normalizado)\n",
    "ax.set_xticklabels(ax.get_xticklabels(),rotation=90)\n",
    "plt.title(u'Representación de cajas de las variables independientes X')\n",
    "plt.ylabel('Valor de la variable normalizada')\n",
    "_ = plt.xlabel('Nombre de la variable')"
   ]
  },
  {
   "cell_type": "markdown",
   "metadata": {},
   "source": [
    "Con los datos normalizados, lo que podemos observar es que tenemos una gran cantidad de outliers en casi todas las variables, cosa que tendremos que tener en cuenta a posteriori dependiendo de los modelos que utilicemos.\n",
    "\n",
    "Para aprender más sobre estas variables, vamos a estudiar sus histogramas."
   ]
  },
  {
   "cell_type": "code",
   "execution_count": 24,
   "metadata": {},
   "outputs": [
    {
     "data": {
      "image/png": "[encoded data removed]",
      "text/plain": [
       "<Figure size 1296x1440 with 10 Axes>"
      ]
     },
     "metadata": {
      "needs_background": "light"
     },
     "output_type": "display_data"
    }
   ],
   "source": [
    "plt.figure(figsize=(18,20))\n",
    "n = 0\n",
    "for column in (X[lista_numericas]):\n",
    "    n+=1\n",
    "    plt.subplot(4, 3, n)\n",
    "    sns.distplot(X[column], bins=30)\n",
    "    plt.title('Distribución var {}'.format(column))\n",
    "plt.show()"
   ]
  },
  {
   "cell_type": "markdown",
   "metadata": {},
   "source": [
    "## Relaciones con la variable target\n",
    "Vamos a realizar, para cada variable, los histogramas para la clase positiva y la clase negativa"
   ]
  },
  {
   "cell_type": "code",
   "execution_count": 25,
   "metadata": {
    "scrolled": false
   },
   "outputs": [
    {
     "data": {
      "image/png": "[encoded data removed]",
      "text/plain": [
       "<Figure size 1296x1584 with 17 Axes>"
      ]
     },
     "metadata": {
      "needs_background": "light"
     },
     "output_type": "display_data"
    }
   ],
   "source": [
    "hist_pos_neg_feat(X, Y)"
   ]
  },
  {
   "cell_type": "markdown",
   "metadata": {},
   "source": [
    "\n",
    "    "
   ]
  },
  {
   "cell_type": "markdown",
   "metadata": {},
   "source": [
    "### Para las variables numéricas:\n",
    "- Parece inferirse a la vista de estos pequeños gráficos que las distribuciones de las clases positivas y negativas se asemejan bastante, a excepción de PageValue donde cuanto más crece el valor, más destaca la clase positiva\n",
    "- Estos gráficos son de pequeño tamaño y la mayoría de observaciones se dan en valores cercanos al 0. Puede ser que en los valores atípicos encontremos más información que hasta ahora ha pasado desapercibida\n",
    "\n",
    "Vamos a profundizar el análisis de estos valores atípicos. Para cada una de las variables de tipo numérico (a excepción de SpecialDay que toma muy pocos valores y la analizaremos posteriormente junto con las variables categóricas), vamos a crear su correspondiente variable dummy donde indicaremos si las observaciones de esa columna no son outliers (valor 0) o sí lo son (valor 1)"
   ]
  },
  {
   "cell_type": "code",
   "execution_count": 26,
   "metadata": {},
   "outputs": [
    {
     "name": "stdout",
     "output_type": "stream",
     "text": [
      "Administrative 4.0\n",
      "Administrative_Duration 93.95\n",
      "Informational 0.0\n",
      "Informational_Duration 0.0\n",
      "ProductRelated 31.0\n",
      "ProductRelated_Duration 1283.8098519999999\n",
      "BounceRates 0.016666667\n",
      "ExitRates 0.035714286000000005\n",
      "PageValues 0.0\n"
     ]
    }
   ],
   "source": [
    "X_dummies = pd.DataFrame()\n",
    "for column in X[lista_numericas]:\n",
    "    if column != 'SpecialDay':\n",
    "        # Calculamos los valores que nos harán falta para determinar los outliers\n",
    "        Q1 = X[column].quantile(0.25)\n",
    "        Q3 = X[column].quantile(0.75)\n",
    "        IQR = Q3-Q1\n",
    "        print(column,IQR)\n",
    "        #Especificamos el nombre de la nueva columna\n",
    "        newcolumn_name = column + '_isOL'\n",
    "        # Como se ha visto anteriormente en el boxplot, y mostramos nuevamente ahora imprimiendo los IQR, \n",
    "        # hay algunas variables donde el IQR es 0 y no podremos aplicar la fórmula Q3+1.5*IQR para detectar los outliers\n",
    "        # superiores. En ese caso (sentencia else) los outliers son todos los valores distintos de 0\n",
    "        if IQR > 0:\n",
    "            X_dummies[newcolumn_name] = np.where(X[column] < Q3+1.5*IQR, 0, 1)\n",
    "        else:\n",
    "            X_dummies[newcolumn_name] = np.where(X[column] == 0, 0, 1)      \n",
    "    else:\n",
    "        pass"
   ]
  },
  {
   "cell_type": "code",
   "execution_count": 27,
   "metadata": {},
   "outputs": [
    {
     "data": {
      "text/plain": [
       "Administrative_isOL              4.534723\n",
       "Administrative_Duration_isOL     9.460230\n",
       "Informational_isOL              21.411707\n",
       "Informational_Duration_isOL     19.571766\n",
       "ProductRelated_isOL              8.035496\n",
       "ProductRelated_Duration_isOL     7.774974\n",
       "BounceRates_isOL                12.358544\n",
       "ExitRates_isOL                   8.662379\n",
       "PageValues_isOL                 22.225841\n",
       "dtype: float64"
      ]
     },
     "execution_count": 27,
     "metadata": {},
     "output_type": "execute_result"
    }
   ],
   "source": [
    "# Porcentaje de outliers en cada columna dummy generada\n",
    "\n",
    "X_dummies.mean()*100"
   ]
  },
  {
   "cell_type": "code",
   "execution_count": 28,
   "metadata": {},
   "outputs": [
    {
     "data": {
      "text/html": [
       "<div>\n",
       "<style scoped>\n",
       "    .dataframe tbody tr th:only-of-type {\n",
       "        vertical-align: middle;\n",
       "    }\n",
       "\n",
       "    .dataframe tbody tr th {\n",
       "        vertical-align: top;\n",
       "    }\n",
       "\n",
       "    .dataframe thead th {\n",
       "        text-align: right;\n",
       "    }\n",
       "</style>\n",
       "<table border=\"1\" class=\"dataframe\">\n",
       "  <thead>\n",
       "    <tr style=\"text-align: right;\">\n",
       "      <th></th>\n",
       "      <th>Administrative_isOL</th>\n",
       "      <th>Administrative_Duration_isOL</th>\n",
       "      <th>Informational_isOL</th>\n",
       "      <th>Informational_Duration_isOL</th>\n",
       "      <th>ProductRelated_isOL</th>\n",
       "      <th>ProductRelated_Duration_isOL</th>\n",
       "      <th>BounceRates_isOL</th>\n",
       "      <th>ExitRates_isOL</th>\n",
       "      <th>PageValues_isOL</th>\n",
       "    </tr>\n",
       "  </thead>\n",
       "  <tbody>\n",
       "    <tr>\n",
       "      <th>0</th>\n",
       "      <td>0</td>\n",
       "      <td>0</td>\n",
       "      <td>0</td>\n",
       "      <td>0</td>\n",
       "      <td>0</td>\n",
       "      <td>0</td>\n",
       "      <td>1</td>\n",
       "      <td>1</td>\n",
       "      <td>0</td>\n",
       "    </tr>\n",
       "    <tr>\n",
       "      <th>1</th>\n",
       "      <td>0</td>\n",
       "      <td>0</td>\n",
       "      <td>0</td>\n",
       "      <td>0</td>\n",
       "      <td>0</td>\n",
       "      <td>0</td>\n",
       "      <td>0</td>\n",
       "      <td>0</td>\n",
       "      <td>0</td>\n",
       "    </tr>\n",
       "    <tr>\n",
       "      <th>2</th>\n",
       "      <td>0</td>\n",
       "      <td>0</td>\n",
       "      <td>0</td>\n",
       "      <td>0</td>\n",
       "      <td>0</td>\n",
       "      <td>0</td>\n",
       "      <td>1</td>\n",
       "      <td>1</td>\n",
       "      <td>0</td>\n",
       "    </tr>\n",
       "    <tr>\n",
       "      <th>3</th>\n",
       "      <td>0</td>\n",
       "      <td>0</td>\n",
       "      <td>0</td>\n",
       "      <td>0</td>\n",
       "      <td>0</td>\n",
       "      <td>0</td>\n",
       "      <td>0</td>\n",
       "      <td>0</td>\n",
       "      <td>0</td>\n",
       "    </tr>\n",
       "    <tr>\n",
       "      <th>4</th>\n",
       "      <td>0</td>\n",
       "      <td>0</td>\n",
       "      <td>0</td>\n",
       "      <td>0</td>\n",
       "      <td>0</td>\n",
       "      <td>0</td>\n",
       "      <td>0</td>\n",
       "      <td>0</td>\n",
       "      <td>0</td>\n",
       "    </tr>\n",
       "  </tbody>\n",
       "</table>\n",
       "</div>"
      ],
      "text/plain": [
       "   Administrative_isOL  Administrative_Duration_isOL  Informational_isOL  \\\n",
       "0                    0                             0                   0   \n",
       "1                    0                             0                   0   \n",
       "2                    0                             0                   0   \n",
       "3                    0                             0                   0   \n",
       "4                    0                             0                   0   \n",
       "\n",
       "   Informational_Duration_isOL  ProductRelated_isOL  \\\n",
       "0                            0                    0   \n",
       "1                            0                    0   \n",
       "2                            0                    0   \n",
       "3                            0                    0   \n",
       "4                            0                    0   \n",
       "\n",
       "   ProductRelated_Duration_isOL  BounceRates_isOL  ExitRates_isOL  \\\n",
       "0                             0                 1               1   \n",
       "1                             0                 0               0   \n",
       "2                             0                 1               1   \n",
       "3                             0                 0               0   \n",
       "4                             0                 0               0   \n",
       "\n",
       "   PageValues_isOL  \n",
       "0                0  \n",
       "1                0  \n",
       "2                0  \n",
       "3                0  \n",
       "4                0  "
      ]
     },
     "execution_count": 28,
     "metadata": {},
     "output_type": "execute_result"
    }
   ],
   "source": [
    "X_dummies.head()"
   ]
  },
  {
   "cell_type": "code",
   "execution_count": 29,
   "metadata": {
    "scrolled": false
   },
   "outputs": [
    {
     "data": {
      "image/png": "[encoded data removed]",
      "text/plain": [
       "<Figure size 432x288 with 1 Axes>"
      ]
     },
     "metadata": {
      "needs_background": "light"
     },
     "output_type": "display_data"
    },
    {
     "data": {
      "image/png": "[encoded data removed]",
      "text/plain": [
       "<Figure size 432x288 with 1 Axes>"
      ]
     },
     "metadata": {
      "needs_background": "light"
     },
     "output_type": "display_data"
    },
    {
     "data": {
      "image/png": "[encoded data removed]",
      "text/plain": [
       "<Figure size 432x288 with 1 Axes>"
      ]
     },
     "metadata": {
      "needs_background": "light"
     },
     "output_type": "display_data"
    },
    {
     "data": {
      "image/png": "[encoded data removed]",
      "text/plain": [
       "<Figure size 432x288 with 1 Axes>"
      ]
     },
     "metadata": {
      "needs_background": "light"
     },
     "output_type": "display_data"
    },
    {
     "data": {
      "image/png": "[encoded data removed]",
      "text/plain": [
       "<Figure size 432x288 with 1 Axes>"
      ]
     },
     "metadata": {
      "needs_background": "light"
     },
     "output_type": "display_data"
    },
    {
     "data": {
      "image/png": "[encoded data removed]",
      "text/plain": [
       "<Figure size 432x288 with 1 Axes>"
      ]
     },
     "metadata": {
      "needs_background": "light"
     },
     "output_type": "display_data"
    },
    {
     "data": {
      "image/png": "[encoded data removed]",
      "text/plain": [
       "<Figure size 432x288 with 1 Axes>"
      ]
     },
     "metadata": {
      "needs_background": "light"
     },
     "output_type": "display_data"
    },
    {
     "data": {
      "image/png": "[encoded data removed]",
      "text/plain": [
       "<Figure size 432x288 with 1 Axes>"
      ]
     },
     "metadata": {
      "needs_background": "light"
     },
     "output_type": "display_data"
    },
    {
     "data": {
      "image/png": "[encoded data removed]",
      "text/plain": [
       "<Figure size 432x288 with 1 Axes>"
      ]
     },
     "metadata": {
      "needs_background": "light"
     },
     "output_type": "display_data"
    }
   ],
   "source": [
    "# Para cada variable dummy, utilizamos la función definida para calcular la proporción de cada nivel que pertenece a cada clase\n",
    "# (en rojo la proporción para la clase positiva en todo el dataset)\n",
    "\n",
    "barras_proporcionales(X_dummies,Y)"
   ]
  },
  {
   "cell_type": "markdown",
   "metadata": {},
   "source": [
    "**Analizamos los resultados:**\n",
    "\n",
    "En estos plots se aprecian diferencas significativas en todas las variables numéricas, diferencias que en la mayoría de los casos no se adivinaban en los histogramas dibujados anteriormente. Podemos dividir las variables numéricas en dos tipos, respecto a su influencia frente a la Target:\n",
    "- Los valores anómalos se relacionan con la clase positiva: 'Administrative_Duration_isOL', 'Informational_isOL',       'Informational_Duration_isOL', 'ProductRelated_isOL', 'ProductRelated_Duration_isOL', 'PageValues_isOL', 'isOL_totales'\n",
    "- Los valores anómalos se relacionan con la clase negativa: 'BounceRates_isOL', 'ExitRates_isOL'\n",
    "\n"
   ]
  },
  {
   "cell_type": "markdown",
   "metadata": {},
   "source": [
    "### Para las variables categóricas:\n",
    "- En el histograma se adivinan algunas relaciones en ciertas variables, de todos modos utilizaremos otro gráfico para explorar más en detalle esto"
   ]
  },
  {
   "cell_type": "code",
   "execution_count": 30,
   "metadata": {
    "scrolled": false
   },
   "outputs": [
    {
     "data": {
      "image/png": "[encoded data removed]",
      "text/plain": [
       "<Figure size 432x288 with 1 Axes>"
      ]
     },
     "metadata": {
      "needs_background": "light"
     },
     "output_type": "display_data"
    },
    {
     "data": {
      "image/png": "[encoded data removed]",
      "text/plain": [
       "<Figure size 432x288 with 1 Axes>"
      ]
     },
     "metadata": {
      "needs_background": "light"
     },
     "output_type": "display_data"
    },
    {
     "data": {
      "image/png": "[encoded data removed]",
      "text/plain": [
       "<Figure size 432x288 with 1 Axes>"
      ]
     },
     "metadata": {
      "needs_background": "light"
     },
     "output_type": "display_data"
    },
    {
     "data": {
      "image/png": "[encoded data removed]",
      "text/plain": [
       "<Figure size 432x288 with 1 Axes>"
      ]
     },
     "metadata": {
      "needs_background": "light"
     },
     "output_type": "display_data"
    },
    {
     "data": {
      "image/png": "[encoded data removed]",
      "text/plain": [
       "<Figure size 432x288 with 1 Axes>"
      ]
     },
     "metadata": {
      "needs_background": "light"
     },
     "output_type": "display_data"
    },
    {
     "data": {
      "image/png": "[encoded data removed]",
      "text/plain": [
       "<Figure size 432x288 with 1 Axes>"
      ]
     },
     "metadata": {
      "needs_background": "light"
     },
     "output_type": "display_data"
    },
    {
     "data": {
      "image/png": "[encoded data removed]",
      "text/plain": [
       "<Figure size 432x288 with 1 Axes>"
      ]
     },
     "metadata": {
      "needs_background": "light"
     },
     "output_type": "display_data"
    },
    {
     "data": {
      "image/png": "[encoded data removed]",
      "text/plain": [
       "<Figure size 432x288 with 1 Axes>"
      ]
     },
     "metadata": {
      "needs_background": "light"
     },
     "output_type": "display_data"
    }
   ],
   "source": [
    "# Añadimos SpecialDay a las variables categóricas para este análisis\n",
    "\n",
    "barras_proporcionales(pd.concat([X[lista_categoricas], X['SpecialDay']], axis=1), Y)"
   ]
  },
  {
   "cell_type": "markdown",
   "metadata": {},
   "source": [
    "**Analizamos los resultados:**\n",
    "\n",
    "- Month: Cuanto más se aproxima Noviembre, mayor ratio de compras tenemos en la web. Para la elaboración de nuestro modelo, considero que no debemos tener en cuenta esta variable, ya que nuestro objetivo (detectar clientes potencialmente compradores para ejecutar acciones sobre ellos) lo tendremos que realizar independientemente del mes que sea\n",
    "    - Por ello, se decide PRESCINDIR de la variable Month\n",
    "- Browser: algunos de los niveles con más frecuencias presentan diferencias apreciables, si bien los navegadores más usados (2 y 1) tienen porcentajes para la clase positiva similares al porcentaje total del dataset (representado con la línea roja)\n",
    "    - Para simplificar el modelo, vamos a PRESCINDIR de esta variable\n",
    "- Region, Weekend: no hay grandes diferencias\n",
    "    - Para simplificar el modelo, vamos a PRESCINDIR de esta variable\n",
    "- Operating systems, Traffic type: algunos de los niveles con más frecuencias presentan diferencias apreciables\n",
    "- Visitor type: diferencias a favor de New visitor\n",
    "- Special Day: diferencias a favor del nivel mayoritario, es decir días \"normales\", no cercanos a una fecha señalada\n"
   ]
  },
  {
   "cell_type": "markdown",
   "metadata": {},
   "source": [
    "### Correlaciones entre variables independientes y con la target"
   ]
  },
  {
   "cell_type": "code",
   "execution_count": 31,
   "metadata": {
    "scrolled": false
   },
   "outputs": [
    {
     "data": {
      "image/png": "[encoded data removed]",
      "text/plain": [
       "<Figure size 648x648 with 2 Axes>"
      ]
     },
     "metadata": {
      "needs_background": "light"
     },
     "output_type": "display_data"
    }
   ],
   "source": [
    "XY_correlaciones = pd.concat([X[lista_numericas], Y], axis=1)\n",
    "matriz_correlaciones = XY_correlaciones.corr(method='pearson')\n",
    "n_ticks = len(XY_correlaciones)\n",
    "plt.figure( figsize=(9, 9) )\n",
    "plt.xticks(range(n_ticks), XY_correlaciones, rotation='vertical')\n",
    "plt.yticks(range(n_ticks), XY_correlaciones)\n",
    "plt.colorbar(plt.imshow(matriz_correlaciones, interpolation='nearest', \n",
    "                            vmin=-1., vmax=1., \n",
    "                            cmap=plt.get_cmap('seismic')))\n",
    "_ = plt.title('Matriz de correlaciones de Pearson')"
   ]
  },
  {
   "cell_type": "code",
   "execution_count": 32,
   "metadata": {},
   "outputs": [
    {
     "data": {
      "text/html": [
       "<div>\n",
       "<style scoped>\n",
       "    .dataframe tbody tr th:only-of-type {\n",
       "        vertical-align: middle;\n",
       "    }\n",
       "\n",
       "    .dataframe tbody tr th {\n",
       "        vertical-align: top;\n",
       "    }\n",
       "\n",
       "    .dataframe thead th {\n",
       "        text-align: right;\n",
       "    }\n",
       "</style>\n",
       "<table border=\"1\" class=\"dataframe\">\n",
       "  <thead>\n",
       "    <tr style=\"text-align: right;\">\n",
       "      <th></th>\n",
       "      <th>Correlación con la target</th>\n",
       "    </tr>\n",
       "  </thead>\n",
       "  <tbody>\n",
       "    <tr>\n",
       "      <th>PageValues</th>\n",
       "      <td>0.492317</td>\n",
       "    </tr>\n",
       "    <tr>\n",
       "      <th>ExitRates</th>\n",
       "      <td>-0.206145</td>\n",
       "    </tr>\n",
       "    <tr>\n",
       "      <th>ProductRelated</th>\n",
       "      <td>0.157624</td>\n",
       "    </tr>\n",
       "    <tr>\n",
       "      <th>ProductRelated_Duration</th>\n",
       "      <td>0.151528</td>\n",
       "    </tr>\n",
       "    <tr>\n",
       "      <th>BounceRates</th>\n",
       "      <td>-0.149348</td>\n",
       "    </tr>\n",
       "    <tr>\n",
       "      <th>Administrative</th>\n",
       "      <td>0.137970</td>\n",
       "    </tr>\n",
       "    <tr>\n",
       "      <th>Informational</th>\n",
       "      <td>0.094672</td>\n",
       "    </tr>\n",
       "    <tr>\n",
       "      <th>Administrative_Duration</th>\n",
       "      <td>0.092911</td>\n",
       "    </tr>\n",
       "    <tr>\n",
       "      <th>SpecialDay</th>\n",
       "      <td>-0.082632</td>\n",
       "    </tr>\n",
       "    <tr>\n",
       "      <th>Informational_Duration</th>\n",
       "      <td>0.069984</td>\n",
       "    </tr>\n",
       "  </tbody>\n",
       "</table>\n",
       "</div>"
      ],
      "text/plain": [
       "                         Correlación con la target\n",
       "PageValues                                0.492317\n",
       "ExitRates                                -0.206145\n",
       "ProductRelated                            0.157624\n",
       "ProductRelated_Duration                   0.151528\n",
       "BounceRates                              -0.149348\n",
       "Administrative                            0.137970\n",
       "Informational                             0.094672\n",
       "Administrative_Duration                   0.092911\n",
       "SpecialDay                               -0.082632\n",
       "Informational_Duration                    0.069984"
      ]
     },
     "execution_count": 32,
     "metadata": {},
     "output_type": "execute_result"
    }
   ],
   "source": [
    "# variables con mayor correlación con la target \n",
    "\n",
    "correlaciones_target = matriz_correlaciones.values[ -1, : -1]\n",
    "indices_inversos =  abs(correlaciones_target[ : ]).argsort()[ : : -1]\n",
    "diccionario = {}\n",
    "for nombre, correlacion in zip( XY_correlaciones.columns[indices_inversos], list(correlaciones_target[indices_inversos] ) ):\n",
    "    diccionario[nombre] = correlacion\n",
    "pd.DataFrame.from_dict(diccionario, orient='index', columns=['Correlación con la target'])"
   ]
  },
  {
   "cell_type": "markdown",
   "metadata": {},
   "source": [
    "**Analizamos los resultados**\n",
    "- Como era de esperar, hay correlaciones altas (tanto para el tipo de páginas Administrative como Informational como Product) entre el número de páginas vistas en una sesión y el tiempo invertido.\n",
    "    - Vamos a prescindir para nuestro modelo de una de las dos, ya que le estaríamos dando un protagonismo doble a esa variable que realmente nos está diciendo casi lo mismo: como los coeficientes de correlación son más altos respecto a la target para el número de páginas que para la duración, PRESCINDIMOS de las variables \"duration\"\n",
    "- Del mismo modo, gran correlación (0.9) entre Bounce rates y Exit rates\n",
    "    - PRESCINDIMOS de Bounce rates por tener menor correlación con la target\n",
    "    \n",
    "**Resumen: variables predictoras que incluiremos en el modelo**\n",
    "- 'Administrative'\n",
    "- 'Informational'\n",
    "- 'ProductRelated'\n",
    "- 'ExitRates'\n",
    "- 'PageValues'\n",
    "- 'SpecialDay'\n",
    "- 'OperatingSystems'\n",
    "- 'TrafficType'\n",
    "- 'VisitorType'\n",
    "- 'Weekend'"
   ]
  },
  {
   "cell_type": "markdown",
   "metadata": {},
   "source": [
    "# 3. Tratamiento de categóricas, pasándolas a numéricas por medio de dummies, mapeándolas o utilizando un label encoder. Hay que justificar las operaciones que se realizan.\n",
    "\n",
    "# 4. Si existe alguna variable que se necesite borrar, habrá que borrara y justificarlo.\n",
    "Se harán estos apartados conjuntamente\n",
    "\n",
    "La información obtenida en los puntos anteriores nos será útil para responder a estos apartados"
   ]
  },
  {
   "cell_type": "markdown",
   "metadata": {},
   "source": [
    "## Tratamos los outliers en las variables numéricas\n",
    "Para no afectar al modelo de regresión logística, se podría estudiar la opción de sustituir los outliers de cada variable numérica por un valor superior en 1.5 del rango intercuartílico. Sin embargo esto nos crea un problema, porque como ya hemos visto hay varias variables cuyo IQR es 0. Esas variables las tendremos que dummificar en 0 (no outlier) o 1 (sí outlier).\n",
    "\n",
    "Hay otras variables numéricas donde sí que podemos utilizar el criterio del IQR. Sería necesario hacer un estudio más a fondo del algoritmo para entender cómo afecta la importancia de cada variable si la introduces dummificada, la pérdida parcial de información al pasar de una variable con muchos valores posibles a una dummy...\n",
    "\n",
    "Decisión: dummificar todas las variables numéricas. Por sencillez, para tratar del mismo modo este tipo de variables, y porque en el EDA hemos visto que incluso dummificadas son buenas predictoras."
   ]
  },
  {
   "cell_type": "code",
   "execution_count": 33,
   "metadata": {},
   "outputs": [],
   "source": [
    "# Casi todas las dummies las teníamos calculadas anteriormente, simplemente las añadimos a un nuevo DataFrame\n",
    "# Añadimos SpecialDay dummificada\n",
    "\n",
    "X_predictoras = X_dummies.copy()\n",
    "X_predictoras['SpecialDay_isOL'] = np.where(X['SpecialDay'] == 0, 0, 1)"
   ]
  },
  {
   "cell_type": "markdown",
   "metadata": {},
   "source": [
    "## Mapeado de variables categóricas\n",
    "Sólo queda una categórica sin mapear \"VisitorType\", el resto o ya las hemos mapeado o ya eran numéricas en el dataset original"
   ]
  },
  {
   "cell_type": "code",
   "execution_count": 34,
   "metadata": {},
   "outputs": [],
   "source": [
    "# Añadimos sin más las que ya estaban mapeadas originalmente\n",
    "X_predictoras = pd.concat([X_predictoras, X[['OperatingSystems', 'TrafficType', 'Weekend']]], axis=1)"
   ]
  },
  {
   "cell_type": "code",
   "execution_count": 35,
   "metadata": {},
   "outputs": [],
   "source": [
    "visitor_mapeada = X['VisitorType'].map({'New_Visitor':0, 'Returning_Visitor':1, 'Other':2})\n",
    "X_predictoras = pd.concat([X_predictoras, visitor_mapeada], axis=1)"
   ]
  },
  {
   "cell_type": "code",
   "execution_count": 36,
   "metadata": {},
   "outputs": [],
   "source": [
    "X_predictoras.drop(['Administrative_Duration_isOL', 'Informational_Duration_isOL',\n",
    "                                    'ProductRelated_Duration_isOL', 'BounceRates_isOL'], axis=1, inplace=True)"
   ]
  },
  {
   "cell_type": "code",
   "execution_count": 37,
   "metadata": {},
   "outputs": [
    {
     "data": {
      "text/html": [
       "<div>\n",
       "<style scoped>\n",
       "    .dataframe tbody tr th:only-of-type {\n",
       "        vertical-align: middle;\n",
       "    }\n",
       "\n",
       "    .dataframe tbody tr th {\n",
       "        vertical-align: top;\n",
       "    }\n",
       "\n",
       "    .dataframe thead th {\n",
       "        text-align: right;\n",
       "    }\n",
       "</style>\n",
       "<table border=\"1\" class=\"dataframe\">\n",
       "  <thead>\n",
       "    <tr style=\"text-align: right;\">\n",
       "      <th></th>\n",
       "      <th>Administrative_isOL</th>\n",
       "      <th>Informational_isOL</th>\n",
       "      <th>ProductRelated_isOL</th>\n",
       "      <th>ExitRates_isOL</th>\n",
       "      <th>PageValues_isOL</th>\n",
       "      <th>SpecialDay_isOL</th>\n",
       "      <th>OperatingSystems</th>\n",
       "      <th>TrafficType</th>\n",
       "      <th>Weekend</th>\n",
       "      <th>VisitorType</th>\n",
       "    </tr>\n",
       "  </thead>\n",
       "  <tbody>\n",
       "    <tr>\n",
       "      <th>0</th>\n",
       "      <td>0</td>\n",
       "      <td>0</td>\n",
       "      <td>0</td>\n",
       "      <td>1</td>\n",
       "      <td>0</td>\n",
       "      <td>0</td>\n",
       "      <td>1</td>\n",
       "      <td>1</td>\n",
       "      <td>0</td>\n",
       "      <td>1</td>\n",
       "    </tr>\n",
       "    <tr>\n",
       "      <th>1</th>\n",
       "      <td>0</td>\n",
       "      <td>0</td>\n",
       "      <td>0</td>\n",
       "      <td>0</td>\n",
       "      <td>0</td>\n",
       "      <td>0</td>\n",
       "      <td>2</td>\n",
       "      <td>2</td>\n",
       "      <td>0</td>\n",
       "      <td>1</td>\n",
       "    </tr>\n",
       "    <tr>\n",
       "      <th>2</th>\n",
       "      <td>0</td>\n",
       "      <td>0</td>\n",
       "      <td>0</td>\n",
       "      <td>1</td>\n",
       "      <td>0</td>\n",
       "      <td>0</td>\n",
       "      <td>3</td>\n",
       "      <td>4</td>\n",
       "      <td>0</td>\n",
       "      <td>1</td>\n",
       "    </tr>\n",
       "    <tr>\n",
       "      <th>3</th>\n",
       "      <td>0</td>\n",
       "      <td>0</td>\n",
       "      <td>0</td>\n",
       "      <td>0</td>\n",
       "      <td>0</td>\n",
       "      <td>0</td>\n",
       "      <td>3</td>\n",
       "      <td>4</td>\n",
       "      <td>1</td>\n",
       "      <td>1</td>\n",
       "    </tr>\n",
       "    <tr>\n",
       "      <th>4</th>\n",
       "      <td>0</td>\n",
       "      <td>0</td>\n",
       "      <td>0</td>\n",
       "      <td>0</td>\n",
       "      <td>0</td>\n",
       "      <td>0</td>\n",
       "      <td>2</td>\n",
       "      <td>3</td>\n",
       "      <td>0</td>\n",
       "      <td>1</td>\n",
       "    </tr>\n",
       "  </tbody>\n",
       "</table>\n",
       "</div>"
      ],
      "text/plain": [
       "   Administrative_isOL  Informational_isOL  ProductRelated_isOL  \\\n",
       "0                    0                   0                    0   \n",
       "1                    0                   0                    0   \n",
       "2                    0                   0                    0   \n",
       "3                    0                   0                    0   \n",
       "4                    0                   0                    0   \n",
       "\n",
       "   ExitRates_isOL  PageValues_isOL  SpecialDay_isOL  OperatingSystems  \\\n",
       "0               1                0                0                 1   \n",
       "1               0                0                0                 2   \n",
       "2               1                0                0                 3   \n",
       "3               0                0                0                 3   \n",
       "4               0                0                0                 2   \n",
       "\n",
       "   TrafficType  Weekend  VisitorType  \n",
       "0            1        0            1  \n",
       "1            2        0            1  \n",
       "2            4        0            1  \n",
       "3            4        1            1  \n",
       "4            3        0            1  "
      ]
     },
     "execution_count": 37,
     "metadata": {},
     "output_type": "execute_result"
    }
   ],
   "source": [
    "X_predictoras.head()"
   ]
  },
  {
   "cell_type": "markdown",
   "metadata": {},
   "source": [
    "# 5. Estandariza los datos."
   ]
  },
  {
   "cell_type": "code",
   "execution_count": 38,
   "metadata": {},
   "outputs": [],
   "source": [
    "obj_escalar = StandardScaler()\n",
    "X_estandarizado = obj_escalar.fit_transform(X_predictoras)"
   ]
  },
  {
   "cell_type": "markdown",
   "metadata": {},
   "source": [
    "# 6. Dividir los datos en train y en test."
   ]
  },
  {
   "cell_type": "code",
   "execution_count": 39,
   "metadata": {},
   "outputs": [],
   "source": [
    "# Divido los datos, 20 % de tamaño de test\n",
    "X_train, X_test, Y_train, Y_test = train_test_split(X_predictoras, Y, test_size=0.2)"
   ]
  },
  {
   "cell_type": "markdown",
   "metadata": {},
   "source": [
    "    \n",
    "# 7. Optimizar algún parámetro de cada modelo utilizando CrossValidation y GridSearch, o de la forma que se estime oportuna, siempre justificándolo.\n",
    "\n",
    "\n",
    "- Utilizar un modelo lineal. Entre los modelos lineales están las regresiones logísticas, las regresiones lineales, etc.\n",
    "- Utilizar un modelo de redes neuronales.\n",
    "- Utilizar cualquier otro modelo de clasificación."
   ]
  },
  {
   "cell_type": "markdown",
   "metadata": {},
   "source": [
    "## Optimización de parámetros\n",
    "\n",
    "### Modelo: Regresión logística"
   ]
  },
  {
   "cell_type": "code",
   "execution_count": 41,
   "metadata": {},
   "outputs": [],
   "source": [
    "modelo_log = LogisticRegression()\n",
    "parametros_log = {\"C\": [0.01, 0.02, 0.03, 0.04, 0.05, 0.06, 0.07, 0.08, 0.09, 0.1], \n",
    "              \"class_weight\":['balanced', None]}"
   ]
  },
  {
   "cell_type": "code",
   "execution_count": 42,
   "metadata": {},
   "outputs": [
    {
     "data": {
      "text/plain": [
       "GridSearchCV(cv=5, error_score=nan,\n",
       "             estimator=LogisticRegression(C=1.0, class_weight=None, dual=False,\n",
       "                                          fit_intercept=True,\n",
       "                                          intercept_scaling=1, l1_ratio=None,\n",
       "                                          max_iter=100, multi_class='auto',\n",
       "                                          n_jobs=None, penalty='l2',\n",
       "                                          random_state=None, solver='lbfgs',\n",
       "                                          tol=0.0001, verbose=0,\n",
       "                                          warm_start=False),\n",
       "             iid='deprecated', n_jobs=None,\n",
       "             param_grid={'C': [0.01, 0.02, 0.03, 0.04, 0.05, 0.06, 0.07, 0.08,\n",
       "                               0.09, 0.1],\n",
       "                         'class_weight': ['balanced', None]},\n",
       "             pre_dispatch='2*n_jobs', refit=True, return_train_score=False,\n",
       "             scoring='roc_auc', verbose=0)"
      ]
     },
     "execution_count": 42,
     "metadata": {},
     "output_type": "execute_result"
    }
   ],
   "source": [
    "# Realizamos la CrossValidation con las combinaciones de parámetros definidas\n",
    "\n",
    "modelo_log_gs = GridSearchCV(modelo_log, param_grid=parametros_log,\n",
    "                         cv = 5, scoring='roc_auc')\n",
    "modelo_log_gs.fit(X_train, Y_train)"
   ]
  },
  {
   "cell_type": "code",
   "execution_count": 43,
   "metadata": {},
   "outputs": [
    {
     "name": "stdout",
     "output_type": "stream",
     "text": [
      "{'C': 0.04, 'class_weight': 'balanced'} \n",
      "ROC AUC: 0.8894\n"
     ]
    }
   ],
   "source": [
    "print(modelo_log_gs.best_params_, \"\\nROC AUC: {}\".format(round(modelo_log_gs.best_score_,4)))"
   ]
  },
  {
   "cell_type": "code",
   "execution_count": 44,
   "metadata": {},
   "outputs": [
    {
     "data": {
      "image/png": "[encoded data removed]",
      "text/plain": [
       "<Figure size 432x288 with 1 Axes>"
      ]
     },
     "metadata": {
      "needs_background": "light"
     },
     "output_type": "display_data"
    }
   ],
   "source": [
    "df_log_search = pd.DataFrame.from_dict(modelo_log_gs.cv_results_)\n",
    "_ = plt.plot( df_log_search['param_C'], df_log_search['mean_test_score'], '.')\n",
    "plt.xlabel('C')\n",
    "plt.ylabel('roc_auc')\n",
    "plt.show()"
   ]
  },
  {
   "cell_type": "markdown",
   "metadata": {},
   "source": [
    "### Modelo: Árbol de decisión"
   ]
  },
  {
   "cell_type": "code",
   "execution_count": 45,
   "metadata": {},
   "outputs": [
    {
     "data": {
      "text/plain": [
       "GridSearchCV(cv=3, error_score=nan,\n",
       "             estimator=DecisionTreeClassifier(ccp_alpha=0.0, class_weight=None,\n",
       "                                              criterion='gini', max_depth=None,\n",
       "                                              max_features=None,\n",
       "                                              max_leaf_nodes=None,\n",
       "                                              min_impurity_decrease=0.0,\n",
       "                                              min_impurity_split=None,\n",
       "                                              min_samples_leaf=1,\n",
       "                                              min_samples_split=2,\n",
       "                                              min_weight_fraction_leaf=0.0,\n",
       "                                              presort='deprecated',\n",
       "                                              random_state=None,\n",
       "                                              splitter='best'),\n",
       "             iid='deprecated', n_jobs=None,\n",
       "             param_grid={'max_depth': range(3, 7)}, pre_dispatch='2*n_jobs',\n",
       "             refit=True, return_train_score=False, scoring='roc_auc',\n",
       "             verbose=0)"
      ]
     },
     "execution_count": 45,
     "metadata": {},
     "output_type": "execute_result"
    }
   ],
   "source": [
    "modelo_arb = DecisionTreeClassifier()\n",
    "\n",
    "params_arb = {\"max_depth\": range(3, 7)} \n",
    "\n",
    "modelo_arb_gs = GridSearchCV(modelo_arb, params_arb, cv=3, scoring='roc_auc')\n",
    "\n",
    "modelo_arb_gs.fit(X_train, Y_train)"
   ]
  },
  {
   "cell_type": "code",
   "execution_count": 46,
   "metadata": {},
   "outputs": [
    {
     "name": "stdout",
     "output_type": "stream",
     "text": [
      "{'max_depth': 5} \n",
      "ROC AUC: 0.8946\n"
     ]
    }
   ],
   "source": [
    "print(modelo_arb_gs.best_params_, \"\\nROC AUC: {}\".format(round(modelo_arb_gs.best_score_,4)))"
   ]
  },
  {
   "cell_type": "code",
   "execution_count": 47,
   "metadata": {},
   "outputs": [
    {
     "data": {
      "text/html": [
       "<div>\n",
       "<style scoped>\n",
       "    .dataframe tbody tr th:only-of-type {\n",
       "        vertical-align: middle;\n",
       "    }\n",
       "\n",
       "    .dataframe tbody tr th {\n",
       "        vertical-align: top;\n",
       "    }\n",
       "\n",
       "    .dataframe thead th {\n",
       "        text-align: right;\n",
       "    }\n",
       "</style>\n",
       "<table border=\"1\" class=\"dataframe\">\n",
       "  <thead>\n",
       "    <tr style=\"text-align: right;\">\n",
       "      <th></th>\n",
       "      <th>params</th>\n",
       "      <th>mean_test_score</th>\n",
       "    </tr>\n",
       "  </thead>\n",
       "  <tbody>\n",
       "    <tr>\n",
       "      <th>0</th>\n",
       "      <td>{'max_depth': 3}</td>\n",
       "      <td>0.878870</td>\n",
       "    </tr>\n",
       "    <tr>\n",
       "      <th>1</th>\n",
       "      <td>{'max_depth': 4}</td>\n",
       "      <td>0.890017</td>\n",
       "    </tr>\n",
       "    <tr>\n",
       "      <th>2</th>\n",
       "      <td>{'max_depth': 5}</td>\n",
       "      <td>0.894573</td>\n",
       "    </tr>\n",
       "    <tr>\n",
       "      <th>3</th>\n",
       "      <td>{'max_depth': 6}</td>\n",
       "      <td>0.893255</td>\n",
       "    </tr>\n",
       "  </tbody>\n",
       "</table>\n",
       "</div>"
      ],
      "text/plain": [
       "             params  mean_test_score\n",
       "0  {'max_depth': 3}         0.878870\n",
       "1  {'max_depth': 4}         0.890017\n",
       "2  {'max_depth': 5}         0.894573\n",
       "3  {'max_depth': 6}         0.893255"
      ]
     },
     "execution_count": 47,
     "metadata": {},
     "output_type": "execute_result"
    }
   ],
   "source": [
    "df_arb_search = pd.DataFrame.from_dict(modelo_arb_gs.cv_results_)\n",
    "df_arb_search[['params', 'mean_test_score']]"
   ]
  },
  {
   "cell_type": "markdown",
   "metadata": {},
   "source": [
    "### Redes neuronales"
   ]
  },
  {
   "cell_type": "code",
   "execution_count": 48,
   "metadata": {},
   "outputs": [],
   "source": [
    "modelo_rn = MLPClassifier()\n",
    "parametros_rn = {'solver': ['lbfgs'], \n",
    "              'max_iter': [100,300,500], # Iteraciones máximas en cada red\n",
    "              'alpha': 10.0 ** -np.arange(1, 4), # Parámetro de regularización L2 para evitar sobreajuste\n",
    "              'hidden_layer_sizes':np.arange(30, 35)} # Número de neuronas en cada capa"
   ]
  },
  {
   "cell_type": "code",
   "execution_count": 49,
   "metadata": {},
   "outputs": [
    {
     "data": {
      "text/plain": [
       "GridSearchCV(cv=3, error_score=nan,\n",
       "             estimator=MLPClassifier(activation='relu', alpha=0.0001,\n",
       "                                     batch_size='auto', beta_1=0.9,\n",
       "                                     beta_2=0.999, early_stopping=False,\n",
       "                                     epsilon=1e-08, hidden_layer_sizes=(100,),\n",
       "                                     learning_rate='constant',\n",
       "                                     learning_rate_init=0.001, max_fun=15000,\n",
       "                                     max_iter=200, momentum=0.9,\n",
       "                                     n_iter_no_change=10,\n",
       "                                     nesterovs_momentum=True, power_t=0.5,\n",
       "                                     random_state=None, shuffle=True,\n",
       "                                     solver='adam', tol=0.0001,\n",
       "                                     validation_fraction=0.1, verbose=False,\n",
       "                                     warm_start=False),\n",
       "             iid='deprecated', n_jobs=-1,\n",
       "             param_grid={'alpha': array([0.1  , 0.01 , 0.001]),\n",
       "                         'hidden_layer_sizes': array([30, 31, 32, 33, 34]),\n",
       "                         'max_iter': [100, 300, 500], 'solver': ['lbfgs']},\n",
       "             pre_dispatch='2*n_jobs', refit=True, return_train_score=False,\n",
       "             scoring='roc_auc', verbose=0)"
      ]
     },
     "execution_count": 49,
     "metadata": {},
     "output_type": "execute_result"
    }
   ],
   "source": [
    "modelo_gs_rn = GridSearchCV(modelo_rn, param_grid=parametros_rn, cv = 3, \n",
    "                         scoring='roc_auc', n_jobs=-1)\n",
    "modelo_gs_rn.fit(X_train, Y_train)"
   ]
  },
  {
   "cell_type": "code",
   "execution_count": 50,
   "metadata": {
    "scrolled": true
   },
   "outputs": [
    {
     "name": "stdout",
     "output_type": "stream",
     "text": [
      "{'alpha': 0.1, 'hidden_layer_sizes': 33, 'max_iter': 300, 'solver': 'lbfgs'} \n",
      "ROC AUC: 0.9022\n"
     ]
    }
   ],
   "source": [
    "print(modelo_gs_rn.best_params_, \"\\nROC AUC: {}\".format(round(modelo_gs_rn.best_score_,4)))"
   ]
  },
  {
   "cell_type": "markdown",
   "metadata": {},
   "source": [
    "\n",
    "# 8. Elegir el mejor modelo de los tres según la métrica ROC en CrossValidation. Predecir Test y obtener una métrica estimada."
   ]
  },
  {
   "cell_type": "markdown",
   "metadata": {},
   "source": [
    "Escogemos Redes neuronales, por obtener la ROC AUC más alta.\n",
    "\n",
    "En primer lugar, lo vamos a entrenar con todos los datos, ya sin cross validation.\n",
    "\n",
    "En segundo lugar, vamos a realizar las predicciones para todo el array de test, y las vamos a comparar con los valores reales. Obtendremos alguna métrica sencilla."
   ]
  },
  {
   "cell_type": "code",
   "execution_count": 51,
   "metadata": {},
   "outputs": [],
   "source": [
    "mejor_modelo = MLPClassifier(**modelo_gs_rn.best_params_)"
   ]
  },
  {
   "cell_type": "code",
   "execution_count": 52,
   "metadata": {},
   "outputs": [
    {
     "data": {
      "text/plain": [
       "MLPClassifier(activation='relu', alpha=0.1, batch_size='auto', beta_1=0.9,\n",
       "              beta_2=0.999, early_stopping=False, epsilon=1e-08,\n",
       "              hidden_layer_sizes=33, learning_rate='constant',\n",
       "              learning_rate_init=0.001, max_fun=15000, max_iter=300,\n",
       "              momentum=0.9, n_iter_no_change=10, nesterovs_momentum=True,\n",
       "              power_t=0.5, random_state=None, shuffle=True, solver='lbfgs',\n",
       "              tol=0.0001, validation_fraction=0.1, verbose=False,\n",
       "              warm_start=False)"
      ]
     },
     "execution_count": 52,
     "metadata": {},
     "output_type": "execute_result"
    }
   ],
   "source": [
    "mejor_modelo.fit(X_train, Y_train)"
   ]
  },
  {
   "cell_type": "code",
   "execution_count": 53,
   "metadata": {
    "scrolled": true
   },
   "outputs": [
    {
     "data": {
      "image/png": "[encoded data removed]",
      "text/plain": [
       "<Figure size 432x288 with 1 Axes>"
      ]
     },
     "metadata": {
      "needs_background": "light"
     },
     "output_type": "display_data"
    }
   ],
   "source": [
    "# Representa los histogramas de probabilidad de las predicciones en Test\n",
    "Y_test_pred_prob = mejor_modelo.predict_proba(X_test)\n",
    "Y_test_pred_prob_pos = Y_test_pred_prob[np.where(Y_test == 1)[0]]\n",
    "Y_test_pred_prob_neg = Y_test_pred_prob[np.where(Y_test == 0)[0]]\n",
    "\n",
    "represento_doble_hist(Y_test_pred_prob_pos[:, 1], Y_test_pred_prob_neg[:, 1], n_bins=21)"
   ]
  },
  {
   "cell_type": "code",
   "execution_count": 54,
   "metadata": {
    "scrolled": true
   },
   "outputs": [
    {
     "name": "stdout",
     "output_type": "stream",
     "text": [
      "Matriz de confusión\n",
      " [[1945  110]\n",
      " [ 197  205]]\n",
      "\n",
      "ROC AUC\n",
      " 0.7282111341104696\n"
     ]
    }
   ],
   "source": [
    "# Matriz de confusión, considerando el umbral de corte en 0.5 de probabilidad estimada\n",
    "\n",
    "Y_umbralizadas = 1*(Y_test_pred_prob[:, 1] > 0.5)\n",
    "print(u\"Matriz de confusión\\n\", metrics.confusion_matrix(Y_test, Y_umbralizadas))\n",
    "print(u\"\\nROC AUC\\n\", metrics.roc_auc_score(Y_test, Y_umbralizadas))"
   ]
  },
  {
   "cell_type": "markdown",
   "metadata": {},
   "source": [
    "# 9. Umbralizar las probabilidades, valorar métricas."
   ]
  },
  {
   "cell_type": "markdown",
   "metadata": {},
   "source": [
    "Vamos a calcular métricas para diferentes umbrales de corte, y vamos a usar esta información conjuntamente con el doble histograma creado más arriba."
   ]
  },
  {
   "cell_type": "code",
   "execution_count": 55,
   "metadata": {},
   "outputs": [],
   "source": [
    "# Inicialmente probamos valores umbrales a lo largo del rango 0-1\n",
    "\n",
    "metricas ={}\n",
    "for umbral in [0.1, 0.2, 0.3, 0.5, 0.6, 0.8]:\n",
    "    Y_umbralizadas = 1*(Y_test_pred_prob[:, 1] > umbral)\n",
    "    metricas[umbral] = [metrics.recall_score(Y_test, Y_umbralizadas), metrics.precision_score(Y_test, Y_umbralizadas), \\\n",
    "                      metrics.f1_score(Y_test, Y_umbralizadas), metrics.accuracy_score(Y_test, Y_umbralizadas)]\n"
   ]
  },
  {
   "cell_type": "code",
   "execution_count": 56,
   "metadata": {},
   "outputs": [
    {
     "data": {
      "text/html": [
       "<div>\n",
       "<style scoped>\n",
       "    .dataframe tbody tr th:only-of-type {\n",
       "        vertical-align: middle;\n",
       "    }\n",
       "\n",
       "    .dataframe tbody tr th {\n",
       "        vertical-align: top;\n",
       "    }\n",
       "\n",
       "    .dataframe thead th {\n",
       "        text-align: right;\n",
       "    }\n",
       "</style>\n",
       "<table border=\"1\" class=\"dataframe\">\n",
       "  <thead>\n",
       "    <tr style=\"text-align: right;\">\n",
       "      <th></th>\n",
       "      <th>0.1</th>\n",
       "      <th>0.2</th>\n",
       "      <th>0.3</th>\n",
       "      <th>0.5</th>\n",
       "      <th>0.6</th>\n",
       "      <th>0.8</th>\n",
       "    </tr>\n",
       "  </thead>\n",
       "  <tbody>\n",
       "    <tr>\n",
       "      <th>Sensitividad</th>\n",
       "      <td>0.815920</td>\n",
       "      <td>0.756219</td>\n",
       "      <td>0.723881</td>\n",
       "      <td>0.509950</td>\n",
       "      <td>0.407960</td>\n",
       "      <td>0.161692</td>\n",
       "    </tr>\n",
       "    <tr>\n",
       "      <th>Precision</th>\n",
       "      <td>0.508527</td>\n",
       "      <td>0.566108</td>\n",
       "      <td>0.587879</td>\n",
       "      <td>0.650794</td>\n",
       "      <td>0.735426</td>\n",
       "      <td>0.902778</td>\n",
       "    </tr>\n",
       "    <tr>\n",
       "      <th>F1-score</th>\n",
       "      <td>0.626552</td>\n",
       "      <td>0.647497</td>\n",
       "      <td>0.648829</td>\n",
       "      <td>0.571827</td>\n",
       "      <td>0.524800</td>\n",
       "      <td>0.274262</td>\n",
       "    </tr>\n",
       "    <tr>\n",
       "      <th>Accuracy</th>\n",
       "      <td>0.840863</td>\n",
       "      <td>0.865283</td>\n",
       "      <td>0.871795</td>\n",
       "      <td>0.875051</td>\n",
       "      <td>0.879121</td>\n",
       "      <td>0.859992</td>\n",
       "    </tr>\n",
       "  </tbody>\n",
       "</table>\n",
       "</div>"
      ],
      "text/plain": [
       "                   0.1       0.2       0.3       0.5       0.6       0.8\n",
       "Sensitividad  0.815920  0.756219  0.723881  0.509950  0.407960  0.161692\n",
       "Precision     0.508527  0.566108  0.587879  0.650794  0.735426  0.902778\n",
       "F1-score      0.626552  0.647497  0.648829  0.571827  0.524800  0.274262\n",
       "Accuracy      0.840863  0.865283  0.871795  0.875051  0.879121  0.859992"
      ]
     },
     "execution_count": 56,
     "metadata": {},
     "output_type": "execute_result"
    }
   ],
   "source": [
    "pd.DataFrame.from_dict(metricas).rename(index={0:'Sensitividad', 1:'Precision', 2:'F1-score', 3:'Accuracy'})"
   ]
  },
  {
   "cell_type": "markdown",
   "metadata": {},
   "source": [
    "Utilizando el F1-score como referencia, vemos que el umbral más adecuado se sitúa entre los valores 0.2 y 0.3, lo cual concuerda con lo que se podía intuir a simple vista al observar el doble histograma dibujado más arriba.\n",
    "\n",
    "Vamos a explorar con más detalle las métricas en esos rangos de valores."
   ]
  },
  {
   "cell_type": "code",
   "execution_count": 62,
   "metadata": {},
   "outputs": [],
   "source": [
    "metricas ={}\n",
    "for umbral in [0.18, 0.2, 0.24, 0.28, 0.3, 0.32]:\n",
    "    Y_umbralizadas = 1*(Y_test_pred_prob[:, 1] > umbral)\n",
    "    metricas[umbral] = [metrics.recall_score(Y_test, Y_umbralizadas), metrics.precision_score(Y_test, Y_umbralizadas), \\\n",
    "                      metrics.f1_score(Y_test, Y_umbralizadas), metrics.accuracy_score(Y_test, Y_umbralizadas)]"
   ]
  },
  {
   "cell_type": "code",
   "execution_count": 63,
   "metadata": {},
   "outputs": [
    {
     "data": {
      "text/html": [
       "<div>\n",
       "<style scoped>\n",
       "    .dataframe tbody tr th:only-of-type {\n",
       "        vertical-align: middle;\n",
       "    }\n",
       "\n",
       "    .dataframe tbody tr th {\n",
       "        vertical-align: top;\n",
       "    }\n",
       "\n",
       "    .dataframe thead th {\n",
       "        text-align: right;\n",
       "    }\n",
       "</style>\n",
       "<table border=\"1\" class=\"dataframe\">\n",
       "  <thead>\n",
       "    <tr style=\"text-align: right;\">\n",
       "      <th></th>\n",
       "      <th>0.18</th>\n",
       "      <th>0.20</th>\n",
       "      <th>0.24</th>\n",
       "      <th>0.28</th>\n",
       "      <th>0.30</th>\n",
       "      <th>0.32</th>\n",
       "    </tr>\n",
       "  </thead>\n",
       "  <tbody>\n",
       "    <tr>\n",
       "      <th>Sensitividad</th>\n",
       "      <td>0.761194</td>\n",
       "      <td>0.756219</td>\n",
       "      <td>0.743781</td>\n",
       "      <td>0.736318</td>\n",
       "      <td>0.723881</td>\n",
       "      <td>0.708955</td>\n",
       "    </tr>\n",
       "    <tr>\n",
       "      <th>Precision</th>\n",
       "      <td>0.562500</td>\n",
       "      <td>0.566108</td>\n",
       "      <td>0.582846</td>\n",
       "      <td>0.589641</td>\n",
       "      <td>0.587879</td>\n",
       "      <td>0.593750</td>\n",
       "    </tr>\n",
       "    <tr>\n",
       "      <th>F1-score</th>\n",
       "      <td>0.646934</td>\n",
       "      <td>0.647497</td>\n",
       "      <td>0.653552</td>\n",
       "      <td>0.654867</td>\n",
       "      <td>0.648829</td>\n",
       "      <td>0.646259</td>\n",
       "    </tr>\n",
       "    <tr>\n",
       "      <th>Accuracy</th>\n",
       "      <td>0.864062</td>\n",
       "      <td>0.865283</td>\n",
       "      <td>0.870981</td>\n",
       "      <td>0.873016</td>\n",
       "      <td>0.871795</td>\n",
       "      <td>0.873016</td>\n",
       "    </tr>\n",
       "  </tbody>\n",
       "</table>\n",
       "</div>"
      ],
      "text/plain": [
       "                  0.18      0.20      0.24      0.28      0.30      0.32\n",
       "Sensitividad  0.761194  0.756219  0.743781  0.736318  0.723881  0.708955\n",
       "Precision     0.562500  0.566108  0.582846  0.589641  0.587879  0.593750\n",
       "F1-score      0.646934  0.647497  0.653552  0.654867  0.648829  0.646259\n",
       "Accuracy      0.864062  0.865283  0.870981  0.873016  0.871795  0.873016"
      ]
     },
     "execution_count": 63,
     "metadata": {},
     "output_type": "execute_result"
    }
   ],
   "source": [
    "pd.DataFrame.from_dict(metricas).rename(index={0:'Sensitividad', 1:'Precision', 2:'F1-score', 3:'Accuracy'})"
   ]
  },
  {
   "cell_type": "markdown",
   "metadata": {},
   "source": [
    "Nos quedamos con **0.28** como la probabilidad que vamos a utilizar como umbral"
   ]
  },
  {
   "cell_type": "code",
   "execution_count": 64,
   "metadata": {},
   "outputs": [
    {
     "name": "stdout",
     "output_type": "stream",
     "text": [
      "Matriz de confusión\n",
      " [[1849  206]\n",
      " [ 106  296]]\n"
     ]
    }
   ],
   "source": [
    "# Matriz de confusión, considerando el umbral de corte elegido.\n",
    "\n",
    "Y_umbralizadas = 1*(Y_test_pred_prob[:, 1] > 0.28)\n",
    "print(u\"Matriz de confusión\\n\", metrics.confusion_matrix(Y_test, Y_umbralizadas))"
   ]
  }
 ],
 "metadata": {
  "kernelspec": {
   "display_name": "Python 3",
   "language": "python",
   "name": "python3"
  },
  "language_info": {
   "codemirror_mode": {
    "name": "ipython",
    "version": 3
   },
   "file_extension": ".py",
   "mimetype": "text/x-python",
   "name": "python",
   "nbconvert_exporter": "python",
   "pygments_lexer": "ipython3",
   "version": "3.7.7"
  }
 },
 "nbformat": 4,
 "nbformat_minor": 4
}
